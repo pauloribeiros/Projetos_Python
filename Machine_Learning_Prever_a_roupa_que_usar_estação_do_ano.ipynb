{
  "nbformat": 4,
  "nbformat_minor": 0,
  "metadata": {
    "colab": {
      "name": "Modelo Machine Learning - Prever estação do ano.ipynb",
      "provenance": []
    },
    "kernelspec": {
      "name": "python3",
      "display_name": "Python 3"
    }
  },
  "cells": [
    {
      "cell_type": "code",
      "metadata": {
        "id": "UwfxZePU1AyX"
      },
      "source": [
        "import pandas as pd\n",
        "\n",
        "import matplotlib.pyplot as plt\n",
        "import seaborn as sns\n",
        "\n",
        "from sklearn import preprocessing\n",
        "from sklearn.model_selection import train_test_split\n",
        "from sklearn.preprocessing import OrdinalEncoder\n",
        "\n",
        "from sklearn.feature_selection import SelectKBest\n",
        "from sklearn.feature_selection import chi2\n",
        "\n",
        "from sklearn.tree import DecisionTreeClassifier\n",
        "\n",
        "sns.set(style=\"whitegrid\")"
      ],
      "execution_count": null,
      "outputs": []
    },
    {
      "cell_type": "markdown",
      "metadata": {
        "id": "hta_ZvEI80FI"
      },
      "source": [
        "# 1. Importando os dados\n"
      ]
    },
    {
      "cell_type": "code",
      "metadata": {
        "id": "fRn34igm1Eka"
      },
      "source": [
        "# Ler dados de um CSV e coloca em um dataframe\n",
        "\n",
        "df = pd.read_csv(\"https://raw.githubusercontent.com/widsrecife/dados/master/Sessao_1/Attribute%20DataSet.csv\")"
      ],
      "execution_count": null,
      "outputs": []
    },
    {
      "cell_type": "markdown",
      "metadata": {
        "id": "BvHc7GGGpZ1r"
      },
      "source": [
        "![Anatomia de um Dataframe, fonte: https://medium.com/dunder-data/selecting-subsets-of-data-in-pandas-6fcd0170be9c](https://miro.medium.com/max/2516/1*ZSehcrMtBWN7_qCWq_HiSg.png)\n",
        "Anatomia de um Dataframe, fonte: https://medium.com/dunder-data/selecting-subsets-of-data-in-pandas-6fcd0170be9c"
      ]
    },
    {
      "cell_type": "markdown",
      "metadata": {
        "id": "bNiQMk9s8-oC"
      },
      "source": [
        "## 2. Vendo as primeiras linhas dos dados"
      ]
    },
    {
      "cell_type": "code",
      "metadata": {
        "id": "SBVRqvJp3GZH",
        "colab": {
          "base_uri": "https://localhost:8080/",
          "height": 241
        },
        "outputId": "1328a704-cabd-4f23-acaf-16d3ef490aaf"
      },
      "source": [
        "df.head()"
      ],
      "execution_count": null,
      "outputs": [
        {
          "output_type": "execute_result",
          "data": {
            "text/html": [
              "<div>\n",
              "<style scoped>\n",
              "    .dataframe tbody tr th:only-of-type {\n",
              "        vertical-align: middle;\n",
              "    }\n",
              "\n",
              "    .dataframe tbody tr th {\n",
              "        vertical-align: top;\n",
              "    }\n",
              "\n",
              "    .dataframe thead th {\n",
              "        text-align: right;\n",
              "    }\n",
              "</style>\n",
              "<table border=\"1\" class=\"dataframe\">\n",
              "  <thead>\n",
              "    <tr style=\"text-align: right;\">\n",
              "      <th></th>\n",
              "      <th>Dress_ID</th>\n",
              "      <th>Style</th>\n",
              "      <th>Price</th>\n",
              "      <th>Rating</th>\n",
              "      <th>Size</th>\n",
              "      <th>Season</th>\n",
              "      <th>NeckLine</th>\n",
              "      <th>SleeveLength</th>\n",
              "      <th>waiseline</th>\n",
              "      <th>Material</th>\n",
              "      <th>FabricType</th>\n",
              "      <th>Decoration</th>\n",
              "      <th>Pattern Type</th>\n",
              "      <th>Recommendation</th>\n",
              "    </tr>\n",
              "  </thead>\n",
              "  <tbody>\n",
              "    <tr>\n",
              "      <th>0</th>\n",
              "      <td>1006032852</td>\n",
              "      <td>Sexy</td>\n",
              "      <td>Low</td>\n",
              "      <td>4.6</td>\n",
              "      <td>M</td>\n",
              "      <td>Summer</td>\n",
              "      <td>o-neck</td>\n",
              "      <td>sleevless</td>\n",
              "      <td>empire</td>\n",
              "      <td>NaN</td>\n",
              "      <td>chiffon</td>\n",
              "      <td>ruffles</td>\n",
              "      <td>animal</td>\n",
              "      <td>1</td>\n",
              "    </tr>\n",
              "    <tr>\n",
              "      <th>1</th>\n",
              "      <td>1212192089</td>\n",
              "      <td>Casual</td>\n",
              "      <td>Low</td>\n",
              "      <td>0.0</td>\n",
              "      <td>L</td>\n",
              "      <td>Summer</td>\n",
              "      <td>o-neck</td>\n",
              "      <td>Petal</td>\n",
              "      <td>natural</td>\n",
              "      <td>microfiber</td>\n",
              "      <td>NaN</td>\n",
              "      <td>ruffles</td>\n",
              "      <td>animal</td>\n",
              "      <td>0</td>\n",
              "    </tr>\n",
              "    <tr>\n",
              "      <th>2</th>\n",
              "      <td>1190380701</td>\n",
              "      <td>vintage</td>\n",
              "      <td>High</td>\n",
              "      <td>0.0</td>\n",
              "      <td>L</td>\n",
              "      <td>Automn</td>\n",
              "      <td>o-neck</td>\n",
              "      <td>full</td>\n",
              "      <td>natural</td>\n",
              "      <td>polyster</td>\n",
              "      <td>NaN</td>\n",
              "      <td>NaN</td>\n",
              "      <td>print</td>\n",
              "      <td>0</td>\n",
              "    </tr>\n",
              "    <tr>\n",
              "      <th>3</th>\n",
              "      <td>966005983</td>\n",
              "      <td>Brief</td>\n",
              "      <td>Average</td>\n",
              "      <td>4.6</td>\n",
              "      <td>L</td>\n",
              "      <td>Spring</td>\n",
              "      <td>o-neck</td>\n",
              "      <td>full</td>\n",
              "      <td>natural</td>\n",
              "      <td>silk</td>\n",
              "      <td>chiffon</td>\n",
              "      <td>embroidary</td>\n",
              "      <td>print</td>\n",
              "      <td>1</td>\n",
              "    </tr>\n",
              "    <tr>\n",
              "      <th>4</th>\n",
              "      <td>876339541</td>\n",
              "      <td>cute</td>\n",
              "      <td>Low</td>\n",
              "      <td>4.5</td>\n",
              "      <td>M</td>\n",
              "      <td>Summer</td>\n",
              "      <td>o-neck</td>\n",
              "      <td>butterfly</td>\n",
              "      <td>natural</td>\n",
              "      <td>chiffonfabric</td>\n",
              "      <td>chiffon</td>\n",
              "      <td>bow</td>\n",
              "      <td>dot</td>\n",
              "      <td>0</td>\n",
              "    </tr>\n",
              "  </tbody>\n",
              "</table>\n",
              "</div>"
            ],
            "text/plain": [
              "     Dress_ID    Style    Price  ...  Decoration Pattern Type Recommendation\n",
              "0  1006032852     Sexy      Low  ...     ruffles       animal              1\n",
              "1  1212192089   Casual      Low  ...     ruffles       animal              0\n",
              "2  1190380701  vintage     High  ...         NaN        print              0\n",
              "3   966005983    Brief  Average  ...  embroidary        print              1\n",
              "4   876339541     cute      Low  ...         bow          dot              0\n",
              "\n",
              "[5 rows x 14 columns]"
            ]
          },
          "metadata": {
            "tags": []
          },
          "execution_count": 5
        }
      ]
    },
    {
      "cell_type": "markdown",
      "metadata": {
        "id": "ksAoojks9DqW"
      },
      "source": [
        "## 3. Listando as colunas dos dados"
      ]
    },
    {
      "cell_type": "code",
      "metadata": {
        "id": "ZWO8YYQd62um",
        "colab": {
          "base_uri": "https://localhost:8080/",
          "height": 89
        },
        "outputId": "c2c63d7f-024c-446d-d80b-8957e73cdb3e"
      },
      "source": [
        "df.columns"
      ],
      "execution_count": null,
      "outputs": [
        {
          "output_type": "execute_result",
          "data": {
            "text/plain": [
              "Index(['Dress_ID', 'Style', 'Price', 'Rating', 'Size', 'Season', 'NeckLine',\n",
              "       'SleeveLength', 'waiseline', 'Material', 'FabricType', 'Decoration',\n",
              "       'Pattern Type', 'Recommendation'],\n",
              "      dtype='object')"
            ]
          },
          "metadata": {
            "tags": []
          },
          "execution_count": 6
        }
      ]
    },
    {
      "cell_type": "markdown",
      "metadata": {
        "id": "cvKPB0IS75JS"
      },
      "source": [
        "## 4. Que colunas são úteis para prever a estação do ano que o vestido deve ser utilizado?"
      ]
    },
    {
      "cell_type": "code",
      "metadata": {
        "id": "DXMcfh7L7fKL"
      },
      "source": [
        "# O pandas tem várias formas de selecionar linhas e colundas ([], .loc, .iloc)\n",
        "#   aqui vamos usar o [] (indexing operator) onde a gente passa uma lista com as colunas que queremos selecionar\n",
        "\n",
        "df_colunas_utilizadas = df[[\"Style\",\"NeckLine\",\"SleeveLength\",\"Material\",\"FabricType\",\"Decoration\"]]"
      ],
      "execution_count": null,
      "outputs": []
    },
    {
      "cell_type": "code",
      "metadata": {
        "id": "9tajktXS8YrW",
        "colab": {
          "base_uri": "https://localhost:8080/",
          "height": 204
        },
        "outputId": "04a3235e-8d6d-4e7d-b326-3845028a0599"
      },
      "source": [
        "df_colunas_utilizadas.head()"
      ],
      "execution_count": null,
      "outputs": [
        {
          "output_type": "execute_result",
          "data": {
            "text/html": [
              "<div>\n",
              "<style scoped>\n",
              "    .dataframe tbody tr th:only-of-type {\n",
              "        vertical-align: middle;\n",
              "    }\n",
              "\n",
              "    .dataframe tbody tr th {\n",
              "        vertical-align: top;\n",
              "    }\n",
              "\n",
              "    .dataframe thead th {\n",
              "        text-align: right;\n",
              "    }\n",
              "</style>\n",
              "<table border=\"1\" class=\"dataframe\">\n",
              "  <thead>\n",
              "    <tr style=\"text-align: right;\">\n",
              "      <th></th>\n",
              "      <th>Style</th>\n",
              "      <th>NeckLine</th>\n",
              "      <th>SleeveLength</th>\n",
              "      <th>Material</th>\n",
              "      <th>FabricType</th>\n",
              "      <th>Decoration</th>\n",
              "    </tr>\n",
              "  </thead>\n",
              "  <tbody>\n",
              "    <tr>\n",
              "      <th>0</th>\n",
              "      <td>Sexy</td>\n",
              "      <td>o-neck</td>\n",
              "      <td>sleevless</td>\n",
              "      <td>NaN</td>\n",
              "      <td>chiffon</td>\n",
              "      <td>ruffles</td>\n",
              "    </tr>\n",
              "    <tr>\n",
              "      <th>1</th>\n",
              "      <td>Casual</td>\n",
              "      <td>o-neck</td>\n",
              "      <td>Petal</td>\n",
              "      <td>microfiber</td>\n",
              "      <td>NaN</td>\n",
              "      <td>ruffles</td>\n",
              "    </tr>\n",
              "    <tr>\n",
              "      <th>2</th>\n",
              "      <td>vintage</td>\n",
              "      <td>o-neck</td>\n",
              "      <td>full</td>\n",
              "      <td>polyster</td>\n",
              "      <td>NaN</td>\n",
              "      <td>NaN</td>\n",
              "    </tr>\n",
              "    <tr>\n",
              "      <th>3</th>\n",
              "      <td>Brief</td>\n",
              "      <td>o-neck</td>\n",
              "      <td>full</td>\n",
              "      <td>silk</td>\n",
              "      <td>chiffon</td>\n",
              "      <td>embroidary</td>\n",
              "    </tr>\n",
              "    <tr>\n",
              "      <th>4</th>\n",
              "      <td>cute</td>\n",
              "      <td>o-neck</td>\n",
              "      <td>butterfly</td>\n",
              "      <td>chiffonfabric</td>\n",
              "      <td>chiffon</td>\n",
              "      <td>bow</td>\n",
              "    </tr>\n",
              "  </tbody>\n",
              "</table>\n",
              "</div>"
            ],
            "text/plain": [
              "     Style NeckLine SleeveLength       Material FabricType  Decoration\n",
              "0     Sexy   o-neck    sleevless            NaN    chiffon     ruffles\n",
              "1   Casual   o-neck        Petal     microfiber        NaN     ruffles\n",
              "2  vintage   o-neck         full       polyster        NaN         NaN\n",
              "3    Brief   o-neck         full           silk    chiffon  embroidary\n",
              "4     cute   o-neck    butterfly  chiffonfabric    chiffon         bow"
            ]
          },
          "metadata": {
            "tags": []
          },
          "execution_count": 8
        }
      ]
    },
    {
      "cell_type": "markdown",
      "metadata": {
        "id": "h3rxrRD79HS9"
      },
      "source": [
        "## 5. Separando a coluna de rótulos"
      ]
    },
    {
      "cell_type": "code",
      "metadata": {
        "id": "AdPFIuvdVMtG",
        "colab": {
          "base_uri": "https://localhost:8080/",
          "height": 376
        },
        "outputId": "3243de52-46ff-4743-e106-f611d624e470"
      },
      "source": [
        "# Aqui a gente vai usar o seaborn para mostrar os gráficos\n",
        "#   https://seaborn.pydata.org/\n",
        "#   a biblioteca tem várias gráficos prontos: https://seaborn.pydata.org/tutorial/categorical.html\n",
        "\n",
        "plt.figure(figsize=(20,5))\n",
        "sns.countplot(x=\"Season\", data=df)"
      ],
      "execution_count": null,
      "outputs": [
        {
          "output_type": "execute_result",
          "data": {
            "text/plain": [
              "<matplotlib.axes._subplots.AxesSubplot at 0x7f884536a630>"
            ]
          },
          "metadata": {
            "tags": []
          },
          "execution_count": 38
        },
        {
          "output_type": "display_data",
          "data": {
            "image/png": "[encoded data removed]",
            "text/plain": [
              "<Figure size 1440x360 with 1 Axes>"
            ]
          },
          "metadata": {
            "tags": []
          }
        }
      ]
    },
    {
      "cell_type": "code",
      "metadata": {
        "id": "2y_6SFpvVZ8I"
      },
      "source": [
        "# No pandas a gente pode selecionar uma coluna, aplicar uma função e salvar o resultado em uma nuva coluna;\n",
        "#   para aplicar a função usamos a função apply()\n",
        "\n",
        "def string_para_minusculo(valor):\n",
        "    return str(valor).lower()\n",
        "\n",
        "df[\"season_minusculo\"] = df[\"Season\"].apply(string_para_minusculo)"
      ],
      "execution_count": null,
      "outputs": []
    },
    {
      "cell_type": "code",
      "metadata": {
        "id": "tJ-RqDR83qQI",
        "colab": {
          "base_uri": "https://localhost:8080/",
          "height": 377
        },
        "outputId": "cf6560f6-4fe0-4935-f688-71ea3cee5c19"
      },
      "source": [
        "plt.figure(figsize=(20,5))\n",
        "sns.countplot(x=\"season_minusculo\", data=df)"
      ],
      "execution_count": null,
      "outputs": [
        {
          "output_type": "execute_result",
          "data": {
            "text/plain": [
              "<matplotlib.axes._subplots.AxesSubplot at 0x7fc031d69908>"
            ]
          },
          "metadata": {
            "tags": []
          },
          "execution_count": 10
        },
        {
          "output_type": "display_data",
          "data": {
            "image/png": "[encoded data removed]",
            "text/plain": [
              "<Figure size 1440x360 with 1 Axes>"
            ]
          },
          "metadata": {
            "tags": []
          }
        }
      ]
    },
    {
      "cell_type": "code",
      "metadata": {
        "id": "cPkdo-O8bmHT"
      },
      "source": [
        "# Também podemos substituir determinados valores usando a função replace()\n",
        "\n",
        "df[\"season_minusculo\"] = df[\"season_minusculo\"].replace({\"autumn\":\"automn\"})"
      ],
      "execution_count": null,
      "outputs": []
    },
    {
      "cell_type": "code",
      "metadata": {
        "id": "4hx2JA-ocSQG",
        "colab": {
          "base_uri": "https://localhost:8080/",
          "height": 377
        },
        "outputId": "34396ccf-9aa4-4074-b21f-563842def450"
      },
      "source": [
        "plt.figure(figsize=(20,5))\n",
        "sns.countplot(x=\"season_minusculo\", data=df)"
      ],
      "execution_count": null,
      "outputs": [
        {
          "output_type": "execute_result",
          "data": {
            "text/plain": [
              "<matplotlib.axes._subplots.AxesSubplot at 0x7fc03115f7b8>"
            ]
          },
          "metadata": {
            "tags": []
          },
          "execution_count": 12
        },
        {
          "output_type": "display_data",
          "data": {
            "image/png": "[encoded data removed]",
            "text/plain": [
              "<Figure size 1440x360 with 1 Axes>"
            ]
          },
          "metadata": {
            "tags": []
          }
        }
      ]
    },
    {
      "cell_type": "code",
      "metadata": {
        "id": "MOvC6yTjca-e"
      },
      "source": [
        "rotulos_string = df[\"season_minusculo\"]"
      ],
      "execution_count": null,
      "outputs": []
    },
    {
      "cell_type": "code",
      "metadata": {
        "id": "NtkiJ_TQvZg4",
        "colab": {
          "base_uri": "https://localhost:8080/",
          "height": 125
        },
        "outputId": "0521dc2a-b63c-49ad-d229-b3a081fab810"
      },
      "source": [
        "rotulos_string.head()"
      ],
      "execution_count": null,
      "outputs": [
        {
          "output_type": "execute_result",
          "data": {
            "text/plain": [
              "0    summer\n",
              "1    summer\n",
              "2    automn\n",
              "3    spring\n",
              "4    summer\n",
              "Name: season_minusculo, dtype: object"
            ]
          },
          "metadata": {
            "tags": []
          },
          "execution_count": 14
        }
      ]
    },
    {
      "cell_type": "code",
      "metadata": {
        "id": "phu8R3cwfDDn"
      },
      "source": [
        "# Nossa coluna de rótulos (labels em Inglês) tem Strings, mas precisamos que sejam números para usar os algoritmos\n",
        "#   do scikit-learn\n",
        "# Vamos converter as strings para números usando a classe LabelEncoder() do scikit-learn\n",
        "#   Essa função transformar cada string em uma classe de 0 n_classes-1\n",
        "#   Exemplo: [\"vermelho\",\"azul\",\"azul\"] se torna [0,1,1]\n",
        "\n",
        "rotulos_encoder = preprocessing.LabelEncoder()\n",
        "\n",
        "# Instanciamos a classe LabelEncoder() acima, mas para transformar os dados precisamos que a classe:\n",
        "#   1. aprenda qual vai ser o número de cada string: método fit()\n",
        "#   2. transforme os dados em números: método transform\n",
        "rotulos_encoder.fit(rotulos_string)\n",
        "\n",
        "rotulos = rotulos_encoder.transform(rotulos_string)"
      ],
      "execution_count": null,
      "outputs": []
    },
    {
      "cell_type": "code",
      "metadata": {
        "id": "OdKBADFll_7T",
        "colab": {
          "base_uri": "https://localhost:8080/",
          "height": 431
        },
        "outputId": "4521d239-020d-4945-9650-ba2a35a8edb5"
      },
      "source": [
        "rotulos"
      ],
      "execution_count": null,
      "outputs": [
        {
          "output_type": "execute_result",
          "data": {
            "text/plain": [
              "array([3, 3, 0, 2, 3, 3, 3, 0, 2, 3, 3, 2, 4, 3, 3, 4, 2, 0, 4, 0, 0, 3,\n",
              "       3, 3, 0, 0, 2, 3, 0, 2, 0, 2, 0, 2, 2, 4, 4, 0, 4, 2, 2, 0, 4, 2,\n",
              "       4, 4, 2, 3, 3, 4, 3, 3, 2, 0, 2, 4, 4, 0, 3, 0, 2, 2, 3, 2, 0, 0,\n",
              "       3, 4, 3, 0, 3, 2, 4, 2, 0, 2, 4, 2, 2, 4, 3, 2, 2, 3, 4, 3, 0, 0,\n",
              "       0, 4, 2, 4, 4, 2, 2, 2, 2, 4, 3, 3, 3, 3, 4, 3, 4, 3, 2, 0, 2, 0,\n",
              "       0, 4, 0, 0, 2, 4, 2, 0, 0, 4, 4, 3, 2, 4, 2, 3, 0, 3, 0, 2, 3, 4,\n",
              "       2, 4, 0, 4, 4, 0, 0, 3, 0, 3, 2, 0, 2, 3, 3, 4, 4, 3, 3, 4, 3, 3,\n",
              "       2, 0, 2, 4, 3, 2, 4, 2, 0, 4, 2, 4, 4, 3, 2, 4, 4, 3, 3, 4, 0, 4,\n",
              "       4, 2, 0, 3, 3, 4, 2, 4, 4, 4, 1, 2, 0, 2, 2, 3, 3, 3, 4, 4, 3, 3,\n",
              "       4, 4, 3, 0, 0, 3, 3, 3, 0, 3, 3, 4, 2, 4, 3, 4, 2, 0, 0, 3, 4, 2,\n",
              "       0, 2, 3, 3, 4, 4, 3, 0, 3, 0, 4, 4, 2, 4, 2, 0, 2, 4, 3, 4, 4, 4,\n",
              "       4, 4, 4, 3, 2, 3, 3, 4, 3, 3, 2, 0, 4, 4, 4, 2, 4, 2, 4, 4, 4, 3,\n",
              "       2, 4, 2, 2, 4, 2, 1, 4, 2, 2, 4, 3, 4, 4, 3, 4, 4, 2, 2, 3, 3, 4,\n",
              "       2, 2, 2, 2, 2, 4, 4, 2, 3, 2, 2, 2, 3, 4, 4, 4, 3, 3, 3, 3, 3, 2,\n",
              "       0, 2, 4, 4, 3, 3, 3, 4, 2, 4, 3, 4, 2, 3, 4, 2, 4, 4, 2, 2, 2, 3,\n",
              "       4, 2, 2, 3, 4, 4, 3, 2, 4, 2, 2, 4, 2, 3, 2, 4, 4, 0, 4, 4, 3, 3,\n",
              "       4, 3, 3, 3, 3, 3, 3, 4, 4, 3, 3, 4, 4, 4, 4, 4, 4, 3, 3, 4, 2, 2,\n",
              "       3, 3, 2, 2, 2, 0, 4, 3, 0, 0, 3, 3, 4, 3, 3, 3, 2, 3, 2, 2, 4, 4,\n",
              "       3, 3, 4, 4, 4, 4, 4, 3, 3, 3, 2, 0, 0, 4, 3, 3, 4, 3, 3, 2, 3, 3,\n",
              "       3, 2, 2, 4, 3, 3, 2, 3, 3, 3, 4, 0, 2, 2, 3, 0, 3, 2, 2, 3, 4, 0,\n",
              "       3, 4, 2, 0, 2, 0, 3, 3, 3, 0, 2, 0, 0, 4, 3, 2, 3, 3, 3, 3, 2, 3,\n",
              "       2, 0, 3, 4, 3, 3, 4, 3, 3, 3, 2, 4, 2, 3, 4, 4, 0, 2, 3, 2, 2, 4,\n",
              "       3, 0, 4, 4, 3, 3, 4, 3, 2, 3, 4, 2, 3, 3, 4, 3])"
            ]
          },
          "metadata": {
            "tags": []
          },
          "execution_count": 16
        }
      ]
    },
    {
      "cell_type": "markdown",
      "metadata": {
        "id": "6BHxPV5t9KcV"
      },
      "source": [
        "# 6. Separando os dados em treinamento e teste"
      ]
    },
    {
      "cell_type": "code",
      "metadata": {
        "id": "kL3ImIvM3Swd"
      },
      "source": [
        "# O scikit-learn possui uma função chamada train_test_split() que divide um conjunto de dados em conjunto de treinamento\n",
        "#   e conjunto de testes. Isso é importante porque sem o conjunto de testes a gente não vão poder avaliar se um modelo\n",
        "#   apresenta bons resultados ou não\n",
        "# Vamos usar o paramêtro stratify para que os dois conjuntos tenham a mesma proporção de classes\n",
        "\n",
        "dados_treinamento, dados_teste, rotulos_treinamento, rotulos_teste = train_test_split(df_colunas_utilizadas,\n",
        "                                                                                      rotulos,\n",
        "                                                                                      stratify=rotulos,\n",
        "                                                                                      test_size=0.33,\n",
        "                                                                                      random_state=42)"
      ],
      "execution_count": null,
      "outputs": []
    },
    {
      "cell_type": "code",
      "metadata": {
        "id": "JuKwlzLnzbHV",
        "colab": {
          "base_uri": "https://localhost:8080/",
          "height": 35
        },
        "outputId": "7597aa40-d93a-46ce-dc0e-447bfb209b3c"
      },
      "source": [
        "type(dados_treinamento)"
      ],
      "execution_count": null,
      "outputs": [
        {
          "output_type": "execute_result",
          "data": {
            "text/plain": [
              "pandas.core.frame.DataFrame"
            ]
          },
          "metadata": {
            "tags": []
          },
          "execution_count": 19
        }
      ]
    },
    {
      "cell_type": "code",
      "metadata": {
        "id": "N29GFjwc8rwQ",
        "colab": {
          "base_uri": "https://localhost:8080/",
          "height": 204
        },
        "outputId": "c72bb97c-03ff-4812-db08-60ed4f7f975e"
      },
      "source": [
        "dados_treinamento.head()"
      ],
      "execution_count": null,
      "outputs": [
        {
          "output_type": "execute_result",
          "data": {
            "text/html": [
              "<div>\n",
              "<style scoped>\n",
              "    .dataframe tbody tr th:only-of-type {\n",
              "        vertical-align: middle;\n",
              "    }\n",
              "\n",
              "    .dataframe tbody tr th {\n",
              "        vertical-align: top;\n",
              "    }\n",
              "\n",
              "    .dataframe thead th {\n",
              "        text-align: right;\n",
              "    }\n",
              "</style>\n",
              "<table border=\"1\" class=\"dataframe\">\n",
              "  <thead>\n",
              "    <tr style=\"text-align: right;\">\n",
              "      <th></th>\n",
              "      <th>Style</th>\n",
              "      <th>NeckLine</th>\n",
              "      <th>SleeveLength</th>\n",
              "      <th>Material</th>\n",
              "      <th>FabricType</th>\n",
              "      <th>Decoration</th>\n",
              "    </tr>\n",
              "  </thead>\n",
              "  <tbody>\n",
              "    <tr>\n",
              "      <th>342</th>\n",
              "      <td>Casual</td>\n",
              "      <td>o-neck</td>\n",
              "      <td>sleevless</td>\n",
              "      <td>cotton</td>\n",
              "      <td>chiffon</td>\n",
              "      <td>hollowout</td>\n",
              "    </tr>\n",
              "    <tr>\n",
              "      <th>12</th>\n",
              "      <td>sexy</td>\n",
              "      <td>o-neck</td>\n",
              "      <td>threequarter</td>\n",
              "      <td>NaN</td>\n",
              "      <td>chiffon</td>\n",
              "      <td>lace</td>\n",
              "    </tr>\n",
              "    <tr>\n",
              "      <th>51</th>\n",
              "      <td>Casual</td>\n",
              "      <td>o-neck</td>\n",
              "      <td>sleevless</td>\n",
              "      <td>milksilk</td>\n",
              "      <td>NaN</td>\n",
              "      <td>NaN</td>\n",
              "    </tr>\n",
              "    <tr>\n",
              "      <th>130</th>\n",
              "      <td>Casual</td>\n",
              "      <td>v-neck</td>\n",
              "      <td>full</td>\n",
              "      <td>acrylic</td>\n",
              "      <td>NaN</td>\n",
              "      <td>lace</td>\n",
              "    </tr>\n",
              "    <tr>\n",
              "      <th>217</th>\n",
              "      <td>Casual</td>\n",
              "      <td>o-neck</td>\n",
              "      <td>full</td>\n",
              "      <td>cotton</td>\n",
              "      <td>worsted</td>\n",
              "      <td>lace</td>\n",
              "    </tr>\n",
              "  </tbody>\n",
              "</table>\n",
              "</div>"
            ],
            "text/plain": [
              "      Style NeckLine  SleeveLength  Material FabricType Decoration\n",
              "342  Casual   o-neck     sleevless    cotton    chiffon  hollowout\n",
              "12     sexy   o-neck  threequarter       NaN    chiffon       lace\n",
              "51   Casual   o-neck     sleevless  milksilk        NaN        NaN\n",
              "130  Casual   v-neck          full   acrylic        NaN       lace\n",
              "217  Casual   o-neck          full    cotton    worsted       lace"
            ]
          },
          "metadata": {
            "tags": []
          },
          "execution_count": 20
        }
      ]
    },
    {
      "cell_type": "code",
      "metadata": {
        "id": "fgwL3dsgnGVp",
        "colab": {
          "base_uri": "https://localhost:8080/",
          "height": 35
        },
        "outputId": "add46354-a956-4f02-fd49-44bde07ce734"
      },
      "source": [
        "dados_treinamento.shape"
      ],
      "execution_count": null,
      "outputs": [
        {
          "output_type": "execute_result",
          "data": {
            "text/plain": [
              "(335, 6)"
            ]
          },
          "metadata": {
            "tags": []
          },
          "execution_count": 21
        }
      ]
    },
    {
      "cell_type": "code",
      "metadata": {
        "id": "qD2WH7WSnK24",
        "colab": {
          "base_uri": "https://localhost:8080/",
          "height": 35
        },
        "outputId": "af27f666-f615-4807-fbfa-7827f49b5331"
      },
      "source": [
        "df_colunas_utilizadas.shape"
      ],
      "execution_count": null,
      "outputs": [
        {
          "output_type": "execute_result",
          "data": {
            "text/plain": [
              "(500, 6)"
            ]
          },
          "metadata": {
            "tags": []
          },
          "execution_count": 22
        }
      ]
    },
    {
      "cell_type": "markdown",
      "metadata": {
        "id": "JD7NnRgwUjqs"
      },
      "source": [
        "## 7. Visualizando os dados"
      ]
    },
    {
      "cell_type": "code",
      "metadata": {
        "id": "ISmZlPi_QK1W",
        "colab": {
          "base_uri": "https://localhost:8080/",
          "height": 377
        },
        "outputId": "2deba10f-97b0-4756-8564-2abc4aab5167"
      },
      "source": [
        "plt.figure(figsize=(20,5))\n",
        "sns.countplot(x=\"Style\", data=dados_treinamento)"
      ],
      "execution_count": null,
      "outputs": [
        {
          "output_type": "execute_result",
          "data": {
            "text/plain": [
              "<matplotlib.axes._subplots.AxesSubplot at 0x7fc0311f4e80>"
            ]
          },
          "metadata": {
            "tags": []
          },
          "execution_count": 23
        },
        {
          "output_type": "display_data",
          "data": {
            "image/png": "[encoded data removed]",
            "text/plain": [
              "<Figure size 1440x360 with 1 Axes>"
            ]
          },
          "metadata": {
            "tags": []
          }
        }
      ]
    },
    {
      "cell_type": "code",
      "metadata": {
        "id": "ST1NK6YxSVNf",
        "colab": {
          "base_uri": "https://localhost:8080/",
          "height": 377
        },
        "outputId": "f26f38b0-aeca-429b-e0e3-9c82bd6a4055"
      },
      "source": [
        "plt.figure(figsize=(20,5))\n",
        "sns.countplot(x=\"Material\", data=dados_treinamento)"
      ],
      "execution_count": null,
      "outputs": [
        {
          "output_type": "execute_result",
          "data": {
            "text/plain": [
              "<matplotlib.axes._subplots.AxesSubplot at 0x7fc030a4d588>"
            ]
          },
          "metadata": {
            "tags": []
          },
          "execution_count": 24
        },
        {
          "output_type": "display_data",
          "data": {
            "image/png": "[encoded data removed]",
            "text/plain": [
              "<Figure size 1440x360 with 1 Axes>"
            ]
          },
          "metadata": {
            "tags": []
          }
        }
      ]
    },
    {
      "cell_type": "markdown",
      "metadata": {
        "id": "bGNoMiQN-d5T"
      },
      "source": [
        "## 8. Mudando os tipos dos dados\n",
        "### Esta NÃO É a melhor forma de converter estes tipos de dados, vamos ver mais sobre isso na Sessão 02"
      ]
    },
    {
      "cell_type": "code",
      "metadata": {
        "id": "FcZwauO7z4LN",
        "colab": {
          "base_uri": "https://localhost:8080/",
          "height": 143
        },
        "outputId": "e2d6b06d-e46a-4749-9266-d6719daf6385"
      },
      "source": [
        "dados_treinamento.dtypes"
      ],
      "execution_count": null,
      "outputs": [
        {
          "output_type": "execute_result",
          "data": {
            "text/plain": [
              "Style           object\n",
              "NeckLine        object\n",
              "SleeveLength    object\n",
              "Material        object\n",
              "FabricType      object\n",
              "Decoration      object\n",
              "dtype: object"
            ]
          },
          "metadata": {
            "tags": []
          },
          "execution_count": 25
        }
      ]
    },
    {
      "cell_type": "code",
      "metadata": {
        "id": "-IPlH4dQ0AjV",
        "colab": {
          "base_uri": "https://localhost:8080/",
          "height": 204
        },
        "outputId": "1f9bb4d5-7913-44f8-c011-13008431a6d3"
      },
      "source": [
        "dados_treinamento.head()"
      ],
      "execution_count": null,
      "outputs": [
        {
          "output_type": "execute_result",
          "data": {
            "text/html": [
              "<div>\n",
              "<style scoped>\n",
              "    .dataframe tbody tr th:only-of-type {\n",
              "        vertical-align: middle;\n",
              "    }\n",
              "\n",
              "    .dataframe tbody tr th {\n",
              "        vertical-align: top;\n",
              "    }\n",
              "\n",
              "    .dataframe thead th {\n",
              "        text-align: right;\n",
              "    }\n",
              "</style>\n",
              "<table border=\"1\" class=\"dataframe\">\n",
              "  <thead>\n",
              "    <tr style=\"text-align: right;\">\n",
              "      <th></th>\n",
              "      <th>Style</th>\n",
              "      <th>NeckLine</th>\n",
              "      <th>SleeveLength</th>\n",
              "      <th>Material</th>\n",
              "      <th>FabricType</th>\n",
              "      <th>Decoration</th>\n",
              "    </tr>\n",
              "  </thead>\n",
              "  <tbody>\n",
              "    <tr>\n",
              "      <th>342</th>\n",
              "      <td>Casual</td>\n",
              "      <td>o-neck</td>\n",
              "      <td>sleevless</td>\n",
              "      <td>cotton</td>\n",
              "      <td>chiffon</td>\n",
              "      <td>hollowout</td>\n",
              "    </tr>\n",
              "    <tr>\n",
              "      <th>12</th>\n",
              "      <td>sexy</td>\n",
              "      <td>o-neck</td>\n",
              "      <td>threequarter</td>\n",
              "      <td>NaN</td>\n",
              "      <td>chiffon</td>\n",
              "      <td>lace</td>\n",
              "    </tr>\n",
              "    <tr>\n",
              "      <th>51</th>\n",
              "      <td>Casual</td>\n",
              "      <td>o-neck</td>\n",
              "      <td>sleevless</td>\n",
              "      <td>milksilk</td>\n",
              "      <td>NaN</td>\n",
              "      <td>NaN</td>\n",
              "    </tr>\n",
              "    <tr>\n",
              "      <th>130</th>\n",
              "      <td>Casual</td>\n",
              "      <td>v-neck</td>\n",
              "      <td>full</td>\n",
              "      <td>acrylic</td>\n",
              "      <td>NaN</td>\n",
              "      <td>lace</td>\n",
              "    </tr>\n",
              "    <tr>\n",
              "      <th>217</th>\n",
              "      <td>Casual</td>\n",
              "      <td>o-neck</td>\n",
              "      <td>full</td>\n",
              "      <td>cotton</td>\n",
              "      <td>worsted</td>\n",
              "      <td>lace</td>\n",
              "    </tr>\n",
              "  </tbody>\n",
              "</table>\n",
              "</div>"
            ],
            "text/plain": [
              "      Style NeckLine  SleeveLength  Material FabricType Decoration\n",
              "342  Casual   o-neck     sleevless    cotton    chiffon  hollowout\n",
              "12     sexy   o-neck  threequarter       NaN    chiffon       lace\n",
              "51   Casual   o-neck     sleevless  milksilk        NaN        NaN\n",
              "130  Casual   v-neck          full   acrylic        NaN       lace\n",
              "217  Casual   o-neck          full    cotton    worsted       lace"
            ]
          },
          "metadata": {
            "tags": []
          },
          "execution_count": 26
        }
      ]
    },
    {
      "cell_type": "code",
      "metadata": {
        "id": "Fwe2g9Tbz-T-",
        "colab": {
          "base_uri": "https://localhost:8080/",
          "height": 358
        },
        "outputId": "8b2b5ada-1c21-4230-e498-ae523d9d07fa"
      },
      "source": [
        "# Novamente os dados estão no tipo string e precisamos que eles sejam números\n",
        "#   a classe LabelEncoder() só deve ser usada em uma coluna única [classe]\n",
        "#   para converter strings de várias colunas utilizamos a classe OrdinalEncoder() do scikit-learn\n",
        "#   A ideia é a mesma: aprender qual o número de cada string [fit()] e depois transformar [transform()]\n",
        "\n",
        "ordinal_encoder = OrdinalEncoder()\n",
        "\n",
        "ordinal_encoder.fit(dados_treinamento)"
      ],
      "execution_count": null,
      "outputs": [
        {
          "output_type": "error",
          "ename": "ValueError",
          "evalue": "ignored",
          "traceback": [
            "\u001b[0;31m---------------------------------------------------------------------------\u001b[0m",
            "\u001b[0;31mValueError\u001b[0m                                Traceback (most recent call last)",
            "\u001b[0;32m<ipython-input-27-da3a597df8db>\u001b[0m in \u001b[0;36m<module>\u001b[0;34m()\u001b[0m\n\u001b[1;32m      2\u001b[0m \u001b[0mordinal_encoder\u001b[0m \u001b[0;34m=\u001b[0m \u001b[0mOrdinalEncoder\u001b[0m\u001b[0;34m(\u001b[0m\u001b[0;34m)\u001b[0m\u001b[0;34m\u001b[0m\u001b[0;34m\u001b[0m\u001b[0m\n\u001b[1;32m      3\u001b[0m \u001b[0;34m\u001b[0m\u001b[0m\n\u001b[0;32m----> 4\u001b[0;31m \u001b[0mordinal_encoder\u001b[0m\u001b[0;34m.\u001b[0m\u001b[0mfit\u001b[0m\u001b[0;34m(\u001b[0m\u001b[0mdados_treinamento\u001b[0m\u001b[0;34m)\u001b[0m\u001b[0;34m\u001b[0m\u001b[0;34m\u001b[0m\u001b[0m\n\u001b[0m",
            "\u001b[0;32m/usr/local/lib/python3.6/dist-packages/sklearn/preprocessing/_encoders.py\u001b[0m in \u001b[0;36mfit\u001b[0;34m(self, X, y)\u001b[0m\n\u001b[1;32m    937\u001b[0m         \u001b[0;31m# OneHoteEncoder: can be removed once deprecations are removed\u001b[0m\u001b[0;34m\u001b[0m\u001b[0;34m\u001b[0m\u001b[0;34m\u001b[0m\u001b[0m\n\u001b[1;32m    938\u001b[0m         \u001b[0mself\u001b[0m\u001b[0;34m.\u001b[0m\u001b[0m_categories\u001b[0m \u001b[0;34m=\u001b[0m \u001b[0mself\u001b[0m\u001b[0;34m.\u001b[0m\u001b[0mcategories\u001b[0m\u001b[0;34m\u001b[0m\u001b[0;34m\u001b[0m\u001b[0m\n\u001b[0;32m--> 939\u001b[0;31m         \u001b[0mself\u001b[0m\u001b[0;34m.\u001b[0m\u001b[0m_fit\u001b[0m\u001b[0;34m(\u001b[0m\u001b[0mX\u001b[0m\u001b[0;34m)\u001b[0m\u001b[0;34m\u001b[0m\u001b[0;34m\u001b[0m\u001b[0m\n\u001b[0m\u001b[1;32m    940\u001b[0m \u001b[0;34m\u001b[0m\u001b[0m\n\u001b[1;32m    941\u001b[0m         \u001b[0;32mreturn\u001b[0m \u001b[0mself\u001b[0m\u001b[0;34m\u001b[0m\u001b[0;34m\u001b[0m\u001b[0m\n",
            "\u001b[0;32m/usr/local/lib/python3.6/dist-packages/sklearn/preprocessing/_encoders.py\u001b[0m in \u001b[0;36m_fit\u001b[0;34m(self, X, handle_unknown)\u001b[0m\n\u001b[1;32m     78\u001b[0m \u001b[0;34m\u001b[0m\u001b[0m\n\u001b[1;32m     79\u001b[0m     \u001b[0;32mdef\u001b[0m \u001b[0m_fit\u001b[0m\u001b[0;34m(\u001b[0m\u001b[0mself\u001b[0m\u001b[0;34m,\u001b[0m \u001b[0mX\u001b[0m\u001b[0;34m,\u001b[0m \u001b[0mhandle_unknown\u001b[0m\u001b[0;34m=\u001b[0m\u001b[0;34m'error'\u001b[0m\u001b[0;34m)\u001b[0m\u001b[0;34m:\u001b[0m\u001b[0;34m\u001b[0m\u001b[0;34m\u001b[0m\u001b[0m\n\u001b[0;32m---> 80\u001b[0;31m         \u001b[0mX_list\u001b[0m\u001b[0;34m,\u001b[0m \u001b[0mn_samples\u001b[0m\u001b[0;34m,\u001b[0m \u001b[0mn_features\u001b[0m \u001b[0;34m=\u001b[0m \u001b[0mself\u001b[0m\u001b[0;34m.\u001b[0m\u001b[0m_check_X\u001b[0m\u001b[0;34m(\u001b[0m\u001b[0mX\u001b[0m\u001b[0;34m)\u001b[0m\u001b[0;34m\u001b[0m\u001b[0;34m\u001b[0m\u001b[0m\n\u001b[0m\u001b[1;32m     81\u001b[0m \u001b[0;34m\u001b[0m\u001b[0m\n\u001b[1;32m     82\u001b[0m         \u001b[0;32mif\u001b[0m \u001b[0mself\u001b[0m\u001b[0;34m.\u001b[0m\u001b[0m_categories\u001b[0m \u001b[0;34m!=\u001b[0m \u001b[0;34m'auto'\u001b[0m\u001b[0;34m:\u001b[0m\u001b[0;34m\u001b[0m\u001b[0;34m\u001b[0m\u001b[0m\n",
            "\u001b[0;32m/usr/local/lib/python3.6/dist-packages/sklearn/preprocessing/_encoders.py\u001b[0m in \u001b[0;36m_check_X\u001b[0;34m(self, X)\u001b[0m\n\u001b[1;32m     65\u001b[0m             \u001b[0mXi\u001b[0m \u001b[0;34m=\u001b[0m \u001b[0mself\u001b[0m\u001b[0;34m.\u001b[0m\u001b[0m_get_feature\u001b[0m\u001b[0;34m(\u001b[0m\u001b[0mX\u001b[0m\u001b[0;34m,\u001b[0m \u001b[0mfeature_idx\u001b[0m\u001b[0;34m=\u001b[0m\u001b[0mi\u001b[0m\u001b[0;34m)\u001b[0m\u001b[0;34m\u001b[0m\u001b[0;34m\u001b[0m\u001b[0m\n\u001b[1;32m     66\u001b[0m             Xi = check_array(Xi, ensure_2d=False, dtype=None,\n\u001b[0;32m---> 67\u001b[0;31m                              force_all_finite=needs_validation)\n\u001b[0m\u001b[1;32m     68\u001b[0m             \u001b[0mX_columns\u001b[0m\u001b[0;34m.\u001b[0m\u001b[0mappend\u001b[0m\u001b[0;34m(\u001b[0m\u001b[0mXi\u001b[0m\u001b[0;34m)\u001b[0m\u001b[0;34m\u001b[0m\u001b[0;34m\u001b[0m\u001b[0m\n\u001b[1;32m     69\u001b[0m \u001b[0;34m\u001b[0m\u001b[0m\n",
            "\u001b[0;32m/usr/local/lib/python3.6/dist-packages/sklearn/utils/validation.py\u001b[0m in \u001b[0;36mcheck_array\u001b[0;34m(array, accept_sparse, accept_large_sparse, dtype, order, copy, force_all_finite, ensure_2d, allow_nd, ensure_min_samples, ensure_min_features, warn_on_dtype, estimator)\u001b[0m\n\u001b[1;32m    540\u001b[0m         \u001b[0;32mif\u001b[0m \u001b[0mforce_all_finite\u001b[0m\u001b[0;34m:\u001b[0m\u001b[0;34m\u001b[0m\u001b[0;34m\u001b[0m\u001b[0m\n\u001b[1;32m    541\u001b[0m             _assert_all_finite(array,\n\u001b[0;32m--> 542\u001b[0;31m                                allow_nan=force_all_finite == 'allow-nan')\n\u001b[0m\u001b[1;32m    543\u001b[0m \u001b[0;34m\u001b[0m\u001b[0m\n\u001b[1;32m    544\u001b[0m     \u001b[0;32mif\u001b[0m \u001b[0mensure_min_samples\u001b[0m \u001b[0;34m>\u001b[0m \u001b[0;36m0\u001b[0m\u001b[0;34m:\u001b[0m\u001b[0;34m\u001b[0m\u001b[0;34m\u001b[0m\u001b[0m\n",
            "\u001b[0;32m/usr/local/lib/python3.6/dist-packages/sklearn/utils/validation.py\u001b[0m in \u001b[0;36m_assert_all_finite\u001b[0;34m(X, allow_nan)\u001b[0m\n\u001b[1;32m     58\u001b[0m     \u001b[0;32melif\u001b[0m \u001b[0mX\u001b[0m\u001b[0;34m.\u001b[0m\u001b[0mdtype\u001b[0m \u001b[0;34m==\u001b[0m \u001b[0mnp\u001b[0m\u001b[0;34m.\u001b[0m\u001b[0mdtype\u001b[0m\u001b[0;34m(\u001b[0m\u001b[0;34m'object'\u001b[0m\u001b[0;34m)\u001b[0m \u001b[0;32mand\u001b[0m \u001b[0;32mnot\u001b[0m \u001b[0mallow_nan\u001b[0m\u001b[0;34m:\u001b[0m\u001b[0;34m\u001b[0m\u001b[0;34m\u001b[0m\u001b[0m\n\u001b[1;32m     59\u001b[0m         \u001b[0;32mif\u001b[0m \u001b[0m_object_dtype_isnan\u001b[0m\u001b[0;34m(\u001b[0m\u001b[0mX\u001b[0m\u001b[0;34m)\u001b[0m\u001b[0;34m.\u001b[0m\u001b[0many\u001b[0m\u001b[0;34m(\u001b[0m\u001b[0;34m)\u001b[0m\u001b[0;34m:\u001b[0m\u001b[0;34m\u001b[0m\u001b[0;34m\u001b[0m\u001b[0m\n\u001b[0;32m---> 60\u001b[0;31m             \u001b[0;32mraise\u001b[0m \u001b[0mValueError\u001b[0m\u001b[0;34m(\u001b[0m\u001b[0;34m\"Input contains NaN\"\u001b[0m\u001b[0;34m)\u001b[0m\u001b[0;34m\u001b[0m\u001b[0;34m\u001b[0m\u001b[0m\n\u001b[0m\u001b[1;32m     61\u001b[0m \u001b[0;34m\u001b[0m\u001b[0m\n\u001b[1;32m     62\u001b[0m \u001b[0;34m\u001b[0m\u001b[0m\n",
            "\u001b[0;31mValueError\u001b[0m: Input contains NaN"
          ]
        }
      ]
    },
    {
      "cell_type": "code",
      "metadata": {
        "id": "k2yMa9id1Uqg"
      },
      "source": [
        "# Para usar o OrdinalEncoder() os dados não podem ter valores faltantes (missing values em Inglês)\n",
        "#   então preenchemos os valores faltantes com a string \"-1\"\n",
        "\n",
        "dados_treinamento_sem_valores_faltantes = dados_treinamento.fillna(\"-1\")"
      ],
      "execution_count": null,
      "outputs": []
    },
    {
      "cell_type": "code",
      "metadata": {
        "id": "yP0lEZDwoaeW",
        "colab": {
          "base_uri": "https://localhost:8080/",
          "height": 204
        },
        "outputId": "3a3a5a59-c9bf-4986-805a-df7a9b78b597"
      },
      "source": [
        "dados_treinamento_sem_valores_faltantes.head()"
      ],
      "execution_count": null,
      "outputs": [
        {
          "output_type": "execute_result",
          "data": {
            "text/html": [
              "<div>\n",
              "<style scoped>\n",
              "    .dataframe tbody tr th:only-of-type {\n",
              "        vertical-align: middle;\n",
              "    }\n",
              "\n",
              "    .dataframe tbody tr th {\n",
              "        vertical-align: top;\n",
              "    }\n",
              "\n",
              "    .dataframe thead th {\n",
              "        text-align: right;\n",
              "    }\n",
              "</style>\n",
              "<table border=\"1\" class=\"dataframe\">\n",
              "  <thead>\n",
              "    <tr style=\"text-align: right;\">\n",
              "      <th></th>\n",
              "      <th>Style</th>\n",
              "      <th>NeckLine</th>\n",
              "      <th>SleeveLength</th>\n",
              "      <th>Material</th>\n",
              "      <th>FabricType</th>\n",
              "      <th>Decoration</th>\n",
              "    </tr>\n",
              "  </thead>\n",
              "  <tbody>\n",
              "    <tr>\n",
              "      <th>342</th>\n",
              "      <td>Casual</td>\n",
              "      <td>o-neck</td>\n",
              "      <td>sleevless</td>\n",
              "      <td>cotton</td>\n",
              "      <td>chiffon</td>\n",
              "      <td>hollowout</td>\n",
              "    </tr>\n",
              "    <tr>\n",
              "      <th>12</th>\n",
              "      <td>sexy</td>\n",
              "      <td>o-neck</td>\n",
              "      <td>threequarter</td>\n",
              "      <td>-1</td>\n",
              "      <td>chiffon</td>\n",
              "      <td>lace</td>\n",
              "    </tr>\n",
              "    <tr>\n",
              "      <th>51</th>\n",
              "      <td>Casual</td>\n",
              "      <td>o-neck</td>\n",
              "      <td>sleevless</td>\n",
              "      <td>milksilk</td>\n",
              "      <td>-1</td>\n",
              "      <td>-1</td>\n",
              "    </tr>\n",
              "    <tr>\n",
              "      <th>130</th>\n",
              "      <td>Casual</td>\n",
              "      <td>v-neck</td>\n",
              "      <td>full</td>\n",
              "      <td>acrylic</td>\n",
              "      <td>-1</td>\n",
              "      <td>lace</td>\n",
              "    </tr>\n",
              "    <tr>\n",
              "      <th>217</th>\n",
              "      <td>Casual</td>\n",
              "      <td>o-neck</td>\n",
              "      <td>full</td>\n",
              "      <td>cotton</td>\n",
              "      <td>worsted</td>\n",
              "      <td>lace</td>\n",
              "    </tr>\n",
              "  </tbody>\n",
              "</table>\n",
              "</div>"
            ],
            "text/plain": [
              "      Style NeckLine  SleeveLength  Material FabricType Decoration\n",
              "342  Casual   o-neck     sleevless    cotton    chiffon  hollowout\n",
              "12     sexy   o-neck  threequarter        -1    chiffon       lace\n",
              "51   Casual   o-neck     sleevless  milksilk         -1         -1\n",
              "130  Casual   v-neck          full   acrylic         -1       lace\n",
              "217  Casual   o-neck          full    cotton    worsted       lace"
            ]
          },
          "metadata": {
            "tags": []
          },
          "execution_count": 29
        }
      ]
    },
    {
      "cell_type": "code",
      "metadata": {
        "id": "rM5TuRNJoTSD"
      },
      "source": [
        "ordinal_encoder.fit(dados_treinamento_sem_valores_faltantes)\n",
        "\n",
        "dados_treinamento_transformados = ordinal_encoder.transform(dados_treinamento_sem_valores_faltantes)"
      ],
      "execution_count": null,
      "outputs": []
    },
    {
      "cell_type": "code",
      "metadata": {
        "id": "PM_HbEmCeJ4E",
        "colab": {
          "base_uri": "https://localhost:8080/",
          "height": 413
        },
        "outputId": "6bb9daa3-57a8-4987-bebe-123659b7438e"
      },
      "source": [
        "ordinal_encoder.categories_"
      ],
      "execution_count": null,
      "outputs": [
        {
          "output_type": "execute_result",
          "data": {
            "text/plain": [
              "[array(['Brief', 'Casual', 'Flare', 'Novelty', 'Sexy', 'bohemian', 'cute',\n",
              "        'fashion', 'party', 'sexy', 'vintage', 'work'], dtype=object),\n",
              " array(['-1', 'Scoop', 'Sweetheart', 'backless', 'boat-neck', 'bowneck',\n",
              "        'halter', 'o-neck', 'open', 'peterpan-collor', 'ruffled',\n",
              "        'slash-neck', 'sqare-collor', 'sweetheart', 'turndowncollor',\n",
              "        'v-neck'], dtype=object),\n",
              " array(['-1', 'cap-sleeves', 'capsleeves', 'full', 'half', 'halfsleeve',\n",
              "        'short', 'sleeevless', 'sleeveless', 'sleevless', 'sleveless',\n",
              "        'threequarter', 'threequater', 'thressqatar', 'turndowncollor'],\n",
              "       dtype=object),\n",
              " array(['-1', 'acrylic', 'cashmere', 'chiffonfabric', 'cotton', 'knitting',\n",
              "        'lace', 'linen', 'lycra', 'microfiber', 'milksilk', 'mix', 'modal',\n",
              "        'model', 'nylon', 'other', 'polyster', 'rayon', 'shiffon', 'silk',\n",
              "        'sill', 'spandex', 'viscos', 'wool'], dtype=object),\n",
              " array(['-1', 'batik', 'broadcloth', 'chiffon', 'dobby', 'flannael',\n",
              "        'jersey', 'knitting', 'lace', 'other', 'poplin', 'satin', 'sattin',\n",
              "        'shiffon', 'terry', 'tulle', 'worsted'], dtype=object),\n",
              " array(['-1', 'Tiered', 'applique', 'beading', 'bow', 'button',\n",
              "        'cascading', 'crystal', 'draped', 'embroidary', 'feathers',\n",
              "        'flowers', 'hollowout', 'lace', 'none', 'pearls', 'plain', 'pleat',\n",
              "        'pockets', 'rivet', 'ruched', 'ruffles', 'sashes', 'sequined'],\n",
              "       dtype=object)]"
            ]
          },
          "metadata": {
            "tags": []
          },
          "execution_count": 32
        }
      ]
    },
    {
      "cell_type": "code",
      "metadata": {
        "id": "qahT2wdVeXso",
        "colab": {
          "base_uri": "https://localhost:8080/",
          "height": 53
        },
        "outputId": "baea3e13-37e6-4bb9-c78b-d0d193766867"
      },
      "source": [
        "# Os dados nos dois formatos possuem o mesmo número de linhas e de colunas\n",
        "print(dados_treinamento_transformados.shape)\n",
        "print(dados_treinamento.shape)"
      ],
      "execution_count": null,
      "outputs": [
        {
          "output_type": "stream",
          "text": [
            "(335, 6)\n",
            "(335, 6)\n"
          ],
          "name": "stdout"
        }
      ]
    },
    {
      "cell_type": "code",
      "metadata": {
        "id": "JLWiJsBRecqg",
        "colab": {
          "base_uri": "https://localhost:8080/",
          "height": 143
        },
        "outputId": "ed594a5d-acdc-4c7b-b8a4-06000108ecf7"
      },
      "source": [
        "# Mas agora dados_treinamento_transformados possui inteiros e não strings\n",
        "dados_treinamento_transformados"
      ],
      "execution_count": null,
      "outputs": [
        {
          "output_type": "execute_result",
          "data": {
            "text/plain": [
              "array([[ 1.,  7.,  9.,  4.,  3., 12.],\n",
              "       [ 9.,  7., 11.,  0.,  3., 13.],\n",
              "       [ 1.,  7.,  9., 10.,  0.,  0.],\n",
              "       ...,\n",
              "       [ 8., 15., 12.,  8., 12.,  2.],\n",
              "       [ 6., 15.,  9.,  3.,  3.,  0.],\n",
              "       [ 1.,  7.,  9.,  3.,  3., 23.]])"
            ]
          },
          "metadata": {
            "tags": []
          },
          "execution_count": 34
        }
      ]
    },
    {
      "cell_type": "markdown",
      "metadata": {
        "id": "kA07MOezUtOl"
      },
      "source": [
        "## 9. Escolhendo duas variáveis para treinar o modelo"
      ]
    },
    {
      "cell_type": "code",
      "metadata": {
        "id": "SzX7_SfRU6WS"
      },
      "source": [
        "# A gente pode escolher as features com mais poder preditivo\n",
        "#   Vamos usar a classe SelectKBest do scikit-learn para fazer isso\n",
        "\n",
        "seletor_de_features = SelectKBest(chi2, k=2)\n",
        "dados_treinamento_duas_features = seletor_de_features.fit_transform(dados_treinamento_transformados, rotulos_treinamento)"
      ],
      "execution_count": null,
      "outputs": []
    },
    {
      "cell_type": "code",
      "metadata": {
        "id": "YWYWOp96fmtY",
        "colab": {
          "base_uri": "https://localhost:8080/",
          "height": 34
        },
        "outputId": "1ea58dab-30c9-46d6-b5e3-adebe775ae45"
      },
      "source": [
        "print(\"Features selecionadas:\",dados_treinamento.columns[seletor_de_features.get_support()].values)"
      ],
      "execution_count": null,
      "outputs": [
        {
          "output_type": "stream",
          "text": [
            "Features selecionadas: ['Material' 'Decoration']\n"
          ],
          "name": "stdout"
        }
      ]
    },
    {
      "cell_type": "code",
      "metadata": {
        "id": "t5XUYmlresj8",
        "colab": {
          "base_uri": "https://localhost:8080/",
          "height": 34
        },
        "outputId": "bd13398e-3795-4f03-ce6f-ec05cf0668be"
      },
      "source": [
        "dados_treinamento_duas_features.shape"
      ],
      "execution_count": null,
      "outputs": [
        {
          "output_type": "execute_result",
          "data": {
            "text/plain": [
              "(335, 2)"
            ]
          },
          "metadata": {
            "tags": []
          },
          "execution_count": 88
        }
      ]
    },
    {
      "cell_type": "markdown",
      "metadata": {
        "id": "PoyIVBarhCdf"
      },
      "source": [
        "## 10. Treinando o modelo"
      ]
    },
    {
      "cell_type": "code",
      "metadata": {
        "id": "xoSIaER8hFHa"
      },
      "source": [
        "clf = DecisionTreeClassifier()\n",
        "clf = clf.fit(dados_treinamento_duas_features, rotulos_treinamento)"
      ],
      "execution_count": null,
      "outputs": []
    },
    {
      "cell_type": "markdown",
      "metadata": {
        "id": "d63muo6DhG63"
      },
      "source": [
        "## 11. Avaliando o modelo"
      ]
    },
    {
      "cell_type": "code",
      "metadata": {
        "id": "zZU4jct6hKDG",
        "colab": {
          "base_uri": "https://localhost:8080/",
          "height": 34
        },
        "outputId": "95d48130-be1c-4ead-dd1d-7679ce205abc"
      },
      "source": [
        "dados_teste_sem_valores_faltantes = dados_teste.fillna(\"-1\")\n",
        "\n",
        "dados_teste_transformados = enc.fit_transform(dados_teste_sem_valores_faltantes)\n",
        "\n",
        "dados_teste_duas_features = seletor_de_features.transform(dados_teste_transformados)\n",
        "\n",
        "clf.score(dados_teste_duas_features,rotulos_teste)"
      ],
      "execution_count": null,
      "outputs": [
        {
          "output_type": "execute_result",
          "data": {
            "text/plain": [
              "0.3393939393939394"
            ]
          },
          "metadata": {
            "tags": []
          },
          "execution_count": 94
        }
      ]
    }
  ]
}