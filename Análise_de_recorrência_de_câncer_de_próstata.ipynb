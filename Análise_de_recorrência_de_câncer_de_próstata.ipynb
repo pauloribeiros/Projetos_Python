{
  "nbformat": 4,
  "nbformat_minor": 0,
  "metadata": {
    "kernelspec": {
      "display_name": "Python 3",
      "language": "python",
      "name": "python3"
    },
    "language_info": {
      "codemirror_mode": {
        "name": "ipython",
        "version": 3
      },
      "file_extension": ".py",
      "mimetype": "text/x-python",
      "name": "python",
      "nbconvert_exporter": "python",
      "pygments_lexer": "ipython3",
      "version": "3.8.3"
    },
    "colab": {
      "name": "Análise de recorrência de câncer de prostata. .ipynb",
      "provenance": []
    }
  },
  "cells": [
    {
      "cell_type": "markdown",
      "metadata": {
        "id": "MaVxmed415DP"
      },
      "source": [
        "## Análise de recorrência de câncer de próstata. \n",
        "\n",
        "\n",
        "\n",
        "\n",
        "\n",
        "### Introdução\n",
        "  Neste projeto, explorei e analisei o conjunto de dados \"Blood Storage\" do Cleveland Clinic Lerner Research Institute (http://www.lerner.ccf.org/qhs/datasets/).\n",
        "\n",
        "    O conjunto de dados foi originalmente usado para analisar como o armazenamento de sangue pode influenciar na recorrência do câncer de próstata. Neste trabalho, entretanto, o objetivo é entender se outras colunas influenciam nessa recorrência.\n",
        "\n",
        "    Como um estatístico, ao me deparar com vários estudos e conjuntos de dados relacionados a este assunto, identifiquei que seria possível prever aproximadamente como poderia trabalhar com estes dados, realizando alguns insights importantes. "
      ]
    },
    {
      "cell_type": "markdown",
      "metadata": {
        "id": "-I-l_Bsq15Dq"
      },
      "source": [
        "### Drescrição do Dataset\n",
        "\n",
        "![image.png](attachment:image.png)\n"
      ]
    },
    {
      "cell_type": "markdown",
      "metadata": {
        "id": "2iFADy6P15Fi"
      },
      "source": [
        "### Exploração Inicial\n",
        "\n"
      ]
    },
    {
      "cell_type": "code",
      "metadata": {
        "scrolled": true,
        "id": "4ksd285v15Fj",
        "outputId": "212513c7-321c-4612-a626-0315b4c3255a"
      },
      "source": [
        "import pandas as pd\n",
        "import numpy as np\n",
        "import matplotlib.pyplot as plt\n",
        "import seaborn as sns\n",
        "\n",
        "# set pastel color for plots\n",
        "sns.set(style=\"ticks\", palette=\"pastel\")\n",
        "\n",
        "# import dataset and view first datas\n",
        "df = pd.read_csv(\"https://raw.githubusercontent.com/elayni/prostate-cancer-recurrence-analysis/main/Dataset/BloodStorage.csv\", error_bad_lines=False)\n",
        "\n",
        "df.head()"
      ],
      "execution_count": null,
      "outputs": [
        {
          "output_type": "execute_result",
          "data": {
            "text/html": [
              "<div>\n",
              "<style scoped>\n",
              "    .dataframe tbody tr th:only-of-type {\n",
              "        vertical-align: middle;\n",
              "    }\n",
              "\n",
              "    .dataframe tbody tr th {\n",
              "        vertical-align: top;\n",
              "    }\n",
              "\n",
              "    .dataframe thead th {\n",
              "        text-align: right;\n",
              "    }\n",
              "</style>\n",
              "<table border=\"1\" class=\"dataframe\">\n",
              "  <thead>\n",
              "    <tr style=\"text-align: right;\">\n",
              "      <th></th>\n",
              "      <th>RBC Age Group</th>\n",
              "      <th>Median RBC Age</th>\n",
              "      <th>Age</th>\n",
              "      <th>AA</th>\n",
              "      <th>FamHx</th>\n",
              "      <th>PVol</th>\n",
              "      <th>TVol</th>\n",
              "      <th>T Stage</th>\n",
              "      <th>bGS</th>\n",
              "      <th>BN+</th>\n",
              "      <th>OrganConfined</th>\n",
              "      <th>PreopPSA</th>\n",
              "      <th>PreopTherapy</th>\n",
              "      <th>Units</th>\n",
              "      <th>sGS</th>\n",
              "      <th>AnyAdjTherapy</th>\n",
              "      <th>AdjRadTherapy</th>\n",
              "      <th>Recurrence</th>\n",
              "      <th>Censor</th>\n",
              "      <th>TimeToRecurrence</th>\n",
              "    </tr>\n",
              "  </thead>\n",
              "  <tbody>\n",
              "    <tr>\n",
              "      <th>0</th>\n",
              "      <td>3</td>\n",
              "      <td>25</td>\n",
              "      <td>72.1</td>\n",
              "      <td>0</td>\n",
              "      <td>0</td>\n",
              "      <td>54.0</td>\n",
              "      <td>3.0</td>\n",
              "      <td>1.0</td>\n",
              "      <td>3.0</td>\n",
              "      <td>0</td>\n",
              "      <td>0</td>\n",
              "      <td>14.08</td>\n",
              "      <td>1</td>\n",
              "      <td>6</td>\n",
              "      <td>1</td>\n",
              "      <td>0</td>\n",
              "      <td>0</td>\n",
              "      <td>1</td>\n",
              "      <td>0</td>\n",
              "      <td>2.67</td>\n",
              "    </tr>\n",
              "    <tr>\n",
              "      <th>1</th>\n",
              "      <td>3</td>\n",
              "      <td>25</td>\n",
              "      <td>73.6</td>\n",
              "      <td>0</td>\n",
              "      <td>0</td>\n",
              "      <td>43.2</td>\n",
              "      <td>3.0</td>\n",
              "      <td>2.0</td>\n",
              "      <td>2.0</td>\n",
              "      <td>0</td>\n",
              "      <td>1</td>\n",
              "      <td>10.50</td>\n",
              "      <td>0</td>\n",
              "      <td>2</td>\n",
              "      <td>3</td>\n",
              "      <td>0</td>\n",
              "      <td>0</td>\n",
              "      <td>1</td>\n",
              "      <td>0</td>\n",
              "      <td>47.63</td>\n",
              "    </tr>\n",
              "    <tr>\n",
              "      <th>2</th>\n",
              "      <td>3</td>\n",
              "      <td>25</td>\n",
              "      <td>67.5</td>\n",
              "      <td>0</td>\n",
              "      <td>0</td>\n",
              "      <td>102.7</td>\n",
              "      <td>1.0</td>\n",
              "      <td>1.0</td>\n",
              "      <td>3.0</td>\n",
              "      <td>0</td>\n",
              "      <td>1</td>\n",
              "      <td>6.98</td>\n",
              "      <td>1</td>\n",
              "      <td>1</td>\n",
              "      <td>1</td>\n",
              "      <td>0</td>\n",
              "      <td>0</td>\n",
              "      <td>0</td>\n",
              "      <td>1</td>\n",
              "      <td>14.10</td>\n",
              "    </tr>\n",
              "    <tr>\n",
              "      <th>3</th>\n",
              "      <td>2</td>\n",
              "      <td>15</td>\n",
              "      <td>65.8</td>\n",
              "      <td>0</td>\n",
              "      <td>0</td>\n",
              "      <td>46.0</td>\n",
              "      <td>1.0</td>\n",
              "      <td>1.0</td>\n",
              "      <td>1.0</td>\n",
              "      <td>0</td>\n",
              "      <td>1</td>\n",
              "      <td>4.40</td>\n",
              "      <td>0</td>\n",
              "      <td>2</td>\n",
              "      <td>3</td>\n",
              "      <td>0</td>\n",
              "      <td>0</td>\n",
              "      <td>0</td>\n",
              "      <td>1</td>\n",
              "      <td>59.47</td>\n",
              "    </tr>\n",
              "    <tr>\n",
              "      <th>4</th>\n",
              "      <td>2</td>\n",
              "      <td>15</td>\n",
              "      <td>63.2</td>\n",
              "      <td>0</td>\n",
              "      <td>0</td>\n",
              "      <td>60.0</td>\n",
              "      <td>2.0</td>\n",
              "      <td>1.0</td>\n",
              "      <td>2.0</td>\n",
              "      <td>0</td>\n",
              "      <td>1</td>\n",
              "      <td>21.40</td>\n",
              "      <td>0</td>\n",
              "      <td>3</td>\n",
              "      <td>3</td>\n",
              "      <td>0</td>\n",
              "      <td>0</td>\n",
              "      <td>0</td>\n",
              "      <td>1</td>\n",
              "      <td>1.23</td>\n",
              "    </tr>\n",
              "  </tbody>\n",
              "</table>\n",
              "</div>"
            ],
            "text/plain": [
              "   RBC Age Group  Median RBC Age   Age  AA  FamHx   PVol  TVol  T Stage  bGS  \\\n",
              "0              3              25  72.1   0      0   54.0   3.0      1.0  3.0   \n",
              "1              3              25  73.6   0      0   43.2   3.0      2.0  2.0   \n",
              "2              3              25  67.5   0      0  102.7   1.0      1.0  3.0   \n",
              "3              2              15  65.8   0      0   46.0   1.0      1.0  1.0   \n",
              "4              2              15  63.2   0      0   60.0   2.0      1.0  2.0   \n",
              "\n",
              "   BN+  OrganConfined  PreopPSA  PreopTherapy  Units  sGS  AnyAdjTherapy  \\\n",
              "0    0              0     14.08             1      6    1              0   \n",
              "1    0              1     10.50             0      2    3              0   \n",
              "2    0              1      6.98             1      1    1              0   \n",
              "3    0              1      4.40             0      2    3              0   \n",
              "4    0              1     21.40             0      3    3              0   \n",
              "\n",
              "   AdjRadTherapy  Recurrence  Censor  TimeToRecurrence  \n",
              "0              0           1       0              2.67  \n",
              "1              0           1       0             47.63  \n",
              "2              0           0       1             14.10  \n",
              "3              0           0       1             59.47  \n",
              "4              0           0       1              1.23  "
            ]
          },
          "metadata": {
            "tags": []
          },
          "execution_count": 101
        }
      ]
    },
    {
      "cell_type": "code",
      "metadata": {
        "id": "7PVCxMLl15GN",
        "outputId": "cabbf689-c619-4281-f047-4e37d3dd60af"
      },
      "source": [
        "df.duplicated()"
      ],
      "execution_count": null,
      "outputs": [
        {
          "output_type": "execute_result",
          "data": {
            "text/plain": [
              "0      False\n",
              "1      False\n",
              "2      False\n",
              "3      False\n",
              "4      False\n",
              "       ...  \n",
              "311    False\n",
              "312    False\n",
              "313    False\n",
              "314    False\n",
              "315    False\n",
              "Length: 316, dtype: bool"
            ]
          },
          "metadata": {
            "tags": []
          },
          "execution_count": 102
        }
      ]
    },
    {
      "cell_type": "code",
      "metadata": {
        "id": "HBo5jnxs15GO",
        "outputId": "60db915f-ba52-4be3-f81c-1bc16ef28e03"
      },
      "source": [
        "# info() makes it possible to see missing data, data types, column names, and number of entries\n",
        "df.info()"
      ],
      "execution_count": null,
      "outputs": [
        {
          "output_type": "stream",
          "text": [
            "<class 'pandas.core.frame.DataFrame'>\n",
            "RangeIndex: 316 entries, 0 to 315\n",
            "Data columns (total 20 columns):\n",
            " #   Column            Non-Null Count  Dtype  \n",
            "---  ------            --------------  -----  \n",
            " 0   RBC Age Group     316 non-null    int64  \n",
            " 1   Median RBC Age    316 non-null    int64  \n",
            " 2   Age               316 non-null    float64\n",
            " 3   AA                316 non-null    int64  \n",
            " 4   FamHx             316 non-null    int64  \n",
            " 5   PVol              307 non-null    float64\n",
            " 6   TVol              310 non-null    float64\n",
            " 7   T Stage           303 non-null    float64\n",
            " 8   bGS               314 non-null    float64\n",
            " 9   BN+               316 non-null    int64  \n",
            " 10  OrganConfined     316 non-null    int64  \n",
            " 11  PreopPSA          313 non-null    float64\n",
            " 12  PreopTherapy      316 non-null    int64  \n",
            " 13  Units             316 non-null    int64  \n",
            " 14  sGS               316 non-null    int64  \n",
            " 15  AnyAdjTherapy     316 non-null    int64  \n",
            " 16  AdjRadTherapy     316 non-null    int64  \n",
            " 17  Recurrence        316 non-null    int64  \n",
            " 18  Censor            316 non-null    int64  \n",
            " 19  TimeToRecurrence  315 non-null    float64\n",
            "dtypes: float64(7), int64(13)\n",
            "memory usage: 49.5 KB\n"
          ],
          "name": "stdout"
        }
      ]
    },
    {
      "cell_type": "code",
      "metadata": {
        "id": "6MFaPm5s15GP",
        "outputId": "5b3ed8be-f065-49fd-8553-b41f4c7815cc"
      },
      "source": [
        "# count missing data\n",
        "df.isna().sum()"
      ],
      "execution_count": null,
      "outputs": [
        {
          "output_type": "execute_result",
          "data": {
            "text/plain": [
              "RBC Age Group        0\n",
              "Median RBC Age       0\n",
              "Age                  0\n",
              "AA                   0\n",
              "FamHx                0\n",
              "PVol                 9\n",
              "TVol                 6\n",
              "T Stage             13\n",
              "bGS                  2\n",
              "BN+                  0\n",
              "OrganConfined        0\n",
              "PreopPSA             3\n",
              "PreopTherapy         0\n",
              "Units                0\n",
              "sGS                  0\n",
              "AnyAdjTherapy        0\n",
              "AdjRadTherapy        0\n",
              "Recurrence           0\n",
              "Censor               0\n",
              "TimeToRecurrence     1\n",
              "dtype: int64"
            ]
          },
          "metadata": {
            "tags": []
          },
          "execution_count": 104
        }
      ]
    },
    {
      "cell_type": "code",
      "metadata": {
        "id": "a6rkTYuy15GQ"
      },
      "source": [
        "# drop categorical data\n",
        "df_nocatg = df[[\"Age\", \"PVol\", \"PreopPSA\", \"Units\", \"TimeToRecurrence\"]]"
      ],
      "execution_count": null,
      "outputs": []
    },
    {
      "cell_type": "markdown",
      "metadata": {
        "id": "EBBJQQY115GQ"
      },
      "source": [
        "  Não existe um \"melhor\" número de bins, e diferentes tamanhos de bins podem revelar diferentes características dos dados. Para determinar o número de bins para que possamos ter uma melhor visualização do histograma, usamos a fórmula de Sturges. Esta fórmula é derivada de uma distribuição binomial e assume implicitamente uma distribuição aproximadamente normal. Portanto, pode ser usado como um critério para determinar o número de classes ou intervalos necessários para representar graficamente um conjunto de dados estatísticos. Entre outras do gênero, a fórmula de Sturges foi escolhida para este projeto devido à sua facilidade de aplicação."
      ]
    },
    {
      "cell_type": "code",
      "metadata": {
        "id": "pOREpplk15GR"
      },
      "source": [
        "# Sturges for bins number\n",
        "k = 1 + 3.322 * np.log10(316)"
      ],
      "execution_count": null,
      "outputs": []
    },
    {
      "cell_type": "code",
      "metadata": {
        "scrolled": false,
        "id": "-VXuUVi415GR",
        "outputId": "dbf866b3-a9e1-4b2f-9d5a-c453f04daa8a"
      },
      "source": [
        "# To see data distribution\n",
        "fix, fig = plt.subplots(figsize=(20,10))\n",
        "df_nocatg.hist(ax=fig, bins= int(k), grid=True)\n",
        "plt.show()"
      ],
      "execution_count": null,
      "outputs": [
        {
          "output_type": "stream",
          "text": [
            "<ipython-input-107-4f4cf55cf852>:3: UserWarning: To output multiple subplots, the figure containing the passed axes is being cleared\n",
            "  df_nocatg.hist(ax=fig, bins= int(k), grid=True)\n"
          ],
          "name": "stderr"
        },
        {
          "output_type": "display_data",
          "data": {
            "image/png": "[encoded data removed]",
            "text/plain": [
              "<Figure size 1440x720 with 6 Axes>"
            ]
          },
          "metadata": {
            "tags": []
          }
        }
      ]
    },
    {
      "cell_type": "code",
      "metadata": {
        "id": "xJhL5xOV15GS",
        "outputId": "acdc6228-9fd6-488a-f672-fae3e4a8e5b7"
      },
      "source": [
        "# Percent of race, 17% is African American and 82% can be white, asian or indigenous people,\n",
        "# but because they are American people, most of them are likely to be white.\n",
        "race = df['AA'].value_counts()\n",
        "race/len(df)"
      ],
      "execution_count": null,
      "outputs": [
        {
          "output_type": "execute_result",
          "data": {
            "text/plain": [
              "0    0.825949\n",
              "1    0.174051\n",
              "Name: AA, dtype: float64"
            ]
          },
          "metadata": {
            "tags": []
          },
          "execution_count": 108
        }
      ]
    },
    {
      "cell_type": "markdown",
      "metadata": {
        "id": "Cl8c4gNm15GS"
      },
      "source": [
        "### Pré-Processamento do Dataset"
      ]
    },
    {
      "cell_type": "code",
      "metadata": {
        "id": "jf3cRScC15GT",
        "outputId": "71c73577-6f1b-4929-a6b6-fa56280a6573"
      },
      "source": [
        "df.head()"
      ],
      "execution_count": null,
      "outputs": [
        {
          "output_type": "execute_result",
          "data": {
            "text/html": [
              "<div>\n",
              "<style scoped>\n",
              "    .dataframe tbody tr th:only-of-type {\n",
              "        vertical-align: middle;\n",
              "    }\n",
              "\n",
              "    .dataframe tbody tr th {\n",
              "        vertical-align: top;\n",
              "    }\n",
              "\n",
              "    .dataframe thead th {\n",
              "        text-align: right;\n",
              "    }\n",
              "</style>\n",
              "<table border=\"1\" class=\"dataframe\">\n",
              "  <thead>\n",
              "    <tr style=\"text-align: right;\">\n",
              "      <th></th>\n",
              "      <th>RBC Age Group</th>\n",
              "      <th>Median RBC Age</th>\n",
              "      <th>Age</th>\n",
              "      <th>AA</th>\n",
              "      <th>FamHx</th>\n",
              "      <th>PVol</th>\n",
              "      <th>TVol</th>\n",
              "      <th>T Stage</th>\n",
              "      <th>bGS</th>\n",
              "      <th>BN+</th>\n",
              "      <th>OrganConfined</th>\n",
              "      <th>PreopPSA</th>\n",
              "      <th>PreopTherapy</th>\n",
              "      <th>Units</th>\n",
              "      <th>sGS</th>\n",
              "      <th>AnyAdjTherapy</th>\n",
              "      <th>AdjRadTherapy</th>\n",
              "      <th>Recurrence</th>\n",
              "      <th>Censor</th>\n",
              "      <th>TimeToRecurrence</th>\n",
              "    </tr>\n",
              "  </thead>\n",
              "  <tbody>\n",
              "    <tr>\n",
              "      <th>0</th>\n",
              "      <td>3</td>\n",
              "      <td>25</td>\n",
              "      <td>72.1</td>\n",
              "      <td>0</td>\n",
              "      <td>0</td>\n",
              "      <td>54.0</td>\n",
              "      <td>3.0</td>\n",
              "      <td>1.0</td>\n",
              "      <td>3.0</td>\n",
              "      <td>0</td>\n",
              "      <td>0</td>\n",
              "      <td>14.08</td>\n",
              "      <td>1</td>\n",
              "      <td>6</td>\n",
              "      <td>1</td>\n",
              "      <td>0</td>\n",
              "      <td>0</td>\n",
              "      <td>1</td>\n",
              "      <td>0</td>\n",
              "      <td>2.67</td>\n",
              "    </tr>\n",
              "    <tr>\n",
              "      <th>1</th>\n",
              "      <td>3</td>\n",
              "      <td>25</td>\n",
              "      <td>73.6</td>\n",
              "      <td>0</td>\n",
              "      <td>0</td>\n",
              "      <td>43.2</td>\n",
              "      <td>3.0</td>\n",
              "      <td>2.0</td>\n",
              "      <td>2.0</td>\n",
              "      <td>0</td>\n",
              "      <td>1</td>\n",
              "      <td>10.50</td>\n",
              "      <td>0</td>\n",
              "      <td>2</td>\n",
              "      <td>3</td>\n",
              "      <td>0</td>\n",
              "      <td>0</td>\n",
              "      <td>1</td>\n",
              "      <td>0</td>\n",
              "      <td>47.63</td>\n",
              "    </tr>\n",
              "    <tr>\n",
              "      <th>2</th>\n",
              "      <td>3</td>\n",
              "      <td>25</td>\n",
              "      <td>67.5</td>\n",
              "      <td>0</td>\n",
              "      <td>0</td>\n",
              "      <td>102.7</td>\n",
              "      <td>1.0</td>\n",
              "      <td>1.0</td>\n",
              "      <td>3.0</td>\n",
              "      <td>0</td>\n",
              "      <td>1</td>\n",
              "      <td>6.98</td>\n",
              "      <td>1</td>\n",
              "      <td>1</td>\n",
              "      <td>1</td>\n",
              "      <td>0</td>\n",
              "      <td>0</td>\n",
              "      <td>0</td>\n",
              "      <td>1</td>\n",
              "      <td>14.10</td>\n",
              "    </tr>\n",
              "    <tr>\n",
              "      <th>3</th>\n",
              "      <td>2</td>\n",
              "      <td>15</td>\n",
              "      <td>65.8</td>\n",
              "      <td>0</td>\n",
              "      <td>0</td>\n",
              "      <td>46.0</td>\n",
              "      <td>1.0</td>\n",
              "      <td>1.0</td>\n",
              "      <td>1.0</td>\n",
              "      <td>0</td>\n",
              "      <td>1</td>\n",
              "      <td>4.40</td>\n",
              "      <td>0</td>\n",
              "      <td>2</td>\n",
              "      <td>3</td>\n",
              "      <td>0</td>\n",
              "      <td>0</td>\n",
              "      <td>0</td>\n",
              "      <td>1</td>\n",
              "      <td>59.47</td>\n",
              "    </tr>\n",
              "    <tr>\n",
              "      <th>4</th>\n",
              "      <td>2</td>\n",
              "      <td>15</td>\n",
              "      <td>63.2</td>\n",
              "      <td>0</td>\n",
              "      <td>0</td>\n",
              "      <td>60.0</td>\n",
              "      <td>2.0</td>\n",
              "      <td>1.0</td>\n",
              "      <td>2.0</td>\n",
              "      <td>0</td>\n",
              "      <td>1</td>\n",
              "      <td>21.40</td>\n",
              "      <td>0</td>\n",
              "      <td>3</td>\n",
              "      <td>3</td>\n",
              "      <td>0</td>\n",
              "      <td>0</td>\n",
              "      <td>0</td>\n",
              "      <td>1</td>\n",
              "      <td>1.23</td>\n",
              "    </tr>\n",
              "  </tbody>\n",
              "</table>\n",
              "</div>"
            ],
            "text/plain": [
              "   RBC Age Group  Median RBC Age   Age  AA  FamHx   PVol  TVol  T Stage  bGS  \\\n",
              "0              3              25  72.1   0      0   54.0   3.0      1.0  3.0   \n",
              "1              3              25  73.6   0      0   43.2   3.0      2.0  2.0   \n",
              "2              3              25  67.5   0      0  102.7   1.0      1.0  3.0   \n",
              "3              2              15  65.8   0      0   46.0   1.0      1.0  1.0   \n",
              "4              2              15  63.2   0      0   60.0   2.0      1.0  2.0   \n",
              "\n",
              "   BN+  OrganConfined  PreopPSA  PreopTherapy  Units  sGS  AnyAdjTherapy  \\\n",
              "0    0              0     14.08             1      6    1              0   \n",
              "1    0              1     10.50             0      2    3              0   \n",
              "2    0              1      6.98             1      1    1              0   \n",
              "3    0              1      4.40             0      2    3              0   \n",
              "4    0              1     21.40             0      3    3              0   \n",
              "\n",
              "   AdjRadTherapy  Recurrence  Censor  TimeToRecurrence  \n",
              "0              0           1       0              2.67  \n",
              "1              0           1       0             47.63  \n",
              "2              0           0       1             14.10  \n",
              "3              0           0       1             59.47  \n",
              "4              0           0       1              1.23  "
            ]
          },
          "metadata": {
            "tags": []
          },
          "execution_count": 109
        }
      ]
    },
    {
      "cell_type": "code",
      "metadata": {
        "scrolled": true,
        "id": "OUi_v7Qv15GT",
        "outputId": "e8be8fbd-0cb5-4d96-c6ad-c4e04d4fbb40"
      },
      "source": [
        "# replacing missing data to column median\n",
        "df['PVol'].fillna(df['PVol'].median(), inplace=True)\n",
        "df['PreopPSA'].fillna(df['PreopPSA'].median(), inplace=True)\n",
        "df['TimeToRecurrence'].fillna(df['TimeToRecurrence'].median(), inplace=True)\n",
        "# only categorical missing data \n",
        "df.isna().sum()"
      ],
      "execution_count": null,
      "outputs": [
        {
          "output_type": "execute_result",
          "data": {
            "text/plain": [
              "RBC Age Group        0\n",
              "Median RBC Age       0\n",
              "Age                  0\n",
              "AA                   0\n",
              "FamHx                0\n",
              "PVol                 0\n",
              "TVol                 6\n",
              "T Stage             13\n",
              "bGS                  2\n",
              "BN+                  0\n",
              "OrganConfined        0\n",
              "PreopPSA             0\n",
              "PreopTherapy         0\n",
              "Units                0\n",
              "sGS                  0\n",
              "AnyAdjTherapy        0\n",
              "AdjRadTherapy        0\n",
              "Recurrence           0\n",
              "Censor               0\n",
              "TimeToRecurrence     0\n",
              "dtype: int64"
            ]
          },
          "metadata": {
            "tags": []
          },
          "execution_count": 110
        }
      ]
    },
    {
      "cell_type": "code",
      "metadata": {
        "id": "sOUsOIhD15GU"
      },
      "source": [
        "# drop categorical missing data\n",
        "df = df.dropna()"
      ],
      "execution_count": null,
      "outputs": []
    },
    {
      "cell_type": "code",
      "metadata": {
        "id": "nMuz1ByI15GU"
      },
      "source": [
        "# drop columns that will not be useful to answer questions\n",
        "df = df.drop([\"RBC Age Group\", \"Median RBC Age\"], axis = 1)"
      ],
      "execution_count": null,
      "outputs": []
    },
    {
      "cell_type": "code",
      "metadata": {
        "scrolled": true,
        "id": "JksoTvjq15GV",
        "outputId": "b533626a-b1bc-4a73-d2a3-1f80f92dd50c"
      },
      "source": [
        "# checck dataframe\n",
        "df.head(3)"
      ],
      "execution_count": null,
      "outputs": [
        {
          "output_type": "execute_result",
          "data": {
            "text/html": [
              "<div>\n",
              "<style scoped>\n",
              "    .dataframe tbody tr th:only-of-type {\n",
              "        vertical-align: middle;\n",
              "    }\n",
              "\n",
              "    .dataframe tbody tr th {\n",
              "        vertical-align: top;\n",
              "    }\n",
              "\n",
              "    .dataframe thead th {\n",
              "        text-align: right;\n",
              "    }\n",
              "</style>\n",
              "<table border=\"1\" class=\"dataframe\">\n",
              "  <thead>\n",
              "    <tr style=\"text-align: right;\">\n",
              "      <th></th>\n",
              "      <th>Age</th>\n",
              "      <th>AA</th>\n",
              "      <th>FamHx</th>\n",
              "      <th>PVol</th>\n",
              "      <th>TVol</th>\n",
              "      <th>T Stage</th>\n",
              "      <th>bGS</th>\n",
              "      <th>BN+</th>\n",
              "      <th>OrganConfined</th>\n",
              "      <th>PreopPSA</th>\n",
              "      <th>PreopTherapy</th>\n",
              "      <th>Units</th>\n",
              "      <th>sGS</th>\n",
              "      <th>AnyAdjTherapy</th>\n",
              "      <th>AdjRadTherapy</th>\n",
              "      <th>Recurrence</th>\n",
              "      <th>Censor</th>\n",
              "      <th>TimeToRecurrence</th>\n",
              "    </tr>\n",
              "  </thead>\n",
              "  <tbody>\n",
              "    <tr>\n",
              "      <th>0</th>\n",
              "      <td>72.1</td>\n",
              "      <td>0</td>\n",
              "      <td>0</td>\n",
              "      <td>54.0</td>\n",
              "      <td>3.0</td>\n",
              "      <td>1.0</td>\n",
              "      <td>3.0</td>\n",
              "      <td>0</td>\n",
              "      <td>0</td>\n",
              "      <td>14.08</td>\n",
              "      <td>1</td>\n",
              "      <td>6</td>\n",
              "      <td>1</td>\n",
              "      <td>0</td>\n",
              "      <td>0</td>\n",
              "      <td>1</td>\n",
              "      <td>0</td>\n",
              "      <td>2.67</td>\n",
              "    </tr>\n",
              "    <tr>\n",
              "      <th>1</th>\n",
              "      <td>73.6</td>\n",
              "      <td>0</td>\n",
              "      <td>0</td>\n",
              "      <td>43.2</td>\n",
              "      <td>3.0</td>\n",
              "      <td>2.0</td>\n",
              "      <td>2.0</td>\n",
              "      <td>0</td>\n",
              "      <td>1</td>\n",
              "      <td>10.50</td>\n",
              "      <td>0</td>\n",
              "      <td>2</td>\n",
              "      <td>3</td>\n",
              "      <td>0</td>\n",
              "      <td>0</td>\n",
              "      <td>1</td>\n",
              "      <td>0</td>\n",
              "      <td>47.63</td>\n",
              "    </tr>\n",
              "    <tr>\n",
              "      <th>2</th>\n",
              "      <td>67.5</td>\n",
              "      <td>0</td>\n",
              "      <td>0</td>\n",
              "      <td>102.7</td>\n",
              "      <td>1.0</td>\n",
              "      <td>1.0</td>\n",
              "      <td>3.0</td>\n",
              "      <td>0</td>\n",
              "      <td>1</td>\n",
              "      <td>6.98</td>\n",
              "      <td>1</td>\n",
              "      <td>1</td>\n",
              "      <td>1</td>\n",
              "      <td>0</td>\n",
              "      <td>0</td>\n",
              "      <td>0</td>\n",
              "      <td>1</td>\n",
              "      <td>14.10</td>\n",
              "    </tr>\n",
              "  </tbody>\n",
              "</table>\n",
              "</div>"
            ],
            "text/plain": [
              "    Age  AA  FamHx   PVol  TVol  T Stage  bGS  BN+  OrganConfined  PreopPSA  \\\n",
              "0  72.1   0      0   54.0   3.0      1.0  3.0    0              0     14.08   \n",
              "1  73.6   0      0   43.2   3.0      2.0  2.0    0              1     10.50   \n",
              "2  67.5   0      0  102.7   1.0      1.0  3.0    0              1      6.98   \n",
              "\n",
              "   PreopTherapy  Units  sGS  AnyAdjTherapy  AdjRadTherapy  Recurrence  Censor  \\\n",
              "0             1      6    1              0              0           1       0   \n",
              "1             0      2    3              0              0           1       0   \n",
              "2             1      1    1              0              0           0       1   \n",
              "\n",
              "   TimeToRecurrence  \n",
              "0              2.67  \n",
              "1             47.63  \n",
              "2             14.10  "
            ]
          },
          "metadata": {
            "tags": []
          },
          "execution_count": 113
        }
      ]
    },
    {
      "cell_type": "markdown",
      "metadata": {
        "id": "gu3UwreY15GV"
      },
      "source": [
        "#### Medidas de centralidade e dispersão\n",
        "     Não usamos df.mean () porque algumas colunas são normalizadas para dados categóricos."
      ]
    },
    {
      "cell_type": "code",
      "metadata": {
        "scrolled": true,
        "id": "0I8N8fxu15GW",
        "outputId": "0df03ad7-1f84-405b-b25e-04d6b1685e04"
      },
      "source": [
        "df_numeric = df[[\"Age\", \"PVol\", \"PreopPSA\", \"Units\", \"TimeToRecurrence\"]]\n",
        "\n",
        "# centrality and dispersion measures\n",
        "# means and medians\n",
        "df_means = pd.DataFrame(np.mean(df_numeric, axis = 0), columns= [\"means\"])\n",
        "df_medians = pd.Series(np.median(df_numeric, axis=0), name = \"medians\")\n",
        "\n",
        "df_means.reset_index(drop=True, inplace = True)\n",
        "df_c = pd.concat([df_means, df_medians], axis=1)\n",
        "\n",
        "df_c.rename(index = {0: \"Age\", 1: \"Pvol\", 2: \"PreopPSA\",\n",
        "               3:\"Units\", 4:\"TimeToReccurence\"}, inplace= True)\n",
        "\n",
        "# dataframe with centrality measures - mean and median\n",
        "df_c"
      ],
      "execution_count": null,
      "outputs": [
        {
          "output_type": "execute_result",
          "data": {
            "text/html": [
              "<div>\n",
              "<style scoped>\n",
              "    .dataframe tbody tr th:only-of-type {\n",
              "        vertical-align: middle;\n",
              "    }\n",
              "\n",
              "    .dataframe tbody tr th {\n",
              "        vertical-align: top;\n",
              "    }\n",
              "\n",
              "    .dataframe thead th {\n",
              "        text-align: right;\n",
              "    }\n",
              "</style>\n",
              "<table border=\"1\" class=\"dataframe\">\n",
              "  <thead>\n",
              "    <tr style=\"text-align: right;\">\n",
              "      <th></th>\n",
              "      <th>means</th>\n",
              "      <th>medians</th>\n",
              "    </tr>\n",
              "  </thead>\n",
              "  <tbody>\n",
              "    <tr>\n",
              "      <th>Age</th>\n",
              "      <td>61.063636</td>\n",
              "      <td>61.90</td>\n",
              "    </tr>\n",
              "    <tr>\n",
              "      <th>Pvol</th>\n",
              "      <td>55.759259</td>\n",
              "      <td>49.00</td>\n",
              "    </tr>\n",
              "    <tr>\n",
              "      <th>PreopPSA</th>\n",
              "      <td>8.251111</td>\n",
              "      <td>6.20</td>\n",
              "    </tr>\n",
              "    <tr>\n",
              "      <th>Units</th>\n",
              "      <td>2.383838</td>\n",
              "      <td>2.00</td>\n",
              "    </tr>\n",
              "    <tr>\n",
              "      <th>TimeToReccurence</th>\n",
              "      <td>33.567778</td>\n",
              "      <td>26.77</td>\n",
              "    </tr>\n",
              "  </tbody>\n",
              "</table>\n",
              "</div>"
            ],
            "text/plain": [
              "                      means  medians\n",
              "Age               61.063636    61.90\n",
              "Pvol              55.759259    49.00\n",
              "PreopPSA           8.251111     6.20\n",
              "Units              2.383838     2.00\n",
              "TimeToReccurence  33.567778    26.77"
            ]
          },
          "metadata": {
            "tags": []
          },
          "execution_count": 114
        }
      ]
    },
    {
      "cell_type": "code",
      "metadata": {
        "scrolled": true,
        "id": "MXgRHNTY15GW",
        "outputId": "359385d3-7712-4552-f9ca-f230ca4eb9ea"
      },
      "source": [
        "# comparison between means and medians\n",
        "df_c.plot(kind = 'bar', grid=True, figsize=(8,5))"
      ],
      "execution_count": null,
      "outputs": [
        {
          "output_type": "execute_result",
          "data": {
            "text/plain": [
              "<matplotlib.axes._subplots.AxesSubplot at 0x2592d44e3d0>"
            ]
          },
          "metadata": {
            "tags": []
          },
          "execution_count": 115
        },
        {
          "output_type": "display_data",
          "data": {
            "image/png": "[encoded data removed]",
            "text/plain": [
              "<Figure size 576x360 with 1 Axes>"
            ]
          },
          "metadata": {
            "tags": []
          }
        }
      ]
    },
    {
      "cell_type": "code",
      "metadata": {
        "id": "yYoyyQEj15GX",
        "outputId": "c803fe79-cffd-4ace-d0a4-5a4fd1748f20"
      },
      "source": [
        "# mode for categorical data\n",
        "df_catg = df[[\"AA\", \"FamHx\", \"TVol\", \"T Stage\", \"bGS\", \"BN+\", \"OrganConfined\",\n",
        "             \"PreopTherapy\", \"sGS\", \"AnyAdjTherapy\", \"AdjRadTherapy\", \"Recurrence\", \"Censor\"]]\n",
        "\n",
        "df_catg.mode()"
      ],
      "execution_count": null,
      "outputs": [
        {
          "output_type": "execute_result",
          "data": {
            "text/html": [
              "<div>\n",
              "<style scoped>\n",
              "    .dataframe tbody tr th:only-of-type {\n",
              "        vertical-align: middle;\n",
              "    }\n",
              "\n",
              "    .dataframe tbody tr th {\n",
              "        vertical-align: top;\n",
              "    }\n",
              "\n",
              "    .dataframe thead th {\n",
              "        text-align: right;\n",
              "    }\n",
              "</style>\n",
              "<table border=\"1\" class=\"dataframe\">\n",
              "  <thead>\n",
              "    <tr style=\"text-align: right;\">\n",
              "      <th></th>\n",
              "      <th>AA</th>\n",
              "      <th>FamHx</th>\n",
              "      <th>TVol</th>\n",
              "      <th>T Stage</th>\n",
              "      <th>bGS</th>\n",
              "      <th>BN+</th>\n",
              "      <th>OrganConfined</th>\n",
              "      <th>PreopTherapy</th>\n",
              "      <th>sGS</th>\n",
              "      <th>AnyAdjTherapy</th>\n",
              "      <th>AdjRadTherapy</th>\n",
              "      <th>Recurrence</th>\n",
              "      <th>Censor</th>\n",
              "    </tr>\n",
              "  </thead>\n",
              "  <tbody>\n",
              "    <tr>\n",
              "      <th>0</th>\n",
              "      <td>0</td>\n",
              "      <td>0</td>\n",
              "      <td>2.0</td>\n",
              "      <td>1.0</td>\n",
              "      <td>1.0</td>\n",
              "      <td>0</td>\n",
              "      <td>1</td>\n",
              "      <td>0</td>\n",
              "      <td>3</td>\n",
              "      <td>0</td>\n",
              "      <td>0</td>\n",
              "      <td>0</td>\n",
              "      <td>1</td>\n",
              "    </tr>\n",
              "  </tbody>\n",
              "</table>\n",
              "</div>"
            ],
            "text/plain": [
              "   AA  FamHx  TVol  T Stage  bGS  BN+  OrganConfined  PreopTherapy  sGS  \\\n",
              "0   0      0   2.0      1.0  1.0    0              1             0    3   \n",
              "\n",
              "   AnyAdjTherapy  AdjRadTherapy  Recurrence  Censor  \n",
              "0              0              0           0       1  "
            ]
          },
          "metadata": {
            "tags": []
          },
          "execution_count": 116
        }
      ]
    },
    {
      "cell_type": "code",
      "metadata": {
        "id": "1vnBHTY115GX",
        "outputId": "4337ce2d-8fa2-4ec5-fb8a-152d69b9b6e8"
      },
      "source": [
        "# variance\n",
        "np.var(df_numeric)"
      ],
      "execution_count": null,
      "outputs": [
        {
          "output_type": "execute_result",
          "data": {
            "text/plain": [
              "Age                  53.250328\n",
              "PVol                846.115950\n",
              "PreopPSA             37.343326\n",
              "Units                 3.145597\n",
              "TimeToRecurrence    824.442434\n",
              "dtype: float64"
            ]
          },
          "metadata": {
            "tags": []
          },
          "execution_count": 117
        }
      ]
    },
    {
      "cell_type": "code",
      "metadata": {
        "id": "LkUzHloP15Gb",
        "outputId": "8385dc0f-da34-4220-c000-b490884d2d99"
      },
      "source": [
        "# standard deviation\n",
        "df_numeric.std()"
      ],
      "execution_count": null,
      "outputs": [
        {
          "output_type": "execute_result",
          "data": {
            "text/plain": [
              "Age                  7.309598\n",
              "PVol                29.137166\n",
              "PreopPSA             6.121232\n",
              "Units                1.776577\n",
              "TimeToRecurrence    28.761567\n",
              "dtype: float64"
            ]
          },
          "metadata": {
            "tags": []
          },
          "execution_count": 118
        }
      ]
    },
    {
      "cell_type": "code",
      "metadata": {
        "id": "OYjgu67v15Gc",
        "outputId": "8e89c22e-dcca-4975-d8b2-e2b6a63d08bb"
      },
      "source": [
        "df.shape"
      ],
      "execution_count": null,
      "outputs": [
        {
          "output_type": "execute_result",
          "data": {
            "text/plain": [
              "(297, 18)"
            ]
          },
          "metadata": {
            "tags": []
          },
          "execution_count": 119
        }
      ]
    },
    {
      "cell_type": "markdown",
      "metadata": {
        "id": "oH4VUIjr15Gc"
      },
      "source": [
        "#### Visualização do Dados."
      ]
    },
    {
      "cell_type": "code",
      "metadata": {
        "id": "XW1yr6ko15Gc",
        "outputId": "e4fb92ee-89b9-4c28-d4fe-9154fc2b9e00"
      },
      "source": [
        "# Draw a boxplot\n",
        "plt.figure(figsize=(10,7))\n",
        "sns.boxplot(x=\"AnyAdjTherapy\", y=\"TimeToRecurrence\",\n",
        "            hue=\"sGS\", data=df)\n",
        "sns.despine(offset=10, trim=True)\n",
        "plt.xlabel('Adj Therapy', c ='black', fontsize=20)\n",
        "plt.ylabel('Time to Biochemical Recurrence',c='g', color = 'black', fontsize=20)\n",
        "plt.title('Any Adjuvant Therapy and Time to Recurrence', c='black', fontsize=20)\n",
        "\n",
        "# some outliers in pacientes with 4 surgical Gleason score without adjuvant therapy"
      ],
      "execution_count": null,
      "outputs": [
        {
          "output_type": "execute_result",
          "data": {
            "text/plain": [
              "Text(0.5, 1.0, 'Any Adjuvant Therapy and Time to Recurrence')"
            ]
          },
          "metadata": {
            "tags": []
          },
          "execution_count": 120
        },
        {
          "output_type": "display_data",
          "data": {
            "image/png": "[encoded data removed]",
            "text/plain": [
              "<Figure size 720x504 with 1 Axes>"
            ]
          },
          "metadata": {
            "tags": []
          }
        }
      ]
    },
    {
      "cell_type": "code",
      "metadata": {
        "id": "QmbsXyQk15Gd",
        "outputId": "113e35a3-0354-4a13-d855-f8ebb38003e8"
      },
      "source": [
        "# Sturges for bins number\n",
        "k = 1 + 3.322 * np.log10(297)\n",
        "\n",
        "\n",
        "sns.distplot(df[\"TimeToRecurrence\"], bins = int(k))"
      ],
      "execution_count": null,
      "outputs": [
        {
          "output_type": "execute_result",
          "data": {
            "text/plain": [
              "<matplotlib.axes._subplots.AxesSubplot at 0x259308f8f70>"
            ]
          },
          "metadata": {
            "tags": []
          },
          "execution_count": 121
        },
        {
          "output_type": "display_data",
          "data": {
            "image/png": "[encoded data removed]",
            "text/plain": [
              "<Figure size 432x288 with 1 Axes>"
            ]
          },
          "metadata": {
            "tags": []
          }
        }
      ]
    },
    {
      "cell_type": "code",
      "metadata": {
        "id": "MeSaqG5815Ge",
        "outputId": "8b2d913f-659c-4c36-bfd4-9ef5c17d3c7b"
      },
      "source": [
        "# dispersion\n",
        "sns.scatterplot(data = df, x = \"TimeToRecurrence\", y = \"PreopPSA\")"
      ],
      "execution_count": null,
      "outputs": [
        {
          "output_type": "execute_result",
          "data": {
            "text/plain": [
              "<matplotlib.axes._subplots.AxesSubplot at 0x259309632e0>"
            ]
          },
          "metadata": {
            "tags": []
          },
          "execution_count": 123
        },
        {
          "output_type": "display_data",
          "data": {
            "image/png": "[encoded data removed]",
            "text/plain": [
              "<Figure size 432x288 with 1 Axes>"
            ]
          },
          "metadata": {
            "tags": []
          }
        }
      ]
    },
    {
      "cell_type": "code",
      "metadata": {
        "id": "jxcEqg3z15Ge",
        "outputId": "6d0050a9-5fc5-45e1-91ea-9e154d4bd8c1"
      },
      "source": [
        "# Correlation\n",
        "corr = df.corr()\n",
        "corr.style.background_gradient(cmap='coolwarm')"
      ],
      "execution_count": null,
      "outputs": [
        {
          "output_type": "execute_result",
          "data": {
            "text/html": [
              "<style  type=\"text/css\" >\n",
              "    #T_c2d4e657_3f44_11eb_a3e5_988389cc19e5row0_col0 {\n",
              "            background-color:  #b40426;\n",
              "            color:  #f1f1f1;\n",
              "        }    #T_c2d4e657_3f44_11eb_a3e5_988389cc19e5row0_col1 {\n",
              "            background-color:  #4a63d3;\n",
              "            color:  #f1f1f1;\n",
              "        }    #T_c2d4e657_3f44_11eb_a3e5_988389cc19e5row0_col2 {\n",
              "            background-color:  #3b4cc0;\n",
              "            color:  #f1f1f1;\n",
              "        }    #T_c2d4e657_3f44_11eb_a3e5_988389cc19e5row0_col3 {\n",
              "            background-color:  #bfd3f6;\n",
              "            color:  #000000;\n",
              "        }    #T_c2d4e657_3f44_11eb_a3e5_988389cc19e5row0_col4 {\n",
              "            background-color:  #92b4fe;\n",
              "            color:  #000000;\n",
              "        }    #T_c2d4e657_3f44_11eb_a3e5_988389cc19e5row0_col5 {\n",
              "            background-color:  #96b7ff;\n",
              "            color:  #000000;\n",
              "        }    #T_c2d4e657_3f44_11eb_a3e5_988389cc19e5row0_col6 {\n",
              "            background-color:  #9fbfff;\n",
              "            color:  #000000;\n",
              "        }    #T_c2d4e657_3f44_11eb_a3e5_988389cc19e5row0_col7 {\n",
              "            background-color:  #4055c8;\n",
              "            color:  #f1f1f1;\n",
              "        }    #T_c2d4e657_3f44_11eb_a3e5_988389cc19e5row0_col8 {\n",
              "            background-color:  #97b8ff;\n",
              "            color:  #000000;\n",
              "        }    #T_c2d4e657_3f44_11eb_a3e5_988389cc19e5row0_col9 {\n",
              "            background-color:  #7093f3;\n",
              "            color:  #000000;\n",
              "        }    #T_c2d4e657_3f44_11eb_a3e5_988389cc19e5row0_col10 {\n",
              "            background-color:  #bcd2f7;\n",
              "            color:  #000000;\n",
              "        }    #T_c2d4e657_3f44_11eb_a3e5_988389cc19e5row0_col11 {\n",
              "            background-color:  #6180e9;\n",
              "            color:  #000000;\n",
              "        }    #T_c2d4e657_3f44_11eb_a3e5_988389cc19e5row0_col12 {\n",
              "            background-color:  #d6dce4;\n",
              "            color:  #000000;\n",
              "        }    #T_c2d4e657_3f44_11eb_a3e5_988389cc19e5row0_col13 {\n",
              "            background-color:  #6485ec;\n",
              "            color:  #000000;\n",
              "        }    #T_c2d4e657_3f44_11eb_a3e5_988389cc19e5row0_col14 {\n",
              "            background-color:  #5572df;\n",
              "            color:  #000000;\n",
              "        }    #T_c2d4e657_3f44_11eb_a3e5_988389cc19e5row0_col15 {\n",
              "            background-color:  #dfdbd9;\n",
              "            color:  #000000;\n",
              "        }    #T_c2d4e657_3f44_11eb_a3e5_988389cc19e5row0_col16 {\n",
              "            background-color:  #dadce0;\n",
              "            color:  #000000;\n",
              "        }    #T_c2d4e657_3f44_11eb_a3e5_988389cc19e5row0_col17 {\n",
              "            background-color:  #8fb1fe;\n",
              "            color:  #000000;\n",
              "        }    #T_c2d4e657_3f44_11eb_a3e5_988389cc19e5row1_col0 {\n",
              "            background-color:  #5d7ce6;\n",
              "            color:  #000000;\n",
              "        }    #T_c2d4e657_3f44_11eb_a3e5_988389cc19e5row1_col1 {\n",
              "            background-color:  #b40426;\n",
              "            color:  #f1f1f1;\n",
              "        }    #T_c2d4e657_3f44_11eb_a3e5_988389cc19e5row1_col2 {\n",
              "            background-color:  #4055c8;\n",
              "            color:  #f1f1f1;\n",
              "        }    #T_c2d4e657_3f44_11eb_a3e5_988389cc19e5row1_col3 {\n",
              "            background-color:  #6384eb;\n",
              "            color:  #000000;\n",
              "        }    #T_c2d4e657_3f44_11eb_a3e5_988389cc19e5row1_col4 {\n",
              "            background-color:  #b2ccfb;\n",
              "            color:  #000000;\n",
              "        }    #T_c2d4e657_3f44_11eb_a3e5_988389cc19e5row1_col5 {\n",
              "            background-color:  #82a6fb;\n",
              "            color:  #000000;\n",
              "        }    #T_c2d4e657_3f44_11eb_a3e5_988389cc19e5row1_col6 {\n",
              "            background-color:  #8db0fe;\n",
              "            color:  #000000;\n",
              "        }    #T_c2d4e657_3f44_11eb_a3e5_988389cc19e5row1_col7 {\n",
              "            background-color:  #8fb1fe;\n",
              "            color:  #000000;\n",
              "        }    #T_c2d4e657_3f44_11eb_a3e5_988389cc19e5row1_col8 {\n",
              "            background-color:  #adc9fd;\n",
              "            color:  #000000;\n",
              "        }    #T_c2d4e657_3f44_11eb_a3e5_988389cc19e5row1_col9 {\n",
              "            background-color:  #9abbff;\n",
              "            color:  #000000;\n",
              "        }    #T_c2d4e657_3f44_11eb_a3e5_988389cc19e5row1_col10 {\n",
              "            background-color:  #c7d7f0;\n",
              "            color:  #000000;\n",
              "        }    #T_c2d4e657_3f44_11eb_a3e5_988389cc19e5row1_col11 {\n",
              "            background-color:  #5572df;\n",
              "            color:  #000000;\n",
              "        }    #T_c2d4e657_3f44_11eb_a3e5_988389cc19e5row1_col12 {\n",
              "            background-color:  #ccd9ed;\n",
              "            color:  #000000;\n",
              "        }    #T_c2d4e657_3f44_11eb_a3e5_988389cc19e5row1_col13 {\n",
              "            background-color:  #6f92f3;\n",
              "            color:  #000000;\n",
              "        }    #T_c2d4e657_3f44_11eb_a3e5_988389cc19e5row1_col14 {\n",
              "            background-color:  #5673e0;\n",
              "            color:  #000000;\n",
              "        }    #T_c2d4e657_3f44_11eb_a3e5_988389cc19e5row1_col15 {\n",
              "            background-color:  #e6d7cf;\n",
              "            color:  #000000;\n",
              "        }    #T_c2d4e657_3f44_11eb_a3e5_988389cc19e5row1_col16 {\n",
              "            background-color:  #d3dbe7;\n",
              "            color:  #000000;\n",
              "        }    #T_c2d4e657_3f44_11eb_a3e5_988389cc19e5row1_col17 {\n",
              "            background-color:  #6687ed;\n",
              "            color:  #000000;\n",
              "        }    #T_c2d4e657_3f44_11eb_a3e5_988389cc19e5row2_col0 {\n",
              "            background-color:  #485fd1;\n",
              "            color:  #f1f1f1;\n",
              "        }    #T_c2d4e657_3f44_11eb_a3e5_988389cc19e5row2_col1 {\n",
              "            background-color:  #3b4cc0;\n",
              "            color:  #f1f1f1;\n",
              "        }    #T_c2d4e657_3f44_11eb_a3e5_988389cc19e5row2_col2 {\n",
              "            background-color:  #b40426;\n",
              "            color:  #f1f1f1;\n",
              "        }    #T_c2d4e657_3f44_11eb_a3e5_988389cc19e5row2_col3 {\n",
              "            background-color:  #7093f3;\n",
              "            color:  #000000;\n",
              "        }    #T_c2d4e657_3f44_11eb_a3e5_988389cc19e5row2_col4 {\n",
              "            background-color:  #a1c0ff;\n",
              "            color:  #000000;\n",
              "        }    #T_c2d4e657_3f44_11eb_a3e5_988389cc19e5row2_col5 {\n",
              "            background-color:  #98b9ff;\n",
              "            color:  #000000;\n",
              "        }    #T_c2d4e657_3f44_11eb_a3e5_988389cc19e5row2_col6 {\n",
              "            background-color:  #8db0fe;\n",
              "            color:  #000000;\n",
              "        }    #T_c2d4e657_3f44_11eb_a3e5_988389cc19e5row2_col7 {\n",
              "            background-color:  #6282ea;\n",
              "            color:  #000000;\n",
              "        }    #T_c2d4e657_3f44_11eb_a3e5_988389cc19e5row2_col8 {\n",
              "            background-color:  #abc8fd;\n",
              "            color:  #000000;\n",
              "        }    #T_c2d4e657_3f44_11eb_a3e5_988389cc19e5row2_col9 {\n",
              "            background-color:  #6788ee;\n",
              "            color:  #000000;\n",
              "        }    #T_c2d4e657_3f44_11eb_a3e5_988389cc19e5row2_col10 {\n",
              "            background-color:  #b6cefa;\n",
              "            color:  #000000;\n",
              "        }    #T_c2d4e657_3f44_11eb_a3e5_988389cc19e5row2_col11 {\n",
              "            background-color:  #5d7ce6;\n",
              "            color:  #000000;\n",
              "        }    #T_c2d4e657_3f44_11eb_a3e5_988389cc19e5row2_col12 {\n",
              "            background-color:  #d7dce3;\n",
              "            color:  #000000;\n",
              "        }    #T_c2d4e657_3f44_11eb_a3e5_988389cc19e5row2_col13 {\n",
              "            background-color:  #799cf8;\n",
              "            color:  #000000;\n",
              "        }    #T_c2d4e657_3f44_11eb_a3e5_988389cc19e5row2_col14 {\n",
              "            background-color:  #5572df;\n",
              "            color:  #000000;\n",
              "        }    #T_c2d4e657_3f44_11eb_a3e5_988389cc19e5row2_col15 {\n",
              "            background-color:  #cedaeb;\n",
              "            color:  #000000;\n",
              "        }    #T_c2d4e657_3f44_11eb_a3e5_988389cc19e5row2_col16 {\n",
              "            background-color:  #ead5c9;\n",
              "            color:  #000000;\n",
              "        }    #T_c2d4e657_3f44_11eb_a3e5_988389cc19e5row2_col17 {\n",
              "            background-color:  #6a8bef;\n",
              "            color:  #000000;\n",
              "        }    #T_c2d4e657_3f44_11eb_a3e5_988389cc19e5row3_col0 {\n",
              "            background-color:  #bad0f8;\n",
              "            color:  #000000;\n",
              "        }    #T_c2d4e657_3f44_11eb_a3e5_988389cc19e5row3_col1 {\n",
              "            background-color:  #4961d2;\n",
              "            color:  #f1f1f1;\n",
              "        }    #T_c2d4e657_3f44_11eb_a3e5_988389cc19e5row3_col2 {\n",
              "            background-color:  #5d7ce6;\n",
              "            color:  #000000;\n",
              "        }    #T_c2d4e657_3f44_11eb_a3e5_988389cc19e5row3_col3 {\n",
              "            background-color:  #b40426;\n",
              "            color:  #f1f1f1;\n",
              "        }    #T_c2d4e657_3f44_11eb_a3e5_988389cc19e5row3_col4 {\n",
              "            background-color:  #7b9ff9;\n",
              "            color:  #000000;\n",
              "        }    #T_c2d4e657_3f44_11eb_a3e5_988389cc19e5row3_col5 {\n",
              "            background-color:  #80a3fa;\n",
              "            color:  #000000;\n",
              "        }    #T_c2d4e657_3f44_11eb_a3e5_988389cc19e5row3_col6 {\n",
              "            background-color:  #98b9ff;\n",
              "            color:  #000000;\n",
              "        }    #T_c2d4e657_3f44_11eb_a3e5_988389cc19e5row3_col7 {\n",
              "            background-color:  #5673e0;\n",
              "            color:  #000000;\n",
              "        }    #T_c2d4e657_3f44_11eb_a3e5_988389cc19e5row3_col8 {\n",
              "            background-color:  #b3cdfb;\n",
              "            color:  #000000;\n",
              "        }    #T_c2d4e657_3f44_11eb_a3e5_988389cc19e5row3_col9 {\n",
              "            background-color:  #bcd2f7;\n",
              "            color:  #000000;\n",
              "        }    #T_c2d4e657_3f44_11eb_a3e5_988389cc19e5row3_col10 {\n",
              "            background-color:  #afcafc;\n",
              "            color:  #000000;\n",
              "        }    #T_c2d4e657_3f44_11eb_a3e5_988389cc19e5row3_col11 {\n",
              "            background-color:  #7093f3;\n",
              "            color:  #000000;\n",
              "        }    #T_c2d4e657_3f44_11eb_a3e5_988389cc19e5row3_col12 {\n",
              "            background-color:  #c6d6f1;\n",
              "            color:  #000000;\n",
              "        }    #T_c2d4e657_3f44_11eb_a3e5_988389cc19e5row3_col13 {\n",
              "            background-color:  #5e7de7;\n",
              "            color:  #000000;\n",
              "        }    #T_c2d4e657_3f44_11eb_a3e5_988389cc19e5row3_col14 {\n",
              "            background-color:  #5977e3;\n",
              "            color:  #000000;\n",
              "        }    #T_c2d4e657_3f44_11eb_a3e5_988389cc19e5row3_col15 {\n",
              "            background-color:  #dcdddd;\n",
              "            color:  #000000;\n",
              "        }    #T_c2d4e657_3f44_11eb_a3e5_988389cc19e5row3_col16 {\n",
              "            background-color:  #dddcdc;\n",
              "            color:  #000000;\n",
              "        }    #T_c2d4e657_3f44_11eb_a3e5_988389cc19e5row3_col17 {\n",
              "            background-color:  #92b4fe;\n",
              "            color:  #000000;\n",
              "        }    #T_c2d4e657_3f44_11eb_a3e5_988389cc19e5row4_col0 {\n",
              "            background-color:  #4b64d5;\n",
              "            color:  #f1f1f1;\n",
              "        }    #T_c2d4e657_3f44_11eb_a3e5_988389cc19e5row4_col1 {\n",
              "            background-color:  #5f7fe8;\n",
              "            color:  #000000;\n",
              "        }    #T_c2d4e657_3f44_11eb_a3e5_988389cc19e5row4_col2 {\n",
              "            background-color:  #506bda;\n",
              "            color:  #000000;\n",
              "        }    #T_c2d4e657_3f44_11eb_a3e5_988389cc19e5row4_col3 {\n",
              "            background-color:  #3b4cc0;\n",
              "            color:  #f1f1f1;\n",
              "        }    #T_c2d4e657_3f44_11eb_a3e5_988389cc19e5row4_col4 {\n",
              "            background-color:  #b40426;\n",
              "            color:  #f1f1f1;\n",
              "        }    #T_c2d4e657_3f44_11eb_a3e5_988389cc19e5row4_col5 {\n",
              "            background-color:  #dbdcde;\n",
              "            color:  #000000;\n",
              "        }    #T_c2d4e657_3f44_11eb_a3e5_988389cc19e5row4_col6 {\n",
              "            background-color:  #dadce0;\n",
              "            color:  #000000;\n",
              "        }    #T_c2d4e657_3f44_11eb_a3e5_988389cc19e5row4_col7 {\n",
              "            background-color:  #aec9fc;\n",
              "            color:  #000000;\n",
              "        }    #T_c2d4e657_3f44_11eb_a3e5_988389cc19e5row4_col8 {\n",
              "            background-color:  #3b4cc0;\n",
              "            color:  #f1f1f1;\n",
              "        }    #T_c2d4e657_3f44_11eb_a3e5_988389cc19e5row4_col9 {\n",
              "            background-color:  #cbd8ee;\n",
              "            color:  #000000;\n",
              "        }    #T_c2d4e657_3f44_11eb_a3e5_988389cc19e5row4_col10 {\n",
              "            background-color:  #dddcdc;\n",
              "            color:  #000000;\n",
              "        }    #T_c2d4e657_3f44_11eb_a3e5_988389cc19e5row4_col11 {\n",
              "            background-color:  #3b4cc0;\n",
              "            color:  #f1f1f1;\n",
              "        }    #T_c2d4e657_3f44_11eb_a3e5_988389cc19e5row4_col12 {\n",
              "            background-color:  #e9d5cb;\n",
              "            color:  #000000;\n",
              "        }    #T_c2d4e657_3f44_11eb_a3e5_988389cc19e5row4_col13 {\n",
              "            background-color:  #aac7fd;\n",
              "            color:  #000000;\n",
              "        }    #T_c2d4e657_3f44_11eb_a3e5_988389cc19e5row4_col14 {\n",
              "            background-color:  #7597f6;\n",
              "            color:  #000000;\n",
              "        }    #T_c2d4e657_3f44_11eb_a3e5_988389cc19e5row4_col15 {\n",
              "            background-color:  #f6bda2;\n",
              "            color:  #000000;\n",
              "        }    #T_c2d4e657_3f44_11eb_a3e5_988389cc19e5row4_col16 {\n",
              "            background-color:  #afcafc;\n",
              "            color:  #000000;\n",
              "        }    #T_c2d4e657_3f44_11eb_a3e5_988389cc19e5row4_col17 {\n",
              "            background-color:  #5f7fe8;\n",
              "            color:  #000000;\n",
              "        }    #T_c2d4e657_3f44_11eb_a3e5_988389cc19e5row5_col0 {\n",
              "            background-color:  #6485ec;\n",
              "            color:  #000000;\n",
              "        }    #T_c2d4e657_3f44_11eb_a3e5_988389cc19e5row5_col1 {\n",
              "            background-color:  #3d50c3;\n",
              "            color:  #f1f1f1;\n",
              "        }    #T_c2d4e657_3f44_11eb_a3e5_988389cc19e5row5_col2 {\n",
              "            background-color:  #5b7ae5;\n",
              "            color:  #000000;\n",
              "        }    #T_c2d4e657_3f44_11eb_a3e5_988389cc19e5row5_col3 {\n",
              "            background-color:  #5470de;\n",
              "            color:  #000000;\n",
              "        }    #T_c2d4e657_3f44_11eb_a3e5_988389cc19e5row5_col4 {\n",
              "            background-color:  #e4d9d2;\n",
              "            color:  #000000;\n",
              "        }    #T_c2d4e657_3f44_11eb_a3e5_988389cc19e5row5_col5 {\n",
              "            background-color:  #b40426;\n",
              "            color:  #f1f1f1;\n",
              "        }    #T_c2d4e657_3f44_11eb_a3e5_988389cc19e5row5_col6 {\n",
              "            background-color:  #f0cdbb;\n",
              "            color:  #000000;\n",
              "        }    #T_c2d4e657_3f44_11eb_a3e5_988389cc19e5row5_col7 {\n",
              "            background-color:  #c7d7f0;\n",
              "            color:  #000000;\n",
              "        }    #T_c2d4e657_3f44_11eb_a3e5_988389cc19e5row5_col8 {\n",
              "            background-color:  #506bda;\n",
              "            color:  #000000;\n",
              "        }    #T_c2d4e657_3f44_11eb_a3e5_988389cc19e5row5_col9 {\n",
              "            background-color:  #c5d6f2;\n",
              "            color:  #000000;\n",
              "        }    #T_c2d4e657_3f44_11eb_a3e5_988389cc19e5row5_col10 {\n",
              "            background-color:  #f0cdbb;\n",
              "            color:  #000000;\n",
              "        }    #T_c2d4e657_3f44_11eb_a3e5_988389cc19e5row5_col11 {\n",
              "            background-color:  #465ecf;\n",
              "            color:  #f1f1f1;\n",
              "        }    #T_c2d4e657_3f44_11eb_a3e5_988389cc19e5row5_col12 {\n",
              "            background-color:  #bed2f6;\n",
              "            color:  #000000;\n",
              "        }    #T_c2d4e657_3f44_11eb_a3e5_988389cc19e5row5_col13 {\n",
              "            background-color:  #b2ccfb;\n",
              "            color:  #000000;\n",
              "        }    #T_c2d4e657_3f44_11eb_a3e5_988389cc19e5row5_col14 {\n",
              "            background-color:  #5875e1;\n",
              "            color:  #000000;\n",
              "        }    #T_c2d4e657_3f44_11eb_a3e5_988389cc19e5row5_col15 {\n",
              "            background-color:  #f4c6af;\n",
              "            color:  #000000;\n",
              "        }    #T_c2d4e657_3f44_11eb_a3e5_988389cc19e5row5_col16 {\n",
              "            background-color:  #bad0f8;\n",
              "            color:  #000000;\n",
              "        }    #T_c2d4e657_3f44_11eb_a3e5_988389cc19e5row5_col17 {\n",
              "            background-color:  #5470de;\n",
              "            color:  #000000;\n",
              "        }    #T_c2d4e657_3f44_11eb_a3e5_988389cc19e5row6_col0 {\n",
              "            background-color:  #7295f4;\n",
              "            color:  #000000;\n",
              "        }    #T_c2d4e657_3f44_11eb_a3e5_988389cc19e5row6_col1 {\n",
              "            background-color:  #4b64d5;\n",
              "            color:  #f1f1f1;\n",
              "        }    #T_c2d4e657_3f44_11eb_a3e5_988389cc19e5row6_col2 {\n",
              "            background-color:  #506bda;\n",
              "            color:  #000000;\n",
              "        }    #T_c2d4e657_3f44_11eb_a3e5_988389cc19e5row6_col3 {\n",
              "            background-color:  #7093f3;\n",
              "            color:  #000000;\n",
              "        }    #T_c2d4e657_3f44_11eb_a3e5_988389cc19e5row6_col4 {\n",
              "            background-color:  #e4d9d2;\n",
              "            color:  #000000;\n",
              "        }    #T_c2d4e657_3f44_11eb_a3e5_988389cc19e5row6_col5 {\n",
              "            background-color:  #f1cdba;\n",
              "            color:  #000000;\n",
              "        }    #T_c2d4e657_3f44_11eb_a3e5_988389cc19e5row6_col6 {\n",
              "            background-color:  #b40426;\n",
              "            color:  #f1f1f1;\n",
              "        }    #T_c2d4e657_3f44_11eb_a3e5_988389cc19e5row6_col7 {\n",
              "            background-color:  #9dbdff;\n",
              "            color:  #000000;\n",
              "        }    #T_c2d4e657_3f44_11eb_a3e5_988389cc19e5row6_col8 {\n",
              "            background-color:  #516ddb;\n",
              "            color:  #000000;\n",
              "        }    #T_c2d4e657_3f44_11eb_a3e5_988389cc19e5row6_col9 {\n",
              "            background-color:  #cad8ef;\n",
              "            color:  #000000;\n",
              "        }    #T_c2d4e657_3f44_11eb_a3e5_988389cc19e5row6_col10 {\n",
              "            background-color:  #f4c6af;\n",
              "            color:  #000000;\n",
              "        }    #T_c2d4e657_3f44_11eb_a3e5_988389cc19e5row6_col11 {\n",
              "            background-color:  #5470de;\n",
              "            color:  #000000;\n",
              "        }    #T_c2d4e657_3f44_11eb_a3e5_988389cc19e5row6_col12 {\n",
              "            background-color:  #cfdaea;\n",
              "            color:  #000000;\n",
              "        }    #T_c2d4e657_3f44_11eb_a3e5_988389cc19e5row6_col13 {\n",
              "            background-color:  #b6cefa;\n",
              "            color:  #000000;\n",
              "        }    #T_c2d4e657_3f44_11eb_a3e5_988389cc19e5row6_col14 {\n",
              "            background-color:  #85a8fc;\n",
              "            color:  #000000;\n",
              "        }    #T_c2d4e657_3f44_11eb_a3e5_988389cc19e5row6_col15 {\n",
              "            background-color:  #f7b599;\n",
              "            color:  #000000;\n",
              "        }    #T_c2d4e657_3f44_11eb_a3e5_988389cc19e5row6_col16 {\n",
              "            background-color:  #a7c5fe;\n",
              "            color:  #000000;\n",
              "        }    #T_c2d4e657_3f44_11eb_a3e5_988389cc19e5row6_col17 {\n",
              "            background-color:  #3b4cc0;\n",
              "            color:  #f1f1f1;\n",
              "        }    #T_c2d4e657_3f44_11eb_a3e5_988389cc19e5row7_col0 {\n",
              "            background-color:  #3b4cc0;\n",
              "            color:  #f1f1f1;\n",
              "        }    #T_c2d4e657_3f44_11eb_a3e5_988389cc19e5row7_col1 {\n",
              "            background-color:  #799cf8;\n",
              "            color:  #000000;\n",
              "        }    #T_c2d4e657_3f44_11eb_a3e5_988389cc19e5row7_col2 {\n",
              "            background-color:  #506bda;\n",
              "            color:  #000000;\n",
              "        }    #T_c2d4e657_3f44_11eb_a3e5_988389cc19e5row7_col3 {\n",
              "            background-color:  #5875e1;\n",
              "            color:  #000000;\n",
              "        }    #T_c2d4e657_3f44_11eb_a3e5_988389cc19e5row7_col4 {\n",
              "            background-color:  #d7dce3;\n",
              "            color:  #000000;\n",
              "        }    #T_c2d4e657_3f44_11eb_a3e5_988389cc19e5row7_col5 {\n",
              "            background-color:  #dedcdb;\n",
              "            color:  #000000;\n",
              "        }    #T_c2d4e657_3f44_11eb_a3e5_988389cc19e5row7_col6 {\n",
              "            background-color:  #bfd3f6;\n",
              "            color:  #000000;\n",
              "        }    #T_c2d4e657_3f44_11eb_a3e5_988389cc19e5row7_col7 {\n",
              "            background-color:  #b40426;\n",
              "            color:  #f1f1f1;\n",
              "        }    #T_c2d4e657_3f44_11eb_a3e5_988389cc19e5row7_col8 {\n",
              "            background-color:  #84a7fc;\n",
              "            color:  #000000;\n",
              "        }    #T_c2d4e657_3f44_11eb_a3e5_988389cc19e5row7_col9 {\n",
              "            background-color:  #c1d4f4;\n",
              "            color:  #000000;\n",
              "        }    #T_c2d4e657_3f44_11eb_a3e5_988389cc19e5row7_col10 {\n",
              "            background-color:  #f2cbb7;\n",
              "            color:  #000000;\n",
              "        }    #T_c2d4e657_3f44_11eb_a3e5_988389cc19e5row7_col11 {\n",
              "            background-color:  #4961d2;\n",
              "            color:  #f1f1f1;\n",
              "        }    #T_c2d4e657_3f44_11eb_a3e5_988389cc19e5row7_col12 {\n",
              "            background-color:  #a7c5fe;\n",
              "            color:  #000000;\n",
              "        }    #T_c2d4e657_3f44_11eb_a3e5_988389cc19e5row7_col13 {\n",
              "            background-color:  #d2dbe8;\n",
              "            color:  #000000;\n",
              "        }    #T_c2d4e657_3f44_11eb_a3e5_988389cc19e5row7_col14 {\n",
              "            background-color:  #5a78e4;\n",
              "            color:  #000000;\n",
              "        }    #T_c2d4e657_3f44_11eb_a3e5_988389cc19e5row7_col15 {\n",
              "            background-color:  #ebd3c6;\n",
              "            color:  #000000;\n",
              "        }    #T_c2d4e657_3f44_11eb_a3e5_988389cc19e5row7_col16 {\n",
              "            background-color:  #ccd9ed;\n",
              "            color:  #000000;\n",
              "        }    #T_c2d4e657_3f44_11eb_a3e5_988389cc19e5row7_col17 {\n",
              "            background-color:  #6a8bef;\n",
              "            color:  #000000;\n",
              "        }    #T_c2d4e657_3f44_11eb_a3e5_988389cc19e5row8_col0 {\n",
              "            background-color:  #506bda;\n",
              "            color:  #000000;\n",
              "        }    #T_c2d4e657_3f44_11eb_a3e5_988389cc19e5row8_col1 {\n",
              "            background-color:  #5977e3;\n",
              "            color:  #000000;\n",
              "        }    #T_c2d4e657_3f44_11eb_a3e5_988389cc19e5row8_col2 {\n",
              "            background-color:  #5b7ae5;\n",
              "            color:  #000000;\n",
              "        }    #T_c2d4e657_3f44_11eb_a3e5_988389cc19e5row8_col3 {\n",
              "            background-color:  #7b9ff9;\n",
              "            color:  #000000;\n",
              "        }    #T_c2d4e657_3f44_11eb_a3e5_988389cc19e5row8_col4 {\n",
              "            background-color:  #3b4cc0;\n",
              "            color:  #f1f1f1;\n",
              "        }    #T_c2d4e657_3f44_11eb_a3e5_988389cc19e5row8_col5 {\n",
              "            background-color:  #3b4cc0;\n",
              "            color:  #f1f1f1;\n",
              "        }    #T_c2d4e657_3f44_11eb_a3e5_988389cc19e5row8_col6 {\n",
              "            background-color:  #3b4cc0;\n",
              "            color:  #f1f1f1;\n",
              "        }    #T_c2d4e657_3f44_11eb_a3e5_988389cc19e5row8_col7 {\n",
              "            background-color:  #4055c8;\n",
              "            color:  #f1f1f1;\n",
              "        }    #T_c2d4e657_3f44_11eb_a3e5_988389cc19e5row8_col8 {\n",
              "            background-color:  #b40426;\n",
              "            color:  #f1f1f1;\n",
              "        }    #T_c2d4e657_3f44_11eb_a3e5_988389cc19e5row8_col9 {\n",
              "            background-color:  #4358cb;\n",
              "            color:  #f1f1f1;\n",
              "        }    #T_c2d4e657_3f44_11eb_a3e5_988389cc19e5row8_col10 {\n",
              "            background-color:  #a9c6fd;\n",
              "            color:  #000000;\n",
              "        }    #T_c2d4e657_3f44_11eb_a3e5_988389cc19e5row8_col11 {\n",
              "            background-color:  #6687ed;\n",
              "            color:  #000000;\n",
              "        }    #T_c2d4e657_3f44_11eb_a3e5_988389cc19e5row8_col12 {\n",
              "            background-color:  #b2ccfb;\n",
              "            color:  #000000;\n",
              "        }    #T_c2d4e657_3f44_11eb_a3e5_988389cc19e5row8_col13 {\n",
              "            background-color:  #3b4cc0;\n",
              "            color:  #f1f1f1;\n",
              "        }    #T_c2d4e657_3f44_11eb_a3e5_988389cc19e5row8_col14 {\n",
              "            background-color:  #485fd1;\n",
              "            color:  #f1f1f1;\n",
              "        }    #T_c2d4e657_3f44_11eb_a3e5_988389cc19e5row8_col15 {\n",
              "            background-color:  #bad0f8;\n",
              "            color:  #000000;\n",
              "        }    #T_c2d4e657_3f44_11eb_a3e5_988389cc19e5row8_col16 {\n",
              "            background-color:  #f4c6af;\n",
              "            color:  #000000;\n",
              "        }    #T_c2d4e657_3f44_11eb_a3e5_988389cc19e5row8_col17 {\n",
              "            background-color:  #98b9ff;\n",
              "            color:  #000000;\n",
              "        }    #T_c2d4e657_3f44_11eb_a3e5_988389cc19e5row9_col0 {\n",
              "            background-color:  #5977e3;\n",
              "            color:  #000000;\n",
              "        }    #T_c2d4e657_3f44_11eb_a3e5_988389cc19e5row9_col1 {\n",
              "            background-color:  #7396f5;\n",
              "            color:  #000000;\n",
              "        }    #T_c2d4e657_3f44_11eb_a3e5_988389cc19e5row9_col2 {\n",
              "            background-color:  #4358cb;\n",
              "            color:  #f1f1f1;\n",
              "        }    #T_c2d4e657_3f44_11eb_a3e5_988389cc19e5row9_col3 {\n",
              "            background-color:  #b2ccfb;\n",
              "            color:  #000000;\n",
              "        }    #T_c2d4e657_3f44_11eb_a3e5_988389cc19e5row9_col4 {\n",
              "            background-color:  #e3d9d3;\n",
              "            color:  #000000;\n",
              "        }    #T_c2d4e657_3f44_11eb_a3e5_988389cc19e5row9_col5 {\n",
              "            background-color:  #d4dbe6;\n",
              "            color:  #000000;\n",
              "        }    #T_c2d4e657_3f44_11eb_a3e5_988389cc19e5row9_col6 {\n",
              "            background-color:  #d8dce2;\n",
              "            color:  #000000;\n",
              "        }    #T_c2d4e657_3f44_11eb_a3e5_988389cc19e5row9_col7 {\n",
              "            background-color:  #b6cefa;\n",
              "            color:  #000000;\n",
              "        }    #T_c2d4e657_3f44_11eb_a3e5_988389cc19e5row9_col8 {\n",
              "            background-color:  #7597f6;\n",
              "            color:  #000000;\n",
              "        }    #T_c2d4e657_3f44_11eb_a3e5_988389cc19e5row9_col9 {\n",
              "            background-color:  #b40426;\n",
              "            color:  #f1f1f1;\n",
              "        }    #T_c2d4e657_3f44_11eb_a3e5_988389cc19e5row9_col10 {\n",
              "            background-color:  #ead4c8;\n",
              "            color:  #000000;\n",
              "        }    #T_c2d4e657_3f44_11eb_a3e5_988389cc19e5row9_col11 {\n",
              "            background-color:  #6282ea;\n",
              "            color:  #000000;\n",
              "        }    #T_c2d4e657_3f44_11eb_a3e5_988389cc19e5row9_col12 {\n",
              "            background-color:  #b9d0f9;\n",
              "            color:  #000000;\n",
              "        }    #T_c2d4e657_3f44_11eb_a3e5_988389cc19e5row9_col13 {\n",
              "            background-color:  #9fbfff;\n",
              "            color:  #000000;\n",
              "        }    #T_c2d4e657_3f44_11eb_a3e5_988389cc19e5row9_col14 {\n",
              "            background-color:  #688aef;\n",
              "            color:  #000000;\n",
              "        }    #T_c2d4e657_3f44_11eb_a3e5_988389cc19e5row9_col15 {\n",
              "            background-color:  #f4c5ad;\n",
              "            color:  #000000;\n",
              "        }    #T_c2d4e657_3f44_11eb_a3e5_988389cc19e5row9_col16 {\n",
              "            background-color:  #b9d0f9;\n",
              "            color:  #000000;\n",
              "        }    #T_c2d4e657_3f44_11eb_a3e5_988389cc19e5row9_col17 {\n",
              "            background-color:  #6282ea;\n",
              "            color:  #000000;\n",
              "        }    #T_c2d4e657_3f44_11eb_a3e5_988389cc19e5row10_col0 {\n",
              "            background-color:  #516ddb;\n",
              "            color:  #000000;\n",
              "        }    #T_c2d4e657_3f44_11eb_a3e5_988389cc19e5row10_col1 {\n",
              "            background-color:  #506bda;\n",
              "            color:  #000000;\n",
              "        }    #T_c2d4e657_3f44_11eb_a3e5_988389cc19e5row10_col2 {\n",
              "            background-color:  #3b4cc0;\n",
              "            color:  #f1f1f1;\n",
              "        }    #T_c2d4e657_3f44_11eb_a3e5_988389cc19e5row10_col3 {\n",
              "            background-color:  #465ecf;\n",
              "            color:  #f1f1f1;\n",
              "        }    #T_c2d4e657_3f44_11eb_a3e5_988389cc19e5row10_col4 {\n",
              "            background-color:  #c4d5f3;\n",
              "            color:  #000000;\n",
              "        }    #T_c2d4e657_3f44_11eb_a3e5_988389cc19e5row10_col5 {\n",
              "            background-color:  #d7dce3;\n",
              "            color:  #000000;\n",
              "        }    #T_c2d4e657_3f44_11eb_a3e5_988389cc19e5row10_col6 {\n",
              "            background-color:  #e1dad6;\n",
              "            color:  #000000;\n",
              "        }    #T_c2d4e657_3f44_11eb_a3e5_988389cc19e5row10_col7 {\n",
              "            background-color:  #c3d5f4;\n",
              "            color:  #000000;\n",
              "        }    #T_c2d4e657_3f44_11eb_a3e5_988389cc19e5row10_col8 {\n",
              "            background-color:  #80a3fa;\n",
              "            color:  #000000;\n",
              "        }    #T_c2d4e657_3f44_11eb_a3e5_988389cc19e5row10_col9 {\n",
              "            background-color:  #bbd1f8;\n",
              "            color:  #000000;\n",
              "        }    #T_c2d4e657_3f44_11eb_a3e5_988389cc19e5row10_col10 {\n",
              "            background-color:  #b40426;\n",
              "            color:  #f1f1f1;\n",
              "        }    #T_c2d4e657_3f44_11eb_a3e5_988389cc19e5row10_col11 {\n",
              "            background-color:  #5b7ae5;\n",
              "            color:  #000000;\n",
              "        }    #T_c2d4e657_3f44_11eb_a3e5_988389cc19e5row10_col12 {\n",
              "            background-color:  #3b4cc0;\n",
              "            color:  #f1f1f1;\n",
              "        }    #T_c2d4e657_3f44_11eb_a3e5_988389cc19e5row10_col13 {\n",
              "            background-color:  #aec9fc;\n",
              "            color:  #000000;\n",
              "        }    #T_c2d4e657_3f44_11eb_a3e5_988389cc19e5row10_col14 {\n",
              "            background-color:  #8db0fe;\n",
              "            color:  #000000;\n",
              "        }    #T_c2d4e657_3f44_11eb_a3e5_988389cc19e5row10_col15 {\n",
              "            background-color:  #f4c5ad;\n",
              "            color:  #000000;\n",
              "        }    #T_c2d4e657_3f44_11eb_a3e5_988389cc19e5row10_col16 {\n",
              "            background-color:  #b9d0f9;\n",
              "            color:  #000000;\n",
              "        }    #T_c2d4e657_3f44_11eb_a3e5_988389cc19e5row10_col17 {\n",
              "            background-color:  #6282ea;\n",
              "            color:  #000000;\n",
              "        }    #T_c2d4e657_3f44_11eb_a3e5_988389cc19e5row11_col0 {\n",
              "            background-color:  #688aef;\n",
              "            color:  #000000;\n",
              "        }    #T_c2d4e657_3f44_11eb_a3e5_988389cc19e5row11_col1 {\n",
              "            background-color:  #4a63d3;\n",
              "            color:  #f1f1f1;\n",
              "        }    #T_c2d4e657_3f44_11eb_a3e5_988389cc19e5row11_col2 {\n",
              "            background-color:  #5875e1;\n",
              "            color:  #000000;\n",
              "        }    #T_c2d4e657_3f44_11eb_a3e5_988389cc19e5row11_col3 {\n",
              "            background-color:  #80a3fa;\n",
              "            color:  #000000;\n",
              "        }    #T_c2d4e657_3f44_11eb_a3e5_988389cc19e5row11_col4 {\n",
              "            background-color:  #8badfd;\n",
              "            color:  #000000;\n",
              "        }    #T_c2d4e657_3f44_11eb_a3e5_988389cc19e5row11_col5 {\n",
              "            background-color:  #81a4fb;\n",
              "            color:  #000000;\n",
              "        }    #T_c2d4e657_3f44_11eb_a3e5_988389cc19e5row11_col6 {\n",
              "            background-color:  #8db0fe;\n",
              "            color:  #000000;\n",
              "        }    #T_c2d4e657_3f44_11eb_a3e5_988389cc19e5row11_col7 {\n",
              "            background-color:  #5673e0;\n",
              "            color:  #000000;\n",
              "        }    #T_c2d4e657_3f44_11eb_a3e5_988389cc19e5row11_col8 {\n",
              "            background-color:  #afcafc;\n",
              "            color:  #000000;\n",
              "        }    #T_c2d4e657_3f44_11eb_a3e5_988389cc19e5row11_col9 {\n",
              "            background-color:  #80a3fa;\n",
              "            color:  #000000;\n",
              "        }    #T_c2d4e657_3f44_11eb_a3e5_988389cc19e5row11_col10 {\n",
              "            background-color:  #c9d7f0;\n",
              "            color:  #000000;\n",
              "        }    #T_c2d4e657_3f44_11eb_a3e5_988389cc19e5row11_col11 {\n",
              "            background-color:  #b40426;\n",
              "            color:  #f1f1f1;\n",
              "        }    #T_c2d4e657_3f44_11eb_a3e5_988389cc19e5row11_col12 {\n",
              "            background-color:  #c7d7f0;\n",
              "            color:  #000000;\n",
              "        }    #T_c2d4e657_3f44_11eb_a3e5_988389cc19e5row11_col13 {\n",
              "            background-color:  #6485ec;\n",
              "            color:  #000000;\n",
              "        }    #T_c2d4e657_3f44_11eb_a3e5_988389cc19e5row11_col14 {\n",
              "            background-color:  #5a78e4;\n",
              "            color:  #000000;\n",
              "        }    #T_c2d4e657_3f44_11eb_a3e5_988389cc19e5row11_col15 {\n",
              "            background-color:  #e1dad6;\n",
              "            color:  #000000;\n",
              "        }    #T_c2d4e657_3f44_11eb_a3e5_988389cc19e5row11_col16 {\n",
              "            background-color:  #d8dce2;\n",
              "            color:  #000000;\n",
              "        }    #T_c2d4e657_3f44_11eb_a3e5_988389cc19e5row11_col17 {\n",
              "            background-color:  #6788ee;\n",
              "            color:  #000000;\n",
              "        }    #T_c2d4e657_3f44_11eb_a3e5_988389cc19e5row12_col0 {\n",
              "            background-color:  #7da0f9;\n",
              "            color:  #000000;\n",
              "        }    #T_c2d4e657_3f44_11eb_a3e5_988389cc19e5row12_col1 {\n",
              "            background-color:  #5875e1;\n",
              "            color:  #000000;\n",
              "        }    #T_c2d4e657_3f44_11eb_a3e5_988389cc19e5row12_col2 {\n",
              "            background-color:  #7295f4;\n",
              "            color:  #000000;\n",
              "        }    #T_c2d4e657_3f44_11eb_a3e5_988389cc19e5row12_col3 {\n",
              "            background-color:  #688aef;\n",
              "            color:  #000000;\n",
              "        }    #T_c2d4e657_3f44_11eb_a3e5_988389cc19e5row12_col4 {\n",
              "            background-color:  #d4dbe6;\n",
              "            color:  #000000;\n",
              "        }    #T_c2d4e657_3f44_11eb_a3e5_988389cc19e5row12_col5 {\n",
              "            background-color:  #85a8fc;\n",
              "            color:  #000000;\n",
              "        }    #T_c2d4e657_3f44_11eb_a3e5_988389cc19e5row12_col6 {\n",
              "            background-color:  #9ebeff;\n",
              "            color:  #000000;\n",
              "        }    #T_c2d4e657_3f44_11eb_a3e5_988389cc19e5row12_col7 {\n",
              "            background-color:  #3b4cc0;\n",
              "            color:  #f1f1f1;\n",
              "        }    #T_c2d4e657_3f44_11eb_a3e5_988389cc19e5row12_col8 {\n",
              "            background-color:  #8badfd;\n",
              "            color:  #000000;\n",
              "        }    #T_c2d4e657_3f44_11eb_a3e5_988389cc19e5row12_col9 {\n",
              "            background-color:  #6384eb;\n",
              "            color:  #000000;\n",
              "        }    #T_c2d4e657_3f44_11eb_a3e5_988389cc19e5row12_col10 {\n",
              "            background-color:  #3b4cc0;\n",
              "            color:  #f1f1f1;\n",
              "        }    #T_c2d4e657_3f44_11eb_a3e5_988389cc19e5row12_col11 {\n",
              "            background-color:  #5a78e4;\n",
              "            color:  #000000;\n",
              "        }    #T_c2d4e657_3f44_11eb_a3e5_988389cc19e5row12_col12 {\n",
              "            background-color:  #b40426;\n",
              "            color:  #f1f1f1;\n",
              "        }    #T_c2d4e657_3f44_11eb_a3e5_988389cc19e5row12_col13 {\n",
              "            background-color:  #536edd;\n",
              "            color:  #000000;\n",
              "        }    #T_c2d4e657_3f44_11eb_a3e5_988389cc19e5row12_col14 {\n",
              "            background-color:  #3e51c5;\n",
              "            color:  #f1f1f1;\n",
              "        }    #T_c2d4e657_3f44_11eb_a3e5_988389cc19e5row12_col15 {\n",
              "            background-color:  #dadce0;\n",
              "            color:  #000000;\n",
              "        }    #T_c2d4e657_3f44_11eb_a3e5_988389cc19e5row12_col16 {\n",
              "            background-color:  #dfdbd9;\n",
              "            color:  #000000;\n",
              "        }    #T_c2d4e657_3f44_11eb_a3e5_988389cc19e5row12_col17 {\n",
              "            background-color:  #6a8bef;\n",
              "            color:  #000000;\n",
              "        }    #T_c2d4e657_3f44_11eb_a3e5_988389cc19e5row13_col0 {\n",
              "            background-color:  #5673e0;\n",
              "            color:  #000000;\n",
              "        }    #T_c2d4e657_3f44_11eb_a3e5_988389cc19e5row13_col1 {\n",
              "            background-color:  #4f69d9;\n",
              "            color:  #000000;\n",
              "        }    #T_c2d4e657_3f44_11eb_a3e5_988389cc19e5row13_col2 {\n",
              "            background-color:  #5e7de7;\n",
              "            color:  #000000;\n",
              "        }    #T_c2d4e657_3f44_11eb_a3e5_988389cc19e5row13_col3 {\n",
              "            background-color:  #5875e1;\n",
              "            color:  #000000;\n",
              "        }    #T_c2d4e657_3f44_11eb_a3e5_988389cc19e5row13_col4 {\n",
              "            background-color:  #d2dbe8;\n",
              "            color:  #000000;\n",
              "        }    #T_c2d4e657_3f44_11eb_a3e5_988389cc19e5row13_col5 {\n",
              "            background-color:  #cbd8ee;\n",
              "            color:  #000000;\n",
              "        }    #T_c2d4e657_3f44_11eb_a3e5_988389cc19e5row13_col6 {\n",
              "            background-color:  #cdd9ec;\n",
              "            color:  #000000;\n",
              "        }    #T_c2d4e657_3f44_11eb_a3e5_988389cc19e5row13_col7 {\n",
              "            background-color:  #cdd9ec;\n",
              "            color:  #000000;\n",
              "        }    #T_c2d4e657_3f44_11eb_a3e5_988389cc19e5row13_col8 {\n",
              "            background-color:  #7699f6;\n",
              "            color:  #000000;\n",
              "        }    #T_c2d4e657_3f44_11eb_a3e5_988389cc19e5row13_col9 {\n",
              "            background-color:  #a6c4fe;\n",
              "            color:  #000000;\n",
              "        }    #T_c2d4e657_3f44_11eb_a3e5_988389cc19e5row13_col10 {\n",
              "            background-color:  #e9d5cb;\n",
              "            color:  #000000;\n",
              "        }    #T_c2d4e657_3f44_11eb_a3e5_988389cc19e5row13_col11 {\n",
              "            background-color:  #4f69d9;\n",
              "            color:  #000000;\n",
              "        }    #T_c2d4e657_3f44_11eb_a3e5_988389cc19e5row13_col12 {\n",
              "            background-color:  #b3cdfb;\n",
              "            color:  #000000;\n",
              "        }    #T_c2d4e657_3f44_11eb_a3e5_988389cc19e5row13_col13 {\n",
              "            background-color:  #b40426;\n",
              "            color:  #f1f1f1;\n",
              "        }    #T_c2d4e657_3f44_11eb_a3e5_988389cc19e5row13_col14 {\n",
              "            background-color:  #5b7ae5;\n",
              "            color:  #000000;\n",
              "        }    #T_c2d4e657_3f44_11eb_a3e5_988389cc19e5row13_col15 {\n",
              "            background-color:  #e3d9d3;\n",
              "            color:  #000000;\n",
              "        }    #T_c2d4e657_3f44_11eb_a3e5_988389cc19e5row13_col16 {\n",
              "            background-color:  #d6dce4;\n",
              "            color:  #000000;\n",
              "        }    #T_c2d4e657_3f44_11eb_a3e5_988389cc19e5row13_col17 {\n",
              "            background-color:  #7597f6;\n",
              "            color:  #000000;\n",
              "        }    #T_c2d4e657_3f44_11eb_a3e5_988389cc19e5row14_col0 {\n",
              "            background-color:  #5b7ae5;\n",
              "            color:  #000000;\n",
              "        }    #T_c2d4e657_3f44_11eb_a3e5_988389cc19e5row14_col1 {\n",
              "            background-color:  #4a63d3;\n",
              "            color:  #f1f1f1;\n",
              "        }    #T_c2d4e657_3f44_11eb_a3e5_988389cc19e5row14_col2 {\n",
              "            background-color:  #4e68d8;\n",
              "            color:  #000000;\n",
              "        }    #T_c2d4e657_3f44_11eb_a3e5_988389cc19e5row14_col3 {\n",
              "            background-color:  #6687ed;\n",
              "            color:  #000000;\n",
              "        }    #T_c2d4e657_3f44_11eb_a3e5_988389cc19e5row14_col4 {\n",
              "            background-color:  #b9d0f9;\n",
              "            color:  #000000;\n",
              "        }    #T_c2d4e657_3f44_11eb_a3e5_988389cc19e5row14_col5 {\n",
              "            background-color:  #90b2fe;\n",
              "            color:  #000000;\n",
              "        }    #T_c2d4e657_3f44_11eb_a3e5_988389cc19e5row14_col6 {\n",
              "            background-color:  #b3cdfb;\n",
              "            color:  #000000;\n",
              "        }    #T_c2d4e657_3f44_11eb_a3e5_988389cc19e5row14_col7 {\n",
              "            background-color:  #6687ed;\n",
              "            color:  #000000;\n",
              "        }    #T_c2d4e657_3f44_11eb_a3e5_988389cc19e5row14_col8 {\n",
              "            background-color:  #94b6ff;\n",
              "            color:  #000000;\n",
              "        }    #T_c2d4e657_3f44_11eb_a3e5_988389cc19e5row14_col9 {\n",
              "            background-color:  #85a8fc;\n",
              "            color:  #000000;\n",
              "        }    #T_c2d4e657_3f44_11eb_a3e5_988389cc19e5row14_col10 {\n",
              "            background-color:  #e0dbd8;\n",
              "            color:  #000000;\n",
              "        }    #T_c2d4e657_3f44_11eb_a3e5_988389cc19e5row14_col11 {\n",
              "            background-color:  #5977e3;\n",
              "            color:  #000000;\n",
              "        }    #T_c2d4e657_3f44_11eb_a3e5_988389cc19e5row14_col12 {\n",
              "            background-color:  #b3cdfb;\n",
              "            color:  #000000;\n",
              "        }    #T_c2d4e657_3f44_11eb_a3e5_988389cc19e5row14_col13 {\n",
              "            background-color:  #6f92f3;\n",
              "            color:  #000000;\n",
              "        }    #T_c2d4e657_3f44_11eb_a3e5_988389cc19e5row14_col14 {\n",
              "            background-color:  #b40426;\n",
              "            color:  #f1f1f1;\n",
              "        }    #T_c2d4e657_3f44_11eb_a3e5_988389cc19e5row14_col15 {\n",
              "            background-color:  #ecd3c5;\n",
              "            color:  #000000;\n",
              "        }    #T_c2d4e657_3f44_11eb_a3e5_988389cc19e5row14_col16 {\n",
              "            background-color:  #cbd8ee;\n",
              "            color:  #000000;\n",
              "        }    #T_c2d4e657_3f44_11eb_a3e5_988389cc19e5row14_col17 {\n",
              "            background-color:  #6e90f2;\n",
              "            color:  #000000;\n",
              "        }    #T_c2d4e657_3f44_11eb_a3e5_988389cc19e5row15_col0 {\n",
              "            background-color:  #688aef;\n",
              "            color:  #000000;\n",
              "        }    #T_c2d4e657_3f44_11eb_a3e5_988389cc19e5row15_col1 {\n",
              "            background-color:  #6788ee;\n",
              "            color:  #000000;\n",
              "        }    #T_c2d4e657_3f44_11eb_a3e5_988389cc19e5row15_col2 {\n",
              "            background-color:  #3b4cc0;\n",
              "            color:  #f1f1f1;\n",
              "        }    #T_c2d4e657_3f44_11eb_a3e5_988389cc19e5row15_col3 {\n",
              "            background-color:  #6b8df0;\n",
              "            color:  #000000;\n",
              "        }    #T_c2d4e657_3f44_11eb_a3e5_988389cc19e5row15_col4 {\n",
              "            background-color:  #e4d9d2;\n",
              "            color:  #000000;\n",
              "        }    #T_c2d4e657_3f44_11eb_a3e5_988389cc19e5row15_col5 {\n",
              "            background-color:  #cedaeb;\n",
              "            color:  #000000;\n",
              "        }    #T_c2d4e657_3f44_11eb_a3e5_988389cc19e5row15_col6 {\n",
              "            background-color:  #e3d9d3;\n",
              "            color:  #000000;\n",
              "        }    #T_c2d4e657_3f44_11eb_a3e5_988389cc19e5row15_col7 {\n",
              "            background-color:  #8fb1fe;\n",
              "            color:  #000000;\n",
              "        }    #T_c2d4e657_3f44_11eb_a3e5_988389cc19e5row15_col8 {\n",
              "            background-color:  #6e90f2;\n",
              "            color:  #000000;\n",
              "        }    #T_c2d4e657_3f44_11eb_a3e5_988389cc19e5row15_col9 {\n",
              "            background-color:  #bfd3f6;\n",
              "            color:  #000000;\n",
              "        }    #T_c2d4e657_3f44_11eb_a3e5_988389cc19e5row15_col10 {\n",
              "            background-color:  #edd2c3;\n",
              "            color:  #000000;\n",
              "        }    #T_c2d4e657_3f44_11eb_a3e5_988389cc19e5row15_col11 {\n",
              "            background-color:  #6687ed;\n",
              "            color:  #000000;\n",
              "        }    #T_c2d4e657_3f44_11eb_a3e5_988389cc19e5row15_col12 {\n",
              "            background-color:  #c4d5f3;\n",
              "            color:  #000000;\n",
              "        }    #T_c2d4e657_3f44_11eb_a3e5_988389cc19e5row15_col13 {\n",
              "            background-color:  #81a4fb;\n",
              "            color:  #000000;\n",
              "        }    #T_c2d4e657_3f44_11eb_a3e5_988389cc19e5row15_col14 {\n",
              "            background-color:  #86a9fc;\n",
              "            color:  #000000;\n",
              "        }    #T_c2d4e657_3f44_11eb_a3e5_988389cc19e5row15_col15 {\n",
              "            background-color:  #b40426;\n",
              "            color:  #f1f1f1;\n",
              "        }    #T_c2d4e657_3f44_11eb_a3e5_988389cc19e5row15_col16 {\n",
              "            background-color:  #3b4cc0;\n",
              "            color:  #f1f1f1;\n",
              "        }    #T_c2d4e657_3f44_11eb_a3e5_988389cc19e5row15_col17 {\n",
              "            background-color:  #4055c8;\n",
              "            color:  #f1f1f1;\n",
              "        }    #T_c2d4e657_3f44_11eb_a3e5_988389cc19e5row16_col0 {\n",
              "            background-color:  #5f7fe8;\n",
              "            color:  #000000;\n",
              "        }    #T_c2d4e657_3f44_11eb_a3e5_988389cc19e5row16_col1 {\n",
              "            background-color:  #3d50c3;\n",
              "            color:  #f1f1f1;\n",
              "        }    #T_c2d4e657_3f44_11eb_a3e5_988389cc19e5row16_col2 {\n",
              "            background-color:  #779af7;\n",
              "            color:  #000000;\n",
              "        }    #T_c2d4e657_3f44_11eb_a3e5_988389cc19e5row16_col3 {\n",
              "            background-color:  #6c8ff1;\n",
              "            color:  #000000;\n",
              "        }    #T_c2d4e657_3f44_11eb_a3e5_988389cc19e5row16_col4 {\n",
              "            background-color:  #6180e9;\n",
              "            color:  #000000;\n",
              "        }    #T_c2d4e657_3f44_11eb_a3e5_988389cc19e5row16_col5 {\n",
              "            background-color:  #5977e3;\n",
              "            color:  #000000;\n",
              "        }    #T_c2d4e657_3f44_11eb_a3e5_988389cc19e5row16_col6 {\n",
              "            background-color:  #3e51c5;\n",
              "            color:  #f1f1f1;\n",
              "        }    #T_c2d4e657_3f44_11eb_a3e5_988389cc19e5row16_col7 {\n",
              "            background-color:  #485fd1;\n",
              "            color:  #f1f1f1;\n",
              "        }    #T_c2d4e657_3f44_11eb_a3e5_988389cc19e5row16_col8 {\n",
              "            background-color:  #d9dce1;\n",
              "            color:  #000000;\n",
              "        }    #T_c2d4e657_3f44_11eb_a3e5_988389cc19e5row16_col9 {\n",
              "            background-color:  #3b4cc0;\n",
              "            color:  #f1f1f1;\n",
              "        }    #T_c2d4e657_3f44_11eb_a3e5_988389cc19e5row16_col10 {\n",
              "            background-color:  #9abbff;\n",
              "            color:  #000000;\n",
              "        }    #T_c2d4e657_3f44_11eb_a3e5_988389cc19e5row16_col11 {\n",
              "            background-color:  #536edd;\n",
              "            color:  #000000;\n",
              "        }    #T_c2d4e657_3f44_11eb_a3e5_988389cc19e5row16_col12 {\n",
              "            background-color:  #ccd9ed;\n",
              "            color:  #000000;\n",
              "        }    #T_c2d4e657_3f44_11eb_a3e5_988389cc19e5row16_col13 {\n",
              "            background-color:  #6384eb;\n",
              "            color:  #000000;\n",
              "        }    #T_c2d4e657_3f44_11eb_a3e5_988389cc19e5row16_col14 {\n",
              "            background-color:  #3b4cc0;\n",
              "            color:  #f1f1f1;\n",
              "        }    #T_c2d4e657_3f44_11eb_a3e5_988389cc19e5row16_col15 {\n",
              "            background-color:  #3b4cc0;\n",
              "            color:  #f1f1f1;\n",
              "        }    #T_c2d4e657_3f44_11eb_a3e5_988389cc19e5row16_col16 {\n",
              "            background-color:  #b40426;\n",
              "            color:  #f1f1f1;\n",
              "        }    #T_c2d4e657_3f44_11eb_a3e5_988389cc19e5row16_col17 {\n",
              "            background-color:  #bcd2f7;\n",
              "            color:  #000000;\n",
              "        }    #T_c2d4e657_3f44_11eb_a3e5_988389cc19e5row17_col0 {\n",
              "            background-color:  #779af7;\n",
              "            color:  #000000;\n",
              "        }    #T_c2d4e657_3f44_11eb_a3e5_988389cc19e5row17_col1 {\n",
              "            background-color:  #3b4cc0;\n",
              "            color:  #f1f1f1;\n",
              "        }    #T_c2d4e657_3f44_11eb_a3e5_988389cc19e5row17_col2 {\n",
              "            background-color:  #4358cb;\n",
              "            color:  #f1f1f1;\n",
              "        }    #T_c2d4e657_3f44_11eb_a3e5_988389cc19e5row17_col3 {\n",
              "            background-color:  #82a6fb;\n",
              "            color:  #000000;\n",
              "        }    #T_c2d4e657_3f44_11eb_a3e5_988389cc19e5row17_col4 {\n",
              "            background-color:  #8db0fe;\n",
              "            color:  #000000;\n",
              "        }    #T_c2d4e657_3f44_11eb_a3e5_988389cc19e5row17_col5 {\n",
              "            background-color:  #6e90f2;\n",
              "            color:  #000000;\n",
              "        }    #T_c2d4e657_3f44_11eb_a3e5_988389cc19e5row17_col6 {\n",
              "            background-color:  #5470de;\n",
              "            color:  #000000;\n",
              "        }    #T_c2d4e657_3f44_11eb_a3e5_988389cc19e5row17_col7 {\n",
              "            background-color:  #5875e1;\n",
              "            color:  #000000;\n",
              "        }    #T_c2d4e657_3f44_11eb_a3e5_988389cc19e5row17_col8 {\n",
              "            background-color:  #bed2f6;\n",
              "            color:  #000000;\n",
              "        }    #T_c2d4e657_3f44_11eb_a3e5_988389cc19e5row17_col9 {\n",
              "            background-color:  #6180e9;\n",
              "            color:  #000000;\n",
              "        }    #T_c2d4e657_3f44_11eb_a3e5_988389cc19e5row17_col10 {\n",
              "            background-color:  #b6cefa;\n",
              "            color:  #000000;\n",
              "        }    #T_c2d4e657_3f44_11eb_a3e5_988389cc19e5row17_col11 {\n",
              "            background-color:  #465ecf;\n",
              "            color:  #f1f1f1;\n",
              "        }    #T_c2d4e657_3f44_11eb_a3e5_988389cc19e5row17_col12 {\n",
              "            background-color:  #bcd2f7;\n",
              "            color:  #000000;\n",
              "        }    #T_c2d4e657_3f44_11eb_a3e5_988389cc19e5row17_col13 {\n",
              "            background-color:  #6a8bef;\n",
              "            color:  #000000;\n",
              "        }    #T_c2d4e657_3f44_11eb_a3e5_988389cc19e5row17_col14 {\n",
              "            background-color:  #506bda;\n",
              "            color:  #000000;\n",
              "        }    #T_c2d4e657_3f44_11eb_a3e5_988389cc19e5row17_col15 {\n",
              "            background-color:  #bbd1f8;\n",
              "            color:  #000000;\n",
              "        }    #T_c2d4e657_3f44_11eb_a3e5_988389cc19e5row17_col16 {\n",
              "            background-color:  #f3c7b1;\n",
              "            color:  #000000;\n",
              "        }    #T_c2d4e657_3f44_11eb_a3e5_988389cc19e5row17_col17 {\n",
              "            background-color:  #b40426;\n",
              "            color:  #f1f1f1;\n",
              "        }</style><table id=\"T_c2d4e657_3f44_11eb_a3e5_988389cc19e5\" ><thead>    <tr>        <th class=\"blank level0\" ></th>        <th class=\"col_heading level0 col0\" >Age</th>        <th class=\"col_heading level0 col1\" >AA</th>        <th class=\"col_heading level0 col2\" >FamHx</th>        <th class=\"col_heading level0 col3\" >PVol</th>        <th class=\"col_heading level0 col4\" >TVol</th>        <th class=\"col_heading level0 col5\" >T Stage</th>        <th class=\"col_heading level0 col6\" >bGS</th>        <th class=\"col_heading level0 col7\" >BN+</th>        <th class=\"col_heading level0 col8\" >OrganConfined</th>        <th class=\"col_heading level0 col9\" >PreopPSA</th>        <th class=\"col_heading level0 col10\" >PreopTherapy</th>        <th class=\"col_heading level0 col11\" >Units</th>        <th class=\"col_heading level0 col12\" >sGS</th>        <th class=\"col_heading level0 col13\" >AnyAdjTherapy</th>        <th class=\"col_heading level0 col14\" >AdjRadTherapy</th>        <th class=\"col_heading level0 col15\" >Recurrence</th>        <th class=\"col_heading level0 col16\" >Censor</th>        <th class=\"col_heading level0 col17\" >TimeToRecurrence</th>    </tr></thead><tbody>\n",
              "                <tr>\n",
              "                        <th id=\"T_c2d4e657_3f44_11eb_a3e5_988389cc19e5level0_row0\" class=\"row_heading level0 row0\" >Age</th>\n",
              "                        <td id=\"T_c2d4e657_3f44_11eb_a3e5_988389cc19e5row0_col0\" class=\"data row0 col0\" >1.000000</td>\n",
              "                        <td id=\"T_c2d4e657_3f44_11eb_a3e5_988389cc19e5row0_col1\" class=\"data row0 col1\" >-0.024264</td>\n",
              "                        <td id=\"T_c2d4e657_3f44_11eb_a3e5_988389cc19e5row0_col2\" class=\"data row0 col2\" >-0.102818</td>\n",
              "                        <td id=\"T_c2d4e657_3f44_11eb_a3e5_988389cc19e5row0_col3\" class=\"data row0 col3\" >0.287307</td>\n",
              "                        <td id=\"T_c2d4e657_3f44_11eb_a3e5_988389cc19e5row0_col4\" class=\"data row0 col4\" >-0.090404</td>\n",
              "                        <td id=\"T_c2d4e657_3f44_11eb_a3e5_988389cc19e5row0_col5\" class=\"data row0 col5\" >0.003531</td>\n",
              "                        <td id=\"T_c2d4e657_3f44_11eb_a3e5_988389cc19e5row0_col6\" class=\"data row0 col6\" >0.044850</td>\n",
              "                        <td id=\"T_c2d4e657_3f44_11eb_a3e5_988389cc19e5row0_col7\" class=\"data row0 col7\" >-0.153700</td>\n",
              "                        <td id=\"T_c2d4e657_3f44_11eb_a3e5_988389cc19e5row0_col8\" class=\"data row0 col8\" >-0.068833</td>\n",
              "                        <td id=\"T_c2d4e657_3f44_11eb_a3e5_988389cc19e5row0_col9\" class=\"data row0 col9\" >-0.038046</td>\n",
              "                        <td id=\"T_c2d4e657_3f44_11eb_a3e5_988389cc19e5row0_col10\" class=\"data row0 col10\" >-0.065045</td>\n",
              "                        <td id=\"T_c2d4e657_3f44_11eb_a3e5_988389cc19e5row0_col11\" class=\"data row0 col11\" >0.016089</td>\n",
              "                        <td id=\"T_c2d4e657_3f44_11eb_a3e5_988389cc19e5row0_col12\" class=\"data row0 col12\" >0.083405</td>\n",
              "                        <td id=\"T_c2d4e657_3f44_11eb_a3e5_988389cc19e5row0_col13\" class=\"data row0 col13\" >-0.046674</td>\n",
              "                        <td id=\"T_c2d4e657_3f44_11eb_a3e5_988389cc19e5row0_col14\" class=\"data row0 col14\" >-0.030774</td>\n",
              "                        <td id=\"T_c2d4e657_3f44_11eb_a3e5_988389cc19e5row0_col15\" class=\"data row0 col15\" >0.017008</td>\n",
              "                        <td id=\"T_c2d4e657_3f44_11eb_a3e5_988389cc19e5row0_col16\" class=\"data row0 col16\" >-0.017008</td>\n",
              "                        <td id=\"T_c2d4e657_3f44_11eb_a3e5_988389cc19e5row0_col17\" class=\"data row0 col17\" >0.064720</td>\n",
              "            </tr>\n",
              "            <tr>\n",
              "                        <th id=\"T_c2d4e657_3f44_11eb_a3e5_988389cc19e5level0_row1\" class=\"row_heading level0 row1\" >AA</th>\n",
              "                        <td id=\"T_c2d4e657_3f44_11eb_a3e5_988389cc19e5row1_col0\" class=\"data row1 col0\" >-0.024264</td>\n",
              "                        <td id=\"T_c2d4e657_3f44_11eb_a3e5_988389cc19e5row1_col1\" class=\"data row1 col1\" >1.000000</td>\n",
              "                        <td id=\"T_c2d4e657_3f44_11eb_a3e5_988389cc19e5row1_col2\" class=\"data row1 col2\" >-0.081702</td>\n",
              "                        <td id=\"T_c2d4e657_3f44_11eb_a3e5_988389cc19e5row1_col3\" class=\"data row1 col3\" >-0.030033</td>\n",
              "                        <td id=\"T_c2d4e657_3f44_11eb_a3e5_988389cc19e5row1_col4\" class=\"data row1 col4\" >0.045794</td>\n",
              "                        <td id=\"T_c2d4e657_3f44_11eb_a3e5_988389cc19e5row1_col5\" class=\"data row1 col5\" >-0.074346</td>\n",
              "                        <td id=\"T_c2d4e657_3f44_11eb_a3e5_988389cc19e5row1_col6\" class=\"data row1 col6\" >-0.023116</td>\n",
              "                        <td id=\"T_c2d4e657_3f44_11eb_a3e5_988389cc19e5row1_col7\" class=\"data row1 col7\" >0.124778</td>\n",
              "                        <td id=\"T_c2d4e657_3f44_11eb_a3e5_988389cc19e5row1_col8\" class=\"data row1 col8\" >0.025109</td>\n",
              "                        <td id=\"T_c2d4e657_3f44_11eb_a3e5_988389cc19e5row1_col9\" class=\"data row1 col9\" >0.108834</td>\n",
              "                        <td id=\"T_c2d4e657_3f44_11eb_a3e5_988389cc19e5row1_col10\" class=\"data row1 col10\" >-0.002867</td>\n",
              "                        <td id=\"T_c2d4e657_3f44_11eb_a3e5_988389cc19e5row1_col11\" class=\"data row1 col11\" >-0.024592</td>\n",
              "                        <td id=\"T_c2d4e657_3f44_11eb_a3e5_988389cc19e5row1_col12\" class=\"data row1 col12\" >0.022225</td>\n",
              "                        <td id=\"T_c2d4e657_3f44_11eb_a3e5_988389cc19e5row1_col13\" class=\"data row1 col13\" >-0.009262</td>\n",
              "                        <td id=\"T_c2d4e657_3f44_11eb_a3e5_988389cc19e5row1_col14\" class=\"data row1 col14\" >-0.025836</td>\n",
              "                        <td id=\"T_c2d4e657_3f44_11eb_a3e5_988389cc19e5row1_col15\" class=\"data row1 col15\" >0.071264</td>\n",
              "                        <td id=\"T_c2d4e657_3f44_11eb_a3e5_988389cc19e5row1_col16\" class=\"data row1 col16\" >-0.071264</td>\n",
              "                        <td id=\"T_c2d4e657_3f44_11eb_a3e5_988389cc19e5row1_col17\" class=\"data row1 col17\" >-0.082977</td>\n",
              "            </tr>\n",
              "            <tr>\n",
              "                        <th id=\"T_c2d4e657_3f44_11eb_a3e5_988389cc19e5level0_row2\" class=\"row_heading level0 row2\" >FamHx</th>\n",
              "                        <td id=\"T_c2d4e657_3f44_11eb_a3e5_988389cc19e5row2_col0\" class=\"data row2 col0\" >-0.102818</td>\n",
              "                        <td id=\"T_c2d4e657_3f44_11eb_a3e5_988389cc19e5row2_col1\" class=\"data row2 col1\" >-0.081702</td>\n",
              "                        <td id=\"T_c2d4e657_3f44_11eb_a3e5_988389cc19e5row2_col2\" class=\"data row2 col2\" >1.000000</td>\n",
              "                        <td id=\"T_c2d4e657_3f44_11eb_a3e5_988389cc19e5row2_col3\" class=\"data row2 col3\" >0.019386</td>\n",
              "                        <td id=\"T_c2d4e657_3f44_11eb_a3e5_988389cc19e5row2_col4\" class=\"data row2 col4\" >-0.025693</td>\n",
              "                        <td id=\"T_c2d4e657_3f44_11eb_a3e5_988389cc19e5row2_col5\" class=\"data row2 col5\" >0.014295</td>\n",
              "                        <td id=\"T_c2d4e657_3f44_11eb_a3e5_988389cc19e5row2_col6\" class=\"data row2 col6\" >-0.025577</td>\n",
              "                        <td id=\"T_c2d4e657_3f44_11eb_a3e5_988389cc19e5row2_col7\" class=\"data row2 col7\" >-0.025259</td>\n",
              "                        <td id=\"T_c2d4e657_3f44_11eb_a3e5_988389cc19e5row2_col8\" class=\"data row2 col8\" >0.016690</td>\n",
              "                        <td id=\"T_c2d4e657_3f44_11eb_a3e5_988389cc19e5row2_col9\" class=\"data row2 col9\" >-0.069737</td>\n",
              "                        <td id=\"T_c2d4e657_3f44_11eb_a3e5_988389cc19e5row2_col10\" class=\"data row2 col10\" >-0.101042</td>\n",
              "                        <td id=\"T_c2d4e657_3f44_11eb_a3e5_988389cc19e5row2_col11\" class=\"data row2 col11\" >0.000232</td>\n",
              "                        <td id=\"T_c2d4e657_3f44_11eb_a3e5_988389cc19e5row2_col12\" class=\"data row2 col12\" >0.089850</td>\n",
              "                        <td id=\"T_c2d4e657_3f44_11eb_a3e5_988389cc19e5row2_col13\" class=\"data row2 col13\" >0.025123</td>\n",
              "                        <td id=\"T_c2d4e657_3f44_11eb_a3e5_988389cc19e5row2_col14\" class=\"data row2 col14\" >-0.030766</td>\n",
              "                        <td id=\"T_c2d4e657_3f44_11eb_a3e5_988389cc19e5row2_col15\" class=\"data row2 col15\" >-0.103641</td>\n",
              "                        <td id=\"T_c2d4e657_3f44_11eb_a3e5_988389cc19e5row2_col16\" class=\"data row2 col16\" >0.103641</td>\n",
              "                        <td id=\"T_c2d4e657_3f44_11eb_a3e5_988389cc19e5row2_col17\" class=\"data row2 col17\" >-0.069398</td>\n",
              "            </tr>\n",
              "            <tr>\n",
              "                        <th id=\"T_c2d4e657_3f44_11eb_a3e5_988389cc19e5level0_row3\" class=\"row_heading level0 row3\" >PVol</th>\n",
              "                        <td id=\"T_c2d4e657_3f44_11eb_a3e5_988389cc19e5row3_col0\" class=\"data row3 col0\" >0.287307</td>\n",
              "                        <td id=\"T_c2d4e657_3f44_11eb_a3e5_988389cc19e5row3_col1\" class=\"data row3 col1\" >-0.030033</td>\n",
              "                        <td id=\"T_c2d4e657_3f44_11eb_a3e5_988389cc19e5row3_col2\" class=\"data row3 col2\" >0.019386</td>\n",
              "                        <td id=\"T_c2d4e657_3f44_11eb_a3e5_988389cc19e5row3_col3\" class=\"data row3 col3\" >1.000000</td>\n",
              "                        <td id=\"T_c2d4e657_3f44_11eb_a3e5_988389cc19e5row3_col4\" class=\"data row3 col4\" >-0.183566</td>\n",
              "                        <td id=\"T_c2d4e657_3f44_11eb_a3e5_988389cc19e5row3_col5\" class=\"data row3 col5\" >-0.084859</td>\n",
              "                        <td id=\"T_c2d4e657_3f44_11eb_a3e5_988389cc19e5row3_col6\" class=\"data row3 col6\" >0.015832</td>\n",
              "                        <td id=\"T_c2d4e657_3f44_11eb_a3e5_988389cc19e5row3_col7\" class=\"data row3 col7\" >-0.070312</td>\n",
              "                        <td id=\"T_c2d4e657_3f44_11eb_a3e5_988389cc19e5row3_col8\" class=\"data row3 col8\" >0.055137</td>\n",
              "                        <td id=\"T_c2d4e657_3f44_11eb_a3e5_988389cc19e5row3_col9\" class=\"data row3 col9\" >0.238676</td>\n",
              "                        <td id=\"T_c2d4e657_3f44_11eb_a3e5_988389cc19e5row3_col10\" class=\"data row3 col10\" >-0.136941</td>\n",
              "                        <td id=\"T_c2d4e657_3f44_11eb_a3e5_988389cc19e5row3_col11\" class=\"data row3 col11\" >0.069470</td>\n",
              "                        <td id=\"T_c2d4e657_3f44_11eb_a3e5_988389cc19e5row3_col12\" class=\"data row3 col12\" >-0.009232</td>\n",
              "                        <td id=\"T_c2d4e657_3f44_11eb_a3e5_988389cc19e5row3_col13\" class=\"data row3 col13\" >-0.070820</td>\n",
              "                        <td id=\"T_c2d4e657_3f44_11eb_a3e5_988389cc19e5row3_col14\" class=\"data row3 col14\" >-0.017703</td>\n",
              "                        <td id=\"T_c2d4e657_3f44_11eb_a3e5_988389cc19e5row3_col15\" class=\"data row3 col15\" >-0.001467</td>\n",
              "                        <td id=\"T_c2d4e657_3f44_11eb_a3e5_988389cc19e5row3_col16\" class=\"data row3 col16\" >0.001467</td>\n",
              "                        <td id=\"T_c2d4e657_3f44_11eb_a3e5_988389cc19e5row3_col17\" class=\"data row3 col17\" >0.077551</td>\n",
              "            </tr>\n",
              "            <tr>\n",
              "                        <th id=\"T_c2d4e657_3f44_11eb_a3e5_988389cc19e5level0_row4\" class=\"row_heading level0 row4\" >TVol</th>\n",
              "                        <td id=\"T_c2d4e657_3f44_11eb_a3e5_988389cc19e5row4_col0\" class=\"data row4 col0\" >-0.090404</td>\n",
              "                        <td id=\"T_c2d4e657_3f44_11eb_a3e5_988389cc19e5row4_col1\" class=\"data row4 col1\" >0.045794</td>\n",
              "                        <td id=\"T_c2d4e657_3f44_11eb_a3e5_988389cc19e5row4_col2\" class=\"data row4 col2\" >-0.025693</td>\n",
              "                        <td id=\"T_c2d4e657_3f44_11eb_a3e5_988389cc19e5row4_col3\" class=\"data row4 col3\" >-0.183566</td>\n",
              "                        <td id=\"T_c2d4e657_3f44_11eb_a3e5_988389cc19e5row4_col4\" class=\"data row4 col4\" >1.000000</td>\n",
              "                        <td id=\"T_c2d4e657_3f44_11eb_a3e5_988389cc19e5row4_col5\" class=\"data row4 col5\" >0.303626</td>\n",
              "                        <td id=\"T_c2d4e657_3f44_11eb_a3e5_988389cc19e5row4_col6\" class=\"data row4 col6\" >0.299160</td>\n",
              "                        <td id=\"T_c2d4e657_3f44_11eb_a3e5_988389cc19e5row4_col7\" class=\"data row4 col7\" >0.228656</td>\n",
              "                        <td id=\"T_c2d4e657_3f44_11eb_a3e5_988389cc19e5row4_col8\" class=\"data row4 col8\" >-0.483314</td>\n",
              "                        <td id=\"T_c2d4e657_3f44_11eb_a3e5_988389cc19e5row4_col9\" class=\"data row4 col9\" >0.294431</td>\n",
              "                        <td id=\"T_c2d4e657_3f44_11eb_a3e5_988389cc19e5row4_col10\" class=\"data row4 col10\" >0.128673</td>\n",
              "                        <td id=\"T_c2d4e657_3f44_11eb_a3e5_988389cc19e5row4_col11\" class=\"data row4 col11\" >-0.123089</td>\n",
              "                        <td id=\"T_c2d4e657_3f44_11eb_a3e5_988389cc19e5row4_col12\" class=\"data row4 col12\" >0.210579</td>\n",
              "                        <td id=\"T_c2d4e657_3f44_11eb_a3e5_988389cc19e5row4_col13\" class=\"data row4 col13\" >0.196076</td>\n",
              "                        <td id=\"T_c2d4e657_3f44_11eb_a3e5_988389cc19e5row4_col14\" class=\"data row4 col14\" >0.073355</td>\n",
              "                        <td id=\"T_c2d4e657_3f44_11eb_a3e5_988389cc19e5row4_col15\" class=\"data row4 col15\" >0.303387</td>\n",
              "                        <td id=\"T_c2d4e657_3f44_11eb_a3e5_988389cc19e5row4_col16\" class=\"data row4 col16\" >-0.303387</td>\n",
              "                        <td id=\"T_c2d4e657_3f44_11eb_a3e5_988389cc19e5row4_col17\" class=\"data row4 col17\" >-0.107887</td>\n",
              "            </tr>\n",
              "            <tr>\n",
              "                        <th id=\"T_c2d4e657_3f44_11eb_a3e5_988389cc19e5level0_row5\" class=\"row_heading level0 row5\" >T Stage</th>\n",
              "                        <td id=\"T_c2d4e657_3f44_11eb_a3e5_988389cc19e5row5_col0\" class=\"data row5 col0\" >0.003531</td>\n",
              "                        <td id=\"T_c2d4e657_3f44_11eb_a3e5_988389cc19e5row5_col1\" class=\"data row5 col1\" >-0.074346</td>\n",
              "                        <td id=\"T_c2d4e657_3f44_11eb_a3e5_988389cc19e5row5_col2\" class=\"data row5 col2\" >0.014295</td>\n",
              "                        <td id=\"T_c2d4e657_3f44_11eb_a3e5_988389cc19e5row5_col3\" class=\"data row5 col3\" >-0.084859</td>\n",
              "                        <td id=\"T_c2d4e657_3f44_11eb_a3e5_988389cc19e5row5_col4\" class=\"data row5 col4\" >0.303626</td>\n",
              "                        <td id=\"T_c2d4e657_3f44_11eb_a3e5_988389cc19e5row5_col5\" class=\"data row5 col5\" >1.000000</td>\n",
              "                        <td id=\"T_c2d4e657_3f44_11eb_a3e5_988389cc19e5row5_col6\" class=\"data row5 col6\" >0.436488</td>\n",
              "                        <td id=\"T_c2d4e657_3f44_11eb_a3e5_988389cc19e5row5_col7\" class=\"data row5 col7\" >0.321117</td>\n",
              "                        <td id=\"T_c2d4e657_3f44_11eb_a3e5_988389cc19e5row5_col8\" class=\"data row5 col8\" >-0.375601</td>\n",
              "                        <td id=\"T_c2d4e657_3f44_11eb_a3e5_988389cc19e5row5_col9\" class=\"data row5 col9\" >0.268857</td>\n",
              "                        <td id=\"T_c2d4e657_3f44_11eb_a3e5_988389cc19e5row5_col10\" class=\"data row5 col10\" >0.280653</td>\n",
              "                        <td id=\"T_c2d4e657_3f44_11eb_a3e5_988389cc19e5row5_col11\" class=\"data row5 col11\" >-0.077814</td>\n",
              "                        <td id=\"T_c2d4e657_3f44_11eb_a3e5_988389cc19e5row5_col12\" class=\"data row5 col12\" >-0.059189</td>\n",
              "                        <td id=\"T_c2d4e657_3f44_11eb_a3e5_988389cc19e5row5_col13\" class=\"data row5 col13\" >0.222976</td>\n",
              "                        <td id=\"T_c2d4e657_3f44_11eb_a3e5_988389cc19e5row5_col14\" class=\"data row5 col14\" >-0.020899</td>\n",
              "                        <td id=\"T_c2d4e657_3f44_11eb_a3e5_988389cc19e5row5_col15\" class=\"data row5 col15\" >0.239060</td>\n",
              "                        <td id=\"T_c2d4e657_3f44_11eb_a3e5_988389cc19e5row5_col16\" class=\"data row5 col16\" >-0.239060</td>\n",
              "                        <td id=\"T_c2d4e657_3f44_11eb_a3e5_988389cc19e5row5_col17\" class=\"data row5 col17\" >-0.152740</td>\n",
              "            </tr>\n",
              "            <tr>\n",
              "                        <th id=\"T_c2d4e657_3f44_11eb_a3e5_988389cc19e5level0_row6\" class=\"row_heading level0 row6\" >bGS</th>\n",
              "                        <td id=\"T_c2d4e657_3f44_11eb_a3e5_988389cc19e5row6_col0\" class=\"data row6 col0\" >0.044850</td>\n",
              "                        <td id=\"T_c2d4e657_3f44_11eb_a3e5_988389cc19e5row6_col1\" class=\"data row6 col1\" >-0.023116</td>\n",
              "                        <td id=\"T_c2d4e657_3f44_11eb_a3e5_988389cc19e5row6_col2\" class=\"data row6 col2\" >-0.025577</td>\n",
              "                        <td id=\"T_c2d4e657_3f44_11eb_a3e5_988389cc19e5row6_col3\" class=\"data row6 col3\" >0.015832</td>\n",
              "                        <td id=\"T_c2d4e657_3f44_11eb_a3e5_988389cc19e5row6_col4\" class=\"data row6 col4\" >0.299160</td>\n",
              "                        <td id=\"T_c2d4e657_3f44_11eb_a3e5_988389cc19e5row6_col5\" class=\"data row6 col5\" >0.436488</td>\n",
              "                        <td id=\"T_c2d4e657_3f44_11eb_a3e5_988389cc19e5row6_col6\" class=\"data row6 col6\" >1.000000</td>\n",
              "                        <td id=\"T_c2d4e657_3f44_11eb_a3e5_988389cc19e5row6_col7\" class=\"data row6 col7\" >0.171574</td>\n",
              "                        <td id=\"T_c2d4e657_3f44_11eb_a3e5_988389cc19e5row6_col8\" class=\"data row6 col8\" >-0.370313</td>\n",
              "                        <td id=\"T_c2d4e657_3f44_11eb_a3e5_988389cc19e5row6_col9\" class=\"data row6 col9\" >0.288790</td>\n",
              "                        <td id=\"T_c2d4e657_3f44_11eb_a3e5_988389cc19e5row6_col10\" class=\"data row6 col10\" >0.337446</td>\n",
              "                        <td id=\"T_c2d4e657_3f44_11eb_a3e5_988389cc19e5row6_col11\" class=\"data row6 col11\" >-0.027507</td>\n",
              "                        <td id=\"T_c2d4e657_3f44_11eb_a3e5_988389cc19e5row6_col12\" class=\"data row6 col12\" >0.041555</td>\n",
              "                        <td id=\"T_c2d4e657_3f44_11eb_a3e5_988389cc19e5row6_col13\" class=\"data row6 col13\" >0.238396</td>\n",
              "                        <td id=\"T_c2d4e657_3f44_11eb_a3e5_988389cc19e5row6_col14\" class=\"data row6 col14\" >0.125723</td>\n",
              "                        <td id=\"T_c2d4e657_3f44_11eb_a3e5_988389cc19e5row6_col15\" class=\"data row6 col15\" >0.349428</td>\n",
              "                        <td id=\"T_c2d4e657_3f44_11eb_a3e5_988389cc19e5row6_col16\" class=\"data row6 col16\" >-0.349428</td>\n",
              "                        <td id=\"T_c2d4e657_3f44_11eb_a3e5_988389cc19e5row6_col17\" class=\"data row6 col17\" >-0.255963</td>\n",
              "            </tr>\n",
              "            <tr>\n",
              "                        <th id=\"T_c2d4e657_3f44_11eb_a3e5_988389cc19e5level0_row7\" class=\"row_heading level0 row7\" >BN+</th>\n",
              "                        <td id=\"T_c2d4e657_3f44_11eb_a3e5_988389cc19e5row7_col0\" class=\"data row7 col0\" >-0.153700</td>\n",
              "                        <td id=\"T_c2d4e657_3f44_11eb_a3e5_988389cc19e5row7_col1\" class=\"data row7 col1\" >0.124778</td>\n",
              "                        <td id=\"T_c2d4e657_3f44_11eb_a3e5_988389cc19e5row7_col2\" class=\"data row7 col2\" >-0.025259</td>\n",
              "                        <td id=\"T_c2d4e657_3f44_11eb_a3e5_988389cc19e5row7_col3\" class=\"data row7 col3\" >-0.070312</td>\n",
              "                        <td id=\"T_c2d4e657_3f44_11eb_a3e5_988389cc19e5row7_col4\" class=\"data row7 col4\" >0.228656</td>\n",
              "                        <td id=\"T_c2d4e657_3f44_11eb_a3e5_988389cc19e5row7_col5\" class=\"data row7 col5\" >0.321117</td>\n",
              "                        <td id=\"T_c2d4e657_3f44_11eb_a3e5_988389cc19e5row7_col6\" class=\"data row7 col6\" >0.171574</td>\n",
              "                        <td id=\"T_c2d4e657_3f44_11eb_a3e5_988389cc19e5row7_col7\" class=\"data row7 col7\" >1.000000</td>\n",
              "                        <td id=\"T_c2d4e657_3f44_11eb_a3e5_988389cc19e5row7_col8\" class=\"data row7 col8\" >-0.151286</td>\n",
              "                        <td id=\"T_c2d4e657_3f44_11eb_a3e5_988389cc19e5row7_col9\" class=\"data row7 col9\" >0.258109</td>\n",
              "                        <td id=\"T_c2d4e657_3f44_11eb_a3e5_988389cc19e5row7_col10\" class=\"data row7 col10\" >0.302058</td>\n",
              "                        <td id=\"T_c2d4e657_3f44_11eb_a3e5_988389cc19e5row7_col11\" class=\"data row7 col11\" >-0.069671</td>\n",
              "                        <td id=\"T_c2d4e657_3f44_11eb_a3e5_988389cc19e5row7_col12\" class=\"data row7 col12\" >-0.176945</td>\n",
              "                        <td id=\"T_c2d4e657_3f44_11eb_a3e5_988389cc19e5row7_col13\" class=\"data row7 col13\" >0.343895</td>\n",
              "                        <td id=\"T_c2d4e657_3f44_11eb_a3e5_988389cc19e5row7_col14\" class=\"data row7 col14\" >-0.014322</td>\n",
              "                        <td id=\"T_c2d4e657_3f44_11eb_a3e5_988389cc19e5row7_col15\" class=\"data row7 col15\" >0.124778</td>\n",
              "                        <td id=\"T_c2d4e657_3f44_11eb_a3e5_988389cc19e5row7_col16\" class=\"data row7 col16\" >-0.124778</td>\n",
              "                        <td id=\"T_c2d4e657_3f44_11eb_a3e5_988389cc19e5row7_col17\" class=\"data row7 col17\" >-0.064761</td>\n",
              "            </tr>\n",
              "            <tr>\n",
              "                        <th id=\"T_c2d4e657_3f44_11eb_a3e5_988389cc19e5level0_row8\" class=\"row_heading level0 row8\" >OrganConfined</th>\n",
              "                        <td id=\"T_c2d4e657_3f44_11eb_a3e5_988389cc19e5row8_col0\" class=\"data row8 col0\" >-0.068833</td>\n",
              "                        <td id=\"T_c2d4e657_3f44_11eb_a3e5_988389cc19e5row8_col1\" class=\"data row8 col1\" >0.025109</td>\n",
              "                        <td id=\"T_c2d4e657_3f44_11eb_a3e5_988389cc19e5row8_col2\" class=\"data row8 col2\" >0.016690</td>\n",
              "                        <td id=\"T_c2d4e657_3f44_11eb_a3e5_988389cc19e5row8_col3\" class=\"data row8 col3\" >0.055137</td>\n",
              "                        <td id=\"T_c2d4e657_3f44_11eb_a3e5_988389cc19e5row8_col4\" class=\"data row8 col4\" >-0.483314</td>\n",
              "                        <td id=\"T_c2d4e657_3f44_11eb_a3e5_988389cc19e5row8_col5\" class=\"data row8 col5\" >-0.375601</td>\n",
              "                        <td id=\"T_c2d4e657_3f44_11eb_a3e5_988389cc19e5row8_col6\" class=\"data row8 col6\" >-0.370313</td>\n",
              "                        <td id=\"T_c2d4e657_3f44_11eb_a3e5_988389cc19e5row8_col7\" class=\"data row8 col7\" >-0.151286</td>\n",
              "                        <td id=\"T_c2d4e657_3f44_11eb_a3e5_988389cc19e5row8_col8\" class=\"data row8 col8\" >1.000000</td>\n",
              "                        <td id=\"T_c2d4e657_3f44_11eb_a3e5_988389cc19e5row8_col9\" class=\"data row8 col9\" >-0.212079</td>\n",
              "                        <td id=\"T_c2d4e657_3f44_11eb_a3e5_988389cc19e5row8_col10\" class=\"data row8 col10\" >-0.168890</td>\n",
              "                        <td id=\"T_c2d4e657_3f44_11eb_a3e5_988389cc19e5row8_col11\" class=\"data row8 col11\" >0.032972</td>\n",
              "                        <td id=\"T_c2d4e657_3f44_11eb_a3e5_988389cc19e5row8_col12\" class=\"data row8 col12\" >-0.122811</td>\n",
              "                        <td id=\"T_c2d4e657_3f44_11eb_a3e5_988389cc19e5row8_col13\" class=\"data row8 col13\" >-0.210090</td>\n",
              "                        <td id=\"T_c2d4e657_3f44_11eb_a3e5_988389cc19e5row8_col14\" class=\"data row8 col14\" >-0.078598</td>\n",
              "                        <td id=\"T_c2d4e657_3f44_11eb_a3e5_988389cc19e5row8_col15\" class=\"data row8 col15\" >-0.240545</td>\n",
              "                        <td id=\"T_c2d4e657_3f44_11eb_a3e5_988389cc19e5row8_col16\" class=\"data row8 col16\" >0.240545</td>\n",
              "                        <td id=\"T_c2d4e657_3f44_11eb_a3e5_988389cc19e5row8_col17\" class=\"data row8 col17\" >0.101030</td>\n",
              "            </tr>\n",
              "            <tr>\n",
              "                        <th id=\"T_c2d4e657_3f44_11eb_a3e5_988389cc19e5level0_row9\" class=\"row_heading level0 row9\" >PreopPSA</th>\n",
              "                        <td id=\"T_c2d4e657_3f44_11eb_a3e5_988389cc19e5row9_col0\" class=\"data row9 col0\" >-0.038046</td>\n",
              "                        <td id=\"T_c2d4e657_3f44_11eb_a3e5_988389cc19e5row9_col1\" class=\"data row9 col1\" >0.108834</td>\n",
              "                        <td id=\"T_c2d4e657_3f44_11eb_a3e5_988389cc19e5row9_col2\" class=\"data row9 col2\" >-0.069737</td>\n",
              "                        <td id=\"T_c2d4e657_3f44_11eb_a3e5_988389cc19e5row9_col3\" class=\"data row9 col3\" >0.238676</td>\n",
              "                        <td id=\"T_c2d4e657_3f44_11eb_a3e5_988389cc19e5row9_col4\" class=\"data row9 col4\" >0.294431</td>\n",
              "                        <td id=\"T_c2d4e657_3f44_11eb_a3e5_988389cc19e5row9_col5\" class=\"data row9 col5\" >0.268857</td>\n",
              "                        <td id=\"T_c2d4e657_3f44_11eb_a3e5_988389cc19e5row9_col6\" class=\"data row9 col6\" >0.288790</td>\n",
              "                        <td id=\"T_c2d4e657_3f44_11eb_a3e5_988389cc19e5row9_col7\" class=\"data row9 col7\" >0.258109</td>\n",
              "                        <td id=\"T_c2d4e657_3f44_11eb_a3e5_988389cc19e5row9_col8\" class=\"data row9 col8\" >-0.212079</td>\n",
              "                        <td id=\"T_c2d4e657_3f44_11eb_a3e5_988389cc19e5row9_col9\" class=\"data row9 col9\" >1.000000</td>\n",
              "                        <td id=\"T_c2d4e657_3f44_11eb_a3e5_988389cc19e5row9_col10\" class=\"data row9 col10\" >0.229456</td>\n",
              "                        <td id=\"T_c2d4e657_3f44_11eb_a3e5_988389cc19e5row9_col11\" class=\"data row9 col11\" >0.019184</td>\n",
              "                        <td id=\"T_c2d4e657_3f44_11eb_a3e5_988389cc19e5row9_col12\" class=\"data row9 col12\" >-0.085203</td>\n",
              "                        <td id=\"T_c2d4e657_3f44_11eb_a3e5_988389cc19e5row9_col13\" class=\"data row9 col13\" >0.155966</td>\n",
              "                        <td id=\"T_c2d4e657_3f44_11eb_a3e5_988389cc19e5row9_col14\" class=\"data row9 col14\" >0.035657</td>\n",
              "                        <td id=\"T_c2d4e657_3f44_11eb_a3e5_988389cc19e5row9_col15\" class=\"data row9 col15\" >0.248745</td>\n",
              "                        <td id=\"T_c2d4e657_3f44_11eb_a3e5_988389cc19e5row9_col16\" class=\"data row9 col16\" >-0.248745</td>\n",
              "                        <td id=\"T_c2d4e657_3f44_11eb_a3e5_988389cc19e5row9_col17\" class=\"data row9 col17\" >-0.097288</td>\n",
              "            </tr>\n",
              "            <tr>\n",
              "                        <th id=\"T_c2d4e657_3f44_11eb_a3e5_988389cc19e5level0_row10\" class=\"row_heading level0 row10\" >PreopTherapy</th>\n",
              "                        <td id=\"T_c2d4e657_3f44_11eb_a3e5_988389cc19e5row10_col0\" class=\"data row10 col0\" >-0.065045</td>\n",
              "                        <td id=\"T_c2d4e657_3f44_11eb_a3e5_988389cc19e5row10_col1\" class=\"data row10 col1\" >-0.002867</td>\n",
              "                        <td id=\"T_c2d4e657_3f44_11eb_a3e5_988389cc19e5row10_col2\" class=\"data row10 col2\" >-0.101042</td>\n",
              "                        <td id=\"T_c2d4e657_3f44_11eb_a3e5_988389cc19e5row10_col3\" class=\"data row10 col3\" >-0.136941</td>\n",
              "                        <td id=\"T_c2d4e657_3f44_11eb_a3e5_988389cc19e5row10_col4\" class=\"data row10 col4\" >0.128673</td>\n",
              "                        <td id=\"T_c2d4e657_3f44_11eb_a3e5_988389cc19e5row10_col5\" class=\"data row10 col5\" >0.280653</td>\n",
              "                        <td id=\"T_c2d4e657_3f44_11eb_a3e5_988389cc19e5row10_col6\" class=\"data row10 col6\" >0.337446</td>\n",
              "                        <td id=\"T_c2d4e657_3f44_11eb_a3e5_988389cc19e5row10_col7\" class=\"data row10 col7\" >0.302058</td>\n",
              "                        <td id=\"T_c2d4e657_3f44_11eb_a3e5_988389cc19e5row10_col8\" class=\"data row10 col8\" >-0.168890</td>\n",
              "                        <td id=\"T_c2d4e657_3f44_11eb_a3e5_988389cc19e5row10_col9\" class=\"data row10 col9\" >0.229456</td>\n",
              "                        <td id=\"T_c2d4e657_3f44_11eb_a3e5_988389cc19e5row10_col10\" class=\"data row10 col10\" >1.000000</td>\n",
              "                        <td id=\"T_c2d4e657_3f44_11eb_a3e5_988389cc19e5row10_col11\" class=\"data row10 col11\" >-0.001161</td>\n",
              "                        <td id=\"T_c2d4e657_3f44_11eb_a3e5_988389cc19e5row10_col12\" class=\"data row10 col12\" >-0.744174</td>\n",
              "                        <td id=\"T_c2d4e657_3f44_11eb_a3e5_988389cc19e5row10_col13\" class=\"data row10 col13\" >0.210223</td>\n",
              "                        <td id=\"T_c2d4e657_3f44_11eb_a3e5_988389cc19e5row10_col14\" class=\"data row10 col14\" >0.154078</td>\n",
              "                        <td id=\"T_c2d4e657_3f44_11eb_a3e5_988389cc19e5row10_col15\" class=\"data row10 col15\" >0.244355</td>\n",
              "                        <td id=\"T_c2d4e657_3f44_11eb_a3e5_988389cc19e5row10_col16\" class=\"data row10 col16\" >-0.244355</td>\n",
              "                        <td id=\"T_c2d4e657_3f44_11eb_a3e5_988389cc19e5row10_col17\" class=\"data row10 col17\" >-0.097016</td>\n",
              "            </tr>\n",
              "            <tr>\n",
              "                        <th id=\"T_c2d4e657_3f44_11eb_a3e5_988389cc19e5level0_row11\" class=\"row_heading level0 row11\" >Units</th>\n",
              "                        <td id=\"T_c2d4e657_3f44_11eb_a3e5_988389cc19e5row11_col0\" class=\"data row11 col0\" >0.016089</td>\n",
              "                        <td id=\"T_c2d4e657_3f44_11eb_a3e5_988389cc19e5row11_col1\" class=\"data row11 col1\" >-0.024592</td>\n",
              "                        <td id=\"T_c2d4e657_3f44_11eb_a3e5_988389cc19e5row11_col2\" class=\"data row11 col2\" >0.000232</td>\n",
              "                        <td id=\"T_c2d4e657_3f44_11eb_a3e5_988389cc19e5row11_col3\" class=\"data row11 col3\" >0.069470</td>\n",
              "                        <td id=\"T_c2d4e657_3f44_11eb_a3e5_988389cc19e5row11_col4\" class=\"data row11 col4\" >-0.123089</td>\n",
              "                        <td id=\"T_c2d4e657_3f44_11eb_a3e5_988389cc19e5row11_col5\" class=\"data row11 col5\" >-0.077814</td>\n",
              "                        <td id=\"T_c2d4e657_3f44_11eb_a3e5_988389cc19e5row11_col6\" class=\"data row11 col6\" >-0.027507</td>\n",
              "                        <td id=\"T_c2d4e657_3f44_11eb_a3e5_988389cc19e5row11_col7\" class=\"data row11 col7\" >-0.069671</td>\n",
              "                        <td id=\"T_c2d4e657_3f44_11eb_a3e5_988389cc19e5row11_col8\" class=\"data row11 col8\" >0.032972</td>\n",
              "                        <td id=\"T_c2d4e657_3f44_11eb_a3e5_988389cc19e5row11_col9\" class=\"data row11 col9\" >0.019184</td>\n",
              "                        <td id=\"T_c2d4e657_3f44_11eb_a3e5_988389cc19e5row11_col10\" class=\"data row11 col10\" >-0.001161</td>\n",
              "                        <td id=\"T_c2d4e657_3f44_11eb_a3e5_988389cc19e5row11_col11\" class=\"data row11 col11\" >1.000000</td>\n",
              "                        <td id=\"T_c2d4e657_3f44_11eb_a3e5_988389cc19e5row11_col12\" class=\"data row11 col12\" >-0.007747</td>\n",
              "                        <td id=\"T_c2d4e657_3f44_11eb_a3e5_988389cc19e5row11_col13\" class=\"data row11 col13\" >-0.046138</td>\n",
              "                        <td id=\"T_c2d4e657_3f44_11eb_a3e5_988389cc19e5row11_col14\" class=\"data row11 col14\" >-0.012579</td>\n",
              "                        <td id=\"T_c2d4e657_3f44_11eb_a3e5_988389cc19e5row11_col15\" class=\"data row11 col15\" >0.031670</td>\n",
              "                        <td id=\"T_c2d4e657_3f44_11eb_a3e5_988389cc19e5row11_col16\" class=\"data row11 col16\" >-0.031670</td>\n",
              "                        <td id=\"T_c2d4e657_3f44_11eb_a3e5_988389cc19e5row11_col17\" class=\"data row11 col17\" >-0.077413</td>\n",
              "            </tr>\n",
              "            <tr>\n",
              "                        <th id=\"T_c2d4e657_3f44_11eb_a3e5_988389cc19e5level0_row12\" class=\"row_heading level0 row12\" >sGS</th>\n",
              "                        <td id=\"T_c2d4e657_3f44_11eb_a3e5_988389cc19e5row12_col0\" class=\"data row12 col0\" >0.083405</td>\n",
              "                        <td id=\"T_c2d4e657_3f44_11eb_a3e5_988389cc19e5row12_col1\" class=\"data row12 col1\" >0.022225</td>\n",
              "                        <td id=\"T_c2d4e657_3f44_11eb_a3e5_988389cc19e5row12_col2\" class=\"data row12 col2\" >0.089850</td>\n",
              "                        <td id=\"T_c2d4e657_3f44_11eb_a3e5_988389cc19e5row12_col3\" class=\"data row12 col3\" >-0.009232</td>\n",
              "                        <td id=\"T_c2d4e657_3f44_11eb_a3e5_988389cc19e5row12_col4\" class=\"data row12 col4\" >0.210579</td>\n",
              "                        <td id=\"T_c2d4e657_3f44_11eb_a3e5_988389cc19e5row12_col5\" class=\"data row12 col5\" >-0.059189</td>\n",
              "                        <td id=\"T_c2d4e657_3f44_11eb_a3e5_988389cc19e5row12_col6\" class=\"data row12 col6\" >0.041555</td>\n",
              "                        <td id=\"T_c2d4e657_3f44_11eb_a3e5_988389cc19e5row12_col7\" class=\"data row12 col7\" >-0.176945</td>\n",
              "                        <td id=\"T_c2d4e657_3f44_11eb_a3e5_988389cc19e5row12_col8\" class=\"data row12 col8\" >-0.122811</td>\n",
              "                        <td id=\"T_c2d4e657_3f44_11eb_a3e5_988389cc19e5row12_col9\" class=\"data row12 col9\" >-0.085203</td>\n",
              "                        <td id=\"T_c2d4e657_3f44_11eb_a3e5_988389cc19e5row12_col10\" class=\"data row12 col10\" >-0.744174</td>\n",
              "                        <td id=\"T_c2d4e657_3f44_11eb_a3e5_988389cc19e5row12_col11\" class=\"data row12 col11\" >-0.007747</td>\n",
              "                        <td id=\"T_c2d4e657_3f44_11eb_a3e5_988389cc19e5row12_col12\" class=\"data row12 col12\" >1.000000</td>\n",
              "                        <td id=\"T_c2d4e657_3f44_11eb_a3e5_988389cc19e5row12_col13\" class=\"data row12 col13\" >-0.111569</td>\n",
              "                        <td id=\"T_c2d4e657_3f44_11eb_a3e5_988389cc19e5row12_col14\" class=\"data row12 col14\" >-0.114661</td>\n",
              "                        <td id=\"T_c2d4e657_3f44_11eb_a3e5_988389cc19e5row12_col15\" class=\"data row12 col15\" >-0.023298</td>\n",
              "                        <td id=\"T_c2d4e657_3f44_11eb_a3e5_988389cc19e5row12_col16\" class=\"data row12 col16\" >0.023298</td>\n",
              "                        <td id=\"T_c2d4e657_3f44_11eb_a3e5_988389cc19e5row12_col17\" class=\"data row12 col17\" >-0.066649</td>\n",
              "            </tr>\n",
              "            <tr>\n",
              "                        <th id=\"T_c2d4e657_3f44_11eb_a3e5_988389cc19e5level0_row13\" class=\"row_heading level0 row13\" >AnyAdjTherapy</th>\n",
              "                        <td id=\"T_c2d4e657_3f44_11eb_a3e5_988389cc19e5row13_col0\" class=\"data row13 col0\" >-0.046674</td>\n",
              "                        <td id=\"T_c2d4e657_3f44_11eb_a3e5_988389cc19e5row13_col1\" class=\"data row13 col1\" >-0.009262</td>\n",
              "                        <td id=\"T_c2d4e657_3f44_11eb_a3e5_988389cc19e5row13_col2\" class=\"data row13 col2\" >0.025123</td>\n",
              "                        <td id=\"T_c2d4e657_3f44_11eb_a3e5_988389cc19e5row13_col3\" class=\"data row13 col3\" >-0.070820</td>\n",
              "                        <td id=\"T_c2d4e657_3f44_11eb_a3e5_988389cc19e5row13_col4\" class=\"data row13 col4\" >0.196076</td>\n",
              "                        <td id=\"T_c2d4e657_3f44_11eb_a3e5_988389cc19e5row13_col5\" class=\"data row13 col5\" >0.222976</td>\n",
              "                        <td id=\"T_c2d4e657_3f44_11eb_a3e5_988389cc19e5row13_col6\" class=\"data row13 col6\" >0.238396</td>\n",
              "                        <td id=\"T_c2d4e657_3f44_11eb_a3e5_988389cc19e5row13_col7\" class=\"data row13 col7\" >0.343895</td>\n",
              "                        <td id=\"T_c2d4e657_3f44_11eb_a3e5_988389cc19e5row13_col8\" class=\"data row13 col8\" >-0.210090</td>\n",
              "                        <td id=\"T_c2d4e657_3f44_11eb_a3e5_988389cc19e5row13_col9\" class=\"data row13 col9\" >0.155966</td>\n",
              "                        <td id=\"T_c2d4e657_3f44_11eb_a3e5_988389cc19e5row13_col10\" class=\"data row13 col10\" >0.210223</td>\n",
              "                        <td id=\"T_c2d4e657_3f44_11eb_a3e5_988389cc19e5row13_col11\" class=\"data row13 col11\" >-0.046138</td>\n",
              "                        <td id=\"T_c2d4e657_3f44_11eb_a3e5_988389cc19e5row13_col12\" class=\"data row13 col12\" >-0.111569</td>\n",
              "                        <td id=\"T_c2d4e657_3f44_11eb_a3e5_988389cc19e5row13_col13\" class=\"data row13 col13\" >1.000000</td>\n",
              "                        <td id=\"T_c2d4e657_3f44_11eb_a3e5_988389cc19e5row13_col14\" class=\"data row13 col14\" >-0.009030</td>\n",
              "                        <td id=\"T_c2d4e657_3f44_11eb_a3e5_988389cc19e5row13_col15\" class=\"data row13 col15\" >0.050536</td>\n",
              "                        <td id=\"T_c2d4e657_3f44_11eb_a3e5_988389cc19e5row13_col16\" class=\"data row13 col16\" >-0.050536</td>\n",
              "                        <td id=\"T_c2d4e657_3f44_11eb_a3e5_988389cc19e5row13_col17\" class=\"data row13 col17\" >-0.026586</td>\n",
              "            </tr>\n",
              "            <tr>\n",
              "                        <th id=\"T_c2d4e657_3f44_11eb_a3e5_988389cc19e5level0_row14\" class=\"row_heading level0 row14\" >AdjRadTherapy</th>\n",
              "                        <td id=\"T_c2d4e657_3f44_11eb_a3e5_988389cc19e5row14_col0\" class=\"data row14 col0\" >-0.030774</td>\n",
              "                        <td id=\"T_c2d4e657_3f44_11eb_a3e5_988389cc19e5row14_col1\" class=\"data row14 col1\" >-0.025836</td>\n",
              "                        <td id=\"T_c2d4e657_3f44_11eb_a3e5_988389cc19e5row14_col2\" class=\"data row14 col2\" >-0.030766</td>\n",
              "                        <td id=\"T_c2d4e657_3f44_11eb_a3e5_988389cc19e5row14_col3\" class=\"data row14 col3\" >-0.017703</td>\n",
              "                        <td id=\"T_c2d4e657_3f44_11eb_a3e5_988389cc19e5row14_col4\" class=\"data row14 col4\" >0.073355</td>\n",
              "                        <td id=\"T_c2d4e657_3f44_11eb_a3e5_988389cc19e5row14_col5\" class=\"data row14 col5\" >-0.020899</td>\n",
              "                        <td id=\"T_c2d4e657_3f44_11eb_a3e5_988389cc19e5row14_col6\" class=\"data row14 col6\" >0.125723</td>\n",
              "                        <td id=\"T_c2d4e657_3f44_11eb_a3e5_988389cc19e5row14_col7\" class=\"data row14 col7\" >-0.014322</td>\n",
              "                        <td id=\"T_c2d4e657_3f44_11eb_a3e5_988389cc19e5row14_col8\" class=\"data row14 col8\" >-0.078598</td>\n",
              "                        <td id=\"T_c2d4e657_3f44_11eb_a3e5_988389cc19e5row14_col9\" class=\"data row14 col9\" >0.035657</td>\n",
              "                        <td id=\"T_c2d4e657_3f44_11eb_a3e5_988389cc19e5row14_col10\" class=\"data row14 col10\" >0.154078</td>\n",
              "                        <td id=\"T_c2d4e657_3f44_11eb_a3e5_988389cc19e5row14_col11\" class=\"data row14 col11\" >-0.012579</td>\n",
              "                        <td id=\"T_c2d4e657_3f44_11eb_a3e5_988389cc19e5row14_col12\" class=\"data row14 col12\" >-0.114661</td>\n",
              "                        <td id=\"T_c2d4e657_3f44_11eb_a3e5_988389cc19e5row14_col13\" class=\"data row14 col13\" >-0.009030</td>\n",
              "                        <td id=\"T_c2d4e657_3f44_11eb_a3e5_988389cc19e5row14_col14\" class=\"data row14 col14\" >1.000000</td>\n",
              "                        <td id=\"T_c2d4e657_3f44_11eb_a3e5_988389cc19e5row14_col15\" class=\"data row14 col15\" >0.130762</td>\n",
              "                        <td id=\"T_c2d4e657_3f44_11eb_a3e5_988389cc19e5row14_col16\" class=\"data row14 col16\" >-0.130762</td>\n",
              "                        <td id=\"T_c2d4e657_3f44_11eb_a3e5_988389cc19e5row14_col17\" class=\"data row14 col17\" >-0.050947</td>\n",
              "            </tr>\n",
              "            <tr>\n",
              "                        <th id=\"T_c2d4e657_3f44_11eb_a3e5_988389cc19e5level0_row15\" class=\"row_heading level0 row15\" >Recurrence</th>\n",
              "                        <td id=\"T_c2d4e657_3f44_11eb_a3e5_988389cc19e5row15_col0\" class=\"data row15 col0\" >0.017008</td>\n",
              "                        <td id=\"T_c2d4e657_3f44_11eb_a3e5_988389cc19e5row15_col1\" class=\"data row15 col1\" >0.071264</td>\n",
              "                        <td id=\"T_c2d4e657_3f44_11eb_a3e5_988389cc19e5row15_col2\" class=\"data row15 col2\" >-0.103641</td>\n",
              "                        <td id=\"T_c2d4e657_3f44_11eb_a3e5_988389cc19e5row15_col3\" class=\"data row15 col3\" >-0.001467</td>\n",
              "                        <td id=\"T_c2d4e657_3f44_11eb_a3e5_988389cc19e5row15_col4\" class=\"data row15 col4\" >0.303387</td>\n",
              "                        <td id=\"T_c2d4e657_3f44_11eb_a3e5_988389cc19e5row15_col5\" class=\"data row15 col5\" >0.239060</td>\n",
              "                        <td id=\"T_c2d4e657_3f44_11eb_a3e5_988389cc19e5row15_col6\" class=\"data row15 col6\" >0.349428</td>\n",
              "                        <td id=\"T_c2d4e657_3f44_11eb_a3e5_988389cc19e5row15_col7\" class=\"data row15 col7\" >0.124778</td>\n",
              "                        <td id=\"T_c2d4e657_3f44_11eb_a3e5_988389cc19e5row15_col8\" class=\"data row15 col8\" >-0.240545</td>\n",
              "                        <td id=\"T_c2d4e657_3f44_11eb_a3e5_988389cc19e5row15_col9\" class=\"data row15 col9\" >0.248745</td>\n",
              "                        <td id=\"T_c2d4e657_3f44_11eb_a3e5_988389cc19e5row15_col10\" class=\"data row15 col10\" >0.244355</td>\n",
              "                        <td id=\"T_c2d4e657_3f44_11eb_a3e5_988389cc19e5row15_col11\" class=\"data row15 col11\" >0.031670</td>\n",
              "                        <td id=\"T_c2d4e657_3f44_11eb_a3e5_988389cc19e5row15_col12\" class=\"data row15 col12\" >-0.023298</td>\n",
              "                        <td id=\"T_c2d4e657_3f44_11eb_a3e5_988389cc19e5row15_col13\" class=\"data row15 col13\" >0.050536</td>\n",
              "                        <td id=\"T_c2d4e657_3f44_11eb_a3e5_988389cc19e5row15_col14\" class=\"data row15 col14\" >0.130762</td>\n",
              "                        <td id=\"T_c2d4e657_3f44_11eb_a3e5_988389cc19e5row15_col15\" class=\"data row15 col15\" >1.000000</td>\n",
              "                        <td id=\"T_c2d4e657_3f44_11eb_a3e5_988389cc19e5row15_col16\" class=\"data row15 col16\" >-1.000000</td>\n",
              "                        <td id=\"T_c2d4e657_3f44_11eb_a3e5_988389cc19e5row15_col17\" class=\"data row15 col17\" >-0.229896</td>\n",
              "            </tr>\n",
              "            <tr>\n",
              "                        <th id=\"T_c2d4e657_3f44_11eb_a3e5_988389cc19e5level0_row16\" class=\"row_heading level0 row16\" >Censor</th>\n",
              "                        <td id=\"T_c2d4e657_3f44_11eb_a3e5_988389cc19e5row16_col0\" class=\"data row16 col0\" >-0.017008</td>\n",
              "                        <td id=\"T_c2d4e657_3f44_11eb_a3e5_988389cc19e5row16_col1\" class=\"data row16 col1\" >-0.071264</td>\n",
              "                        <td id=\"T_c2d4e657_3f44_11eb_a3e5_988389cc19e5row16_col2\" class=\"data row16 col2\" >0.103641</td>\n",
              "                        <td id=\"T_c2d4e657_3f44_11eb_a3e5_988389cc19e5row16_col3\" class=\"data row16 col3\" >0.001467</td>\n",
              "                        <td id=\"T_c2d4e657_3f44_11eb_a3e5_988389cc19e5row16_col4\" class=\"data row16 col4\" >-0.303387</td>\n",
              "                        <td id=\"T_c2d4e657_3f44_11eb_a3e5_988389cc19e5row16_col5\" class=\"data row16 col5\" >-0.239060</td>\n",
              "                        <td id=\"T_c2d4e657_3f44_11eb_a3e5_988389cc19e5row16_col6\" class=\"data row16 col6\" >-0.349428</td>\n",
              "                        <td id=\"T_c2d4e657_3f44_11eb_a3e5_988389cc19e5row16_col7\" class=\"data row16 col7\" >-0.124778</td>\n",
              "                        <td id=\"T_c2d4e657_3f44_11eb_a3e5_988389cc19e5row16_col8\" class=\"data row16 col8\" >0.240545</td>\n",
              "                        <td id=\"T_c2d4e657_3f44_11eb_a3e5_988389cc19e5row16_col9\" class=\"data row16 col9\" >-0.248745</td>\n",
              "                        <td id=\"T_c2d4e657_3f44_11eb_a3e5_988389cc19e5row16_col10\" class=\"data row16 col10\" >-0.244355</td>\n",
              "                        <td id=\"T_c2d4e657_3f44_11eb_a3e5_988389cc19e5row16_col11\" class=\"data row16 col11\" >-0.031670</td>\n",
              "                        <td id=\"T_c2d4e657_3f44_11eb_a3e5_988389cc19e5row16_col12\" class=\"data row16 col12\" >0.023298</td>\n",
              "                        <td id=\"T_c2d4e657_3f44_11eb_a3e5_988389cc19e5row16_col13\" class=\"data row16 col13\" >-0.050536</td>\n",
              "                        <td id=\"T_c2d4e657_3f44_11eb_a3e5_988389cc19e5row16_col14\" class=\"data row16 col14\" >-0.130762</td>\n",
              "                        <td id=\"T_c2d4e657_3f44_11eb_a3e5_988389cc19e5row16_col15\" class=\"data row16 col15\" >-1.000000</td>\n",
              "                        <td id=\"T_c2d4e657_3f44_11eb_a3e5_988389cc19e5row16_col16\" class=\"data row16 col16\" >1.000000</td>\n",
              "                        <td id=\"T_c2d4e657_3f44_11eb_a3e5_988389cc19e5row16_col17\" class=\"data row16 col17\" >0.229896</td>\n",
              "            </tr>\n",
              "            <tr>\n",
              "                        <th id=\"T_c2d4e657_3f44_11eb_a3e5_988389cc19e5level0_row17\" class=\"row_heading level0 row17\" >TimeToRecurrence</th>\n",
              "                        <td id=\"T_c2d4e657_3f44_11eb_a3e5_988389cc19e5row17_col0\" class=\"data row17 col0\" >0.064720</td>\n",
              "                        <td id=\"T_c2d4e657_3f44_11eb_a3e5_988389cc19e5row17_col1\" class=\"data row17 col1\" >-0.082977</td>\n",
              "                        <td id=\"T_c2d4e657_3f44_11eb_a3e5_988389cc19e5row17_col2\" class=\"data row17 col2\" >-0.069398</td>\n",
              "                        <td id=\"T_c2d4e657_3f44_11eb_a3e5_988389cc19e5row17_col3\" class=\"data row17 col3\" >0.077551</td>\n",
              "                        <td id=\"T_c2d4e657_3f44_11eb_a3e5_988389cc19e5row17_col4\" class=\"data row17 col4\" >-0.107887</td>\n",
              "                        <td id=\"T_c2d4e657_3f44_11eb_a3e5_988389cc19e5row17_col5\" class=\"data row17 col5\" >-0.152740</td>\n",
              "                        <td id=\"T_c2d4e657_3f44_11eb_a3e5_988389cc19e5row17_col6\" class=\"data row17 col6\" >-0.255963</td>\n",
              "                        <td id=\"T_c2d4e657_3f44_11eb_a3e5_988389cc19e5row17_col7\" class=\"data row17 col7\" >-0.064761</td>\n",
              "                        <td id=\"T_c2d4e657_3f44_11eb_a3e5_988389cc19e5row17_col8\" class=\"data row17 col8\" >0.101030</td>\n",
              "                        <td id=\"T_c2d4e657_3f44_11eb_a3e5_988389cc19e5row17_col9\" class=\"data row17 col9\" >-0.097288</td>\n",
              "                        <td id=\"T_c2d4e657_3f44_11eb_a3e5_988389cc19e5row17_col10\" class=\"data row17 col10\" >-0.097016</td>\n",
              "                        <td id=\"T_c2d4e657_3f44_11eb_a3e5_988389cc19e5row17_col11\" class=\"data row17 col11\" >-0.077413</td>\n",
              "                        <td id=\"T_c2d4e657_3f44_11eb_a3e5_988389cc19e5row17_col12\" class=\"data row17 col12\" >-0.066649</td>\n",
              "                        <td id=\"T_c2d4e657_3f44_11eb_a3e5_988389cc19e5row17_col13\" class=\"data row17 col13\" >-0.026586</td>\n",
              "                        <td id=\"T_c2d4e657_3f44_11eb_a3e5_988389cc19e5row17_col14\" class=\"data row17 col14\" >-0.050947</td>\n",
              "                        <td id=\"T_c2d4e657_3f44_11eb_a3e5_988389cc19e5row17_col15\" class=\"data row17 col15\" >-0.229896</td>\n",
              "                        <td id=\"T_c2d4e657_3f44_11eb_a3e5_988389cc19e5row17_col16\" class=\"data row17 col16\" >0.229896</td>\n",
              "                        <td id=\"T_c2d4e657_3f44_11eb_a3e5_988389cc19e5row17_col17\" class=\"data row17 col17\" >1.000000</td>\n",
              "            </tr>\n",
              "    </tbody></table>"
            ],
            "text/plain": [
              "<pandas.io.formats.style.Styler at 0x2592b8cebb0>"
            ]
          },
          "metadata": {
            "tags": []
          },
          "execution_count": 124
        }
      ]
    },
    {
      "cell_type": "markdown",
      "metadata": {
        "id": "BrPGRx1w15Gf"
      },
      "source": [
        "### O tamanho do tumor influencia o tempo de recorrência?\n",
        "A pergunta original \"O tamanho do tumor influencia na recorrência?\" não pode ser respondida. Conseguimos ver inconsistência nos dados entre as colunas Recurrence e TimeToRecurrence."
      ]
    },
    {
      "cell_type": "code",
      "metadata": {
        "id": "gnyf4_ux15Gf",
        "outputId": "76493654-227a-4b78-d7e0-957c5b79a205"
      },
      "source": [
        "# Correlation\n",
        "df['TimeToRecurrence'].corr(df['TVol'])\n",
        "\n",
        "# indicates a insignificant correlation."
      ],
      "execution_count": null,
      "outputs": [
        {
          "output_type": "execute_result",
          "data": {
            "text/plain": [
              "-0.1078873618484599"
            ]
          },
          "metadata": {
            "tags": []
          },
          "execution_count": 125
        }
      ]
    },
    {
      "cell_type": "code",
      "metadata": {
        "id": "qKD5LVDU15Gf",
        "outputId": "86cf8c15-925b-4b02-95c9-c45d7f84d6b7"
      },
      "source": [
        "# the distribuition of TVol categories show us higher agglomeration in TVol = 2, indicating that data cleaning is necessary\n",
        "sns.catplot(x=\"TVol\", y=\"TimeToRecurrence\", kind=\"swarm\", data= df)"
      ],
      "execution_count": null,
      "outputs": [
        {
          "output_type": "execute_result",
          "data": {
            "text/plain": [
              "<seaborn.axisgrid.FacetGrid at 0x25930f2c100>"
            ]
          },
          "metadata": {
            "tags": []
          },
          "execution_count": 126
        },
        {
          "output_type": "display_data",
          "data": {
            "image/png": "[encoded data removed]",
            "text/plain": [
              "<Figure size 360x360 with 1 Axes>"
            ]
          },
          "metadata": {
            "tags": []
          }
        }
      ]
    },
    {
      "cell_type": "code",
      "metadata": {
        "scrolled": true,
        "id": "tWT4j5uj15Gg",
        "outputId": "4fd6895f-2fbc-470a-942f-c8d05424c2f8"
      },
      "source": [
        "# inconsistency\n",
        "sns.barplot(data=df, x=\"Recurrence\", y=\"TimeToRecurrence\")"
      ],
      "execution_count": null,
      "outputs": [
        {
          "output_type": "execute_result",
          "data": {
            "text/plain": [
              "<matplotlib.axes._subplots.AxesSubplot at 0x25931059cd0>"
            ]
          },
          "metadata": {
            "tags": []
          },
          "execution_count": 127
        },
        {
          "output_type": "display_data",
          "data": {
            "image/png": "[encoded data removed]",
            "text/plain": [
              "<Figure size 432x288 with 1 Axes>"
            ]
          },
          "metadata": {
            "tags": []
          }
        }
      ]
    },
    {
      "cell_type": "code",
      "metadata": {
        "id": "JWTlrqwI15Gg",
        "outputId": "701a134f-64d5-46c6-f089-46b8f699ae1c"
      },
      "source": [
        "# if count the positive censoring indicator, we will have the same number of non-recurrences\n",
        "# maybe, all non-recurrences cases are recurrence cases\n",
        "rec = df['Recurrence'].value_counts()\n",
        "censor = df['Censor'].value_counts()\n",
        "\n",
        "print(rec)\n",
        "print(censor)"
      ],
      "execution_count": null,
      "outputs": [
        {
          "output_type": "stream",
          "text": [
            "0    248\n",
            "1     49\n",
            "Name: Recurrence, dtype: int64\n",
            "1    248\n",
            "0     49\n",
            "Name: Censor, dtype: int64\n"
          ],
          "name": "stdout"
        }
      ]
    },
    {
      "cell_type": "markdown",
      "metadata": {
        "id": "uA9sdAQP15Gh"
      },
      "source": [
        "### Alguma terapia adjuvante é eficaz para que não haja recorrência?\n",
        "Esta questão tem o mesmo problema da anterior: dados inconsistentes.\n",
        "Então, vamos olhar para o tempo de recorrência."
      ]
    },
    {
      "cell_type": "code",
      "metadata": {
        "scrolled": true,
        "id": "uowKvdo315Gh",
        "outputId": "831cbed9-c78e-493d-841c-a3079ee7fd98"
      },
      "source": [
        "# agglomeration cases in 0 to Any Adjuvant Therapy. \n",
        "# This could answer something positive about adjuvant therapies, but we see the need for data cleaning.\n",
        "sns.catplot(data = df, x = \"AnyAdjTherapy\", y = \"TimeToRecurrence\")"
      ],
      "execution_count": null,
      "outputs": [
        {
          "output_type": "execute_result",
          "data": {
            "text/plain": [
              "<seaborn.axisgrid.FacetGrid at 0x259312321f0>"
            ]
          },
          "metadata": {
            "tags": []
          },
          "execution_count": 129
        },
        {
          "output_type": "display_data",
          "data": {
            "image/png": "[encoded data removed]",
            "text/plain": [
              "<Figure size 360x360 with 1 Axes>"
            ]
          },
          "metadata": {
            "tags": []
          }
        }
      ]
    },
    {
      "cell_type": "code",
      "metadata": {
        "id": "oS5yU1F-15Gi",
        "outputId": "e45a7a97-2508-4322-a2bf-2d55fb97710c"
      },
      "source": [
        "# the same for radiation therapy\n",
        "sns.catplot(data = df, x = \"AdjRadTherapy\", y = \"TimeToRecurrence\")"
      ],
      "execution_count": null,
      "outputs": [
        {
          "output_type": "execute_result",
          "data": {
            "text/plain": [
              "<seaborn.axisgrid.FacetGrid at 0x2592c4089d0>"
            ]
          },
          "metadata": {
            "tags": []
          },
          "execution_count": 130
        },
        {
          "output_type": "display_data",
          "data": {
            "image/png": "[encoded data removed]",
            "text/plain": [
              "<Figure size 360x360 with 1 Axes>"
            ]
          },
          "metadata": {
            "tags": []
          }
        }
      ]
    },
    {
      "cell_type": "markdown",
      "metadata": {
        "id": "QOgsLlQ615Gi"
      },
      "source": [
        "### Existe um tempo de recorrência apenas em pacientes que tiveram um escore de Gleason alto?\n",
        "    O conjunto de dados tem duas colunas com Gleason Score, sGS e bGS. Eles são normalizados de maneiras diferentes.\n",
        "    Enquanto sGS tem categorias entre 1 e 4, bGS tem categorias entre 1 e 3."
      ]
    },
    {
      "cell_type": "code",
      "metadata": {
        "id": "RaVN_BrJ15Gj",
        "outputId": "3659a5a4-4268-4008-fd70-68ace4484e48"
      },
      "source": [
        "df['sGS'].value_counts()"
      ],
      "execution_count": null,
      "outputs": [
        {
          "output_type": "execute_result",
          "data": {
            "text/plain": [
              "3    165\n",
              "2     74\n",
              "1     37\n",
              "4     21\n",
              "Name: sGS, dtype: int64"
            ]
          },
          "metadata": {
            "tags": []
          },
          "execution_count": 131
        }
      ]
    },
    {
      "cell_type": "code",
      "metadata": {
        "scrolled": true,
        "id": "6zbB5w5g15Gj",
        "outputId": "42e8e7ac-e9b6-4fe4-b020-6939489829ad"
      },
      "source": [
        "df['bGS'].value_counts()"
      ],
      "execution_count": null,
      "outputs": [
        {
          "output_type": "execute_result",
          "data": {
            "text/plain": [
              "1.0    173\n",
              "2.0     92\n",
              "3.0     32\n",
              "Name: bGS, dtype: int64"
            ]
          },
          "metadata": {
            "tags": []
          },
          "execution_count": 132
        }
      ]
    },
    {
      "cell_type": "code",
      "metadata": {
        "id": "N7JTq99615Gk"
      },
      "source": [
        "# transform float in int\n",
        "df[\"bGS\"] =  df[\"bGS\"].astype(int)"
      ],
      "execution_count": null,
      "outputs": []
    },
    {
      "cell_type": "code",
      "metadata": {
        "id": "neKwCZdi15Gk",
        "outputId": "6eb832a0-4b4b-477a-c361-81d9d9f8b668"
      },
      "source": [
        "# transform categorical data \n",
        "df[\"sGS\"] = df[\"sGS\"].replace(1, 0)\n",
        "df[\"sGS\"] = df[\"sGS\"].replace(2, 1)\n",
        "df[\"sGS\"] = df[\"sGS\"].replace(3, 2)\n",
        "df[\"sGS\"] = df[\"sGS\"].replace(4, 3)\n",
        "\n",
        "df['sGS'].value_counts()"
      ],
      "execution_count": null,
      "outputs": [
        {
          "output_type": "execute_result",
          "data": {
            "text/plain": [
              "2    165\n",
              "1     74\n",
              "0     37\n",
              "3     21\n",
              "Name: sGS, dtype: int64"
            ]
          },
          "metadata": {
            "tags": []
          },
          "execution_count": 134
        }
      ]
    },
    {
      "cell_type": "code",
      "metadata": {
        "scrolled": true,
        "id": "vb8wQ4GP15Gt",
        "outputId": "0e944cc1-0ab2-4d9a-fcd3-52994c074888"
      },
      "source": [
        "# comparison between surgical and biopsy Gleason Score\n",
        "# they are very different, but that doesn't mean incorrect.\n",
        "plt.figure(figsize=(10,7))\n",
        "plt.hist(df[\"sGS\"])\n",
        "plt.hist(df[\"bGS\"])"
      ],
      "execution_count": null,
      "outputs": [
        {
          "output_type": "execute_result",
          "data": {
            "text/plain": [
              "(array([173.,   0.,   0.,   0.,   0.,  92.,   0.,   0.,   0.,  32.]),\n",
              " array([1. , 1.2, 1.4, 1.6, 1.8, 2. , 2.2, 2.4, 2.6, 2.8, 3. ]),\n",
              " <a list of 10 Patch objects>)"
            ]
          },
          "metadata": {
            "tags": []
          },
          "execution_count": 135
        },
        {
          "output_type": "display_data",
          "data": {
            "image/png": "[encoded data removed]",
            "text/plain": [
              "<Figure size 720x504 with 1 Axes>"
            ]
          },
          "metadata": {
            "tags": []
          }
        }
      ]
    },
    {
      "cell_type": "code",
      "metadata": {
        "scrolled": false,
        "id": "Lwe7DuS215Gv",
        "outputId": "85ee8c8a-9549-4eb2-9172-2ba42f04592f"
      },
      "source": [
        "# the surgery score may be more accurate than the biopsy score, so let's use it.\n",
        "sns.barplot(data = df, x = \"sGS\", y = \"TimeToRecurrence\")\n",
        "\n",
        "# The answer is no."
      ],
      "execution_count": null,
      "outputs": [
        {
          "output_type": "execute_result",
          "data": {
            "text/plain": [
              "<matplotlib.axes._subplots.AxesSubplot at 0x2593135a670>"
            ]
          },
          "metadata": {
            "tags": []
          },
          "execution_count": 136
        },
        {
          "output_type": "display_data",
          "data": {
            "image/png": "[encoded data removed]",
            "text/plain": [
              "<Figure size 432x288 with 1 Axes>"
            ]
          },
          "metadata": {
            "tags": []
          }
        }
      ]
    },
    {
      "cell_type": "markdown",
      "metadata": {
        "id": "0wH-FdOd15Gw"
      },
      "source": [
        "#### Bônus\n",
        "K-means entre o tempo de recorrência e PSA pré-operatório"
      ]
    },
    {
      "cell_type": "code",
      "metadata": {
        "id": "CFUvnGzM15Gw"
      },
      "source": [
        "from sklearn import preprocessing\n",
        "from sklearn.preprocessing import OrdinalEncoder\n",
        "from sklearn.cluster import KMeans"
      ],
      "execution_count": null,
      "outputs": []
    },
    {
      "cell_type": "code",
      "metadata": {
        "id": "UfpsFhPC15Gx"
      },
      "source": [
        "timeToRecurrenceEncoder = preprocessing.LabelEncoder()\n",
        "\n",
        "# Instanciamos a classe LabelEncoder() acima, mas para transformar os dados precisamos que a classe:\n",
        "#   1. aprenda qual vai ser o número de cada string: método fit()\n",
        "#   2. transforme os dados em números: método transform\n",
        "timeToRecurrenceEncoder.fit(df['TimeToRecurrence'])\n",
        "timeToRecurrence = timeToRecurrenceEncoder.transform(df['TimeToRecurrence'])"
      ],
      "execution_count": null,
      "outputs": []
    },
    {
      "cell_type": "code",
      "metadata": {
        "id": "Hq7fLKnB15Gx"
      },
      "source": [
        "df[\"TimeToRecurrence\"] = timeToRecurrence"
      ],
      "execution_count": null,
      "outputs": []
    },
    {
      "cell_type": "code",
      "metadata": {
        "id": "2OOZ6eYh15Gx",
        "outputId": "b8a1c297-579f-449a-c3cb-d7c173cc7e80"
      },
      "source": [
        "# remember scatterplot\n",
        "sns.scatterplot(data = df, x = \"TimeToRecurrence\", y = \"PreopPSA\")"
      ],
      "execution_count": null,
      "outputs": [
        {
          "output_type": "execute_result",
          "data": {
            "text/plain": [
              "<matplotlib.axes._subplots.AxesSubplot at 0x25930f20bb0>"
            ]
          },
          "metadata": {
            "tags": []
          },
          "execution_count": 170
        },
        {
          "output_type": "display_data",
          "data": {
            "image/png": "[encoded data removed]",
            "text/plain": [
              "<Figure size 432x288 with 1 Axes>"
            ]
          },
          "metadata": {
            "tags": []
          }
        }
      ]
    },
    {
      "cell_type": "code",
      "metadata": {
        "id": "shJK2Vl115Gy"
      },
      "source": [
        "df_group = df[[\"TimeToRecurrence\", \"PreopPSA\"]]"
      ],
      "execution_count": null,
      "outputs": []
    },
    {
      "cell_type": "code",
      "metadata": {
        "id": "CczAuaF415Gy"
      },
      "source": [
        "kmeans = KMeans(n_clusters=4)"
      ],
      "execution_count": null,
      "outputs": []
    },
    {
      "cell_type": "code",
      "metadata": {
        "id": "5bD04Y6B15Gz",
        "outputId": "4ecc1edb-16da-4958-c318-2ef2e9bc543b"
      },
      "source": [
        "kmeans.fit(df_group)"
      ],
      "execution_count": null,
      "outputs": [
        {
          "output_type": "execute_result",
          "data": {
            "text/plain": [
              "KMeans(n_clusters=4)"
            ]
          },
          "metadata": {
            "tags": []
          },
          "execution_count": 173
        }
      ]
    },
    {
      "cell_type": "code",
      "metadata": {
        "id": "YIwOj_m515Gz",
        "outputId": "a8a3baf9-38dd-4830-b78c-faeef667543c"
      },
      "source": [
        "kmeans.labels_"
      ],
      "execution_count": null,
      "outputs": [
        {
          "output_type": "execute_result",
          "data": {
            "text/plain": [
              "array([1, 0, 3, 2, 1, 2, 3, 1, 0, 3, 1, 0, 2, 3, 1, 2, 2, 2, 0, 2, 0, 2,\n",
              "       2, 3, 0, 1, 0, 0, 0, 3, 0, 0, 2, 0, 2, 0, 0, 1, 1, 1, 0, 1, 3, 1,\n",
              "       3, 0, 3, 0, 1, 2, 2, 2, 2, 2, 1, 3, 0, 1, 0, 3, 0, 2, 1, 3, 0, 3,\n",
              "       2, 3, 2, 2, 2, 2, 2, 2, 3, 1, 0, 1, 1, 1, 2, 0, 2, 1, 1, 0, 3, 2,\n",
              "       1, 2, 0, 0, 3, 3, 2, 2, 2, 1, 1, 3, 3, 0, 2, 2, 0, 2, 3, 2, 2, 3,\n",
              "       3, 3, 1, 3, 2, 3, 3, 3, 2, 2, 3, 2, 0, 1, 3, 2, 2, 2, 2, 0, 2, 3,\n",
              "       2, 2, 0, 3, 1, 2, 2, 2, 2, 0, 0, 1, 3, 0, 0, 1, 1, 0, 2, 2, 1, 2,\n",
              "       1, 2, 2, 3, 3, 2, 0, 2, 0, 3, 2, 1, 0, 2, 3, 2, 0, 0, 2, 1, 3, 1,\n",
              "       2, 1, 0, 2, 2, 0, 3, 3, 0, 0, 0, 0, 2, 3, 3, 3, 0, 2, 3, 0, 3, 0,\n",
              "       3, 2, 0, 1, 0, 3, 0, 1, 0, 0, 0, 1, 0, 3, 1, 0, 3, 1, 0, 3, 1, 0,\n",
              "       0, 1, 0, 3, 3, 0, 0, 3, 0, 1, 0, 0, 3, 0, 0, 3, 1, 0, 3, 3, 3, 3,\n",
              "       3, 0, 3, 3, 0, 3, 3, 3, 3, 1, 1, 1, 3, 1, 1, 1, 3, 1, 3, 1, 1, 1,\n",
              "       1, 1, 3, 1, 1, 1, 1, 1, 1, 1, 1, 1, 1, 1, 1, 1, 1, 1, 1, 1, 1, 1,\n",
              "       1, 1, 0, 1, 1, 3, 3, 2, 2, 3, 3])"
            ]
          },
          "metadata": {
            "tags": []
          },
          "execution_count": 174
        }
      ]
    },
    {
      "cell_type": "code",
      "metadata": {
        "id": "qxvlF8qV15G3",
        "outputId": "7ca6a458-53f0-4cd9-ca7a-d900f42166eb"
      },
      "source": [
        "sns.scatterplot(data=df_group, x=\"TimeToRecurrence\", y=\"PreopPSA\", hue=kmeans.labels_)"
      ],
      "execution_count": null,
      "outputs": [
        {
          "output_type": "execute_result",
          "data": {
            "text/plain": [
              "<matplotlib.axes._subplots.AxesSubplot at 0x25930bb8610>"
            ]
          },
          "metadata": {
            "tags": []
          },
          "execution_count": 175
        },
        {
          "output_type": "display_data",
          "data": {
            "image/png": "[encoded data removed]",
            "text/plain": [
              "<Figure size 432x288 with 1 Axes>"
            ]
          },
          "metadata": {
            "tags": []
          }
        }
      ]
    },
    {
      "cell_type": "markdown",
      "metadata": {
        "id": "VyBN2uI_15G4"
      },
      "source": [
        "### Conclusão deste projeto.\n",
        "    Neste projeto, foi possível aprender a importância de ter um conjunto de dados limpo antes de começar a extrair qualquer informação.\n",
        "    Por exemplo, o conjunto de dados é muito desequilibrado, como pode ser visto em muitas visualizações. Para validar isso, várias coisas podem ser feitas, como reestruturação de dados com Undersampling, por exemplo.\n",
        "    Outra grande falha encontrada neste conjunto de dados foi a quantidade de dados inconsistentes, como pode ser visto na primeira pergunta. Isso não pode ser evitado, mas podemos avaliar desconsiderando a coluna e usar TimeToRecurrence como verdadeiro.\n",
        "    Trabalhos futuros incluem mais exploração e limpeza de dados, avaliando se há informações redundantes."
      ]
    }
  ]
}